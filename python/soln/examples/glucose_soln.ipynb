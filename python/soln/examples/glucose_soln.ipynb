{
 "cells": [
  {
   "cell_type": "markdown",
   "metadata": {},
   "source": [
    "# The Glucose Minimal Model"
   ]
  },
  {
   "cell_type": "markdown",
   "metadata": {},
   "source": [
    "*Modeling and Simulation in Python*\n",
    "\n",
    "Copyright 2021 Allen Downey\n",
    "\n",
    "License: [Creative Commons Attribution-NonCommercial-ShareAlike 4.0 International](https://creativecommons.org/licenses/by-nc-sa/4.0/)"
   ]
  },
  {
   "cell_type": "code",
   "execution_count": 1,
   "metadata": {
    "tags": [
     "remove-cell"
    ]
   },
   "outputs": [],
   "source": [
    "# install Pint if necessary\n",
    "\n",
    "try:\n",
    "    import pint\n",
    "except ImportError:\n",
    "    !pip install pint"
   ]
  },
  {
   "cell_type": "code",
   "execution_count": 2,
   "metadata": {
    "tags": [
     "remove-cell"
    ]
   },
   "outputs": [],
   "source": [
    "# download modsim.py if necessary\n",
    "\n",
    "from os.path import basename, exists\n",
    "\n",
    "def download(url):\n",
    "    filename = basename(url)\n",
    "    if not exists(filename):\n",
    "        from urllib.request import urlretrieve\n",
    "        local, _ = urlretrieve(url, filename)\n",
    "        print('Downloaded ' + local)\n",
    "    \n",
    "download('https://raw.githubusercontent.com/AllenDowney/' +\n",
    "         'ModSim/main/modsim.py')"
   ]
  },
  {
   "cell_type": "code",
   "execution_count": 3,
   "metadata": {
    "tags": [
     "remove-cell"
    ]
   },
   "outputs": [],
   "source": [
    "# import functions from modsim\n",
    "\n",
    "from modsim import *"
   ]
  },
  {
   "cell_type": "markdown",
   "metadata": {},
   "source": []
  },
  {
   "cell_type": "code",
   "execution_count": 4,
   "metadata": {},
   "outputs": [],
   "source": [
    "download('https://raw.githubusercontent.com/AllenDowney/' +\n",
    "         'ModSim/main/data/glucose_insulin.csv')"
   ]
  },
  {
   "cell_type": "code",
   "execution_count": 5,
   "metadata": {},
   "outputs": [],
   "source": [
    "data = pd.read_csv('glucose_insulin.csv', index_col='time');"
   ]
  },
  {
   "cell_type": "code",
   "execution_count": 6,
   "metadata": {},
   "outputs": [],
   "source": [
    "G0 = 270\n",
    "k1 = 0.02\n",
    "k2 = 0.02\n",
    "k3 = 1.5e-05"
   ]
  },
  {
   "cell_type": "code",
   "execution_count": 7,
   "metadata": {},
   "outputs": [],
   "source": [
    "params = G0, k1, k2, k3"
   ]
  },
  {
   "cell_type": "markdown",
   "metadata": {},
   "source": [
    "`make_system` takes the parameters and actual data and returns a `System` object."
   ]
  },
  {
   "cell_type": "code",
   "execution_count": 8,
   "metadata": {},
   "outputs": [],
   "source": [
    "from chap18 import make_system\n",
    "from chap18 import slope_func"
   ]
  },
  {
   "cell_type": "code",
   "execution_count": 9,
   "metadata": {},
   "outputs": [],
   "source": [
    "system = make_system(params, data)"
   ]
  },
  {
   "cell_type": "markdown",
   "metadata": {},
   "source": [
    "Here's how we run the ODE solver."
   ]
  },
  {
   "cell_type": "code",
   "execution_count": 10,
   "metadata": {},
   "outputs": [],
   "source": [
    "results, details = run_solve_ivp(system, slope_func, \n",
    "                                  t_eval=data.index)"
   ]
  },
  {
   "cell_type": "markdown",
   "metadata": {},
   "source": []
  },
  {
   "cell_type": "code",
   "execution_count": 11,
   "metadata": {},
   "outputs": [
    {
     "data": {
      "text/plain": [
       "'The solver successfully reached the end of the integration interval.'"
      ]
     },
     "execution_count": 11,
     "metadata": {},
     "output_type": "execute_result"
    }
   ],
   "source": [
    "details.message"
   ]
  },
  {
   "cell_type": "code",
   "execution_count": 12,
   "metadata": {},
   "outputs": [
    {
     "data": {
      "text/html": [
       "<div>\n",
       "<style scoped>\n",
       "    .dataframe tbody tr th:only-of-type {\n",
       "        vertical-align: middle;\n",
       "    }\n",
       "\n",
       "    .dataframe tbody tr th {\n",
       "        vertical-align: top;\n",
       "    }\n",
       "\n",
       "    .dataframe thead th {\n",
       "        text-align: right;\n",
       "    }\n",
       "</style>\n",
       "<table border=\"1\" class=\"dataframe\">\n",
       "  <thead>\n",
       "    <tr style=\"text-align: right;\">\n",
       "      <th></th>\n",
       "      <th>G</th>\n",
       "      <th>X</th>\n",
       "    </tr>\n",
       "  </thead>\n",
       "  <tbody>\n",
       "    <tr>\n",
       "      <th>0</th>\n",
       "      <td>270.000000</td>\n",
       "      <td>0.000000</td>\n",
       "    </tr>\n",
       "    <tr>\n",
       "      <th>2</th>\n",
       "      <td>262.980942</td>\n",
       "      <td>0.000240</td>\n",
       "    </tr>\n",
       "    <tr>\n",
       "      <th>4</th>\n",
       "      <td>255.683455</td>\n",
       "      <td>0.002525</td>\n",
       "    </tr>\n",
       "    <tr>\n",
       "      <th>6</th>\n",
       "      <td>247.315442</td>\n",
       "      <td>0.005174</td>\n",
       "    </tr>\n",
       "    <tr>\n",
       "      <th>8</th>\n",
       "      <td>238.271851</td>\n",
       "      <td>0.006602</td>\n",
       "    </tr>\n",
       "  </tbody>\n",
       "</table>\n",
       "</div>"
      ],
      "text/plain": [
       "            G         X\n",
       "0  270.000000  0.000000\n",
       "2  262.980942  0.000240\n",
       "4  255.683455  0.002525\n",
       "6  247.315442  0.005174\n",
       "8  238.271851  0.006602"
      ]
     },
     "execution_count": 12,
     "metadata": {},
     "output_type": "execute_result"
    }
   ],
   "source": [
    "results.head()"
   ]
  },
  {
   "cell_type": "code",
   "execution_count": 13,
   "metadata": {},
   "outputs": [
    {
     "data": {
      "image/png": "[encoded data removed]",
      "text/plain": [
       "<Figure size 432x288 with 1 Axes>"
      ]
     },
     "metadata": {
      "needs_background": "light"
     },
     "output_type": "display_data"
    }
   ],
   "source": [
    "data.glucose.plot(style='o', alpha=0.5, label='data')\n",
    "results.G.plot(style='-', color='C0', label='model')\n",
    "\n",
    "decorate(xlabel='Time (min)',\n",
    "         ylabel='Concentration (mg/dL)')"
   ]
  },
  {
   "cell_type": "code",
   "execution_count": 14,
   "metadata": {},
   "outputs": [
    {
     "data": {
      "text/plain": [
       "0    178.000000\n",
       "2    -87.019058\n",
       "4    -31.316545\n",
       "6     -3.684558\n",
       "8     -1.728149\n",
       "dtype: float64"
      ]
     },
     "execution_count": 14,
     "metadata": {},
     "output_type": "execute_result"
    }
   ],
   "source": [
    "errors = results.G - data.glucose\n",
    "errors.head()"
   ]
  },
  {
   "cell_type": "code",
   "execution_count": 15,
   "metadata": {},
   "outputs": [
    {
     "data": {
      "text/plain": [
       "count    21.000000\n",
       "mean      4.060127\n",
       "std       3.742106\n",
       "min       0.046105\n",
       "25%       1.002881\n",
       "50%       3.302437\n",
       "75%       6.984791\n",
       "max      13.294083\n",
       "dtype: float64"
      ]
     },
     "execution_count": 15,
     "metadata": {},
     "output_type": "execute_result"
    }
   ],
   "source": [
    "errors.iloc[3:].abs().describe()"
   ]
  },
  {
   "cell_type": "markdown",
   "metadata": {},
   "source": [
    "## Optimization\n",
    "\n",
    "Now let's find the parameters that yield the best fit for the data.  \n",
    "\n",
    "We'll use these values as an initial estimate and iteratively improve them.\n",
    "\n",
    "`error_func` takes the parameters and actual data, makes a `System` object, and runs `odeint`, then compares the results to the data.  It returns an array of errors."
   ]
  },
  {
   "cell_type": "code",
   "execution_count": 16,
   "metadata": {},
   "outputs": [],
   "source": [
    "def error_func(params, data):\n",
    "    \"\"\"Computes an array of errors to be minimized.\n",
    "    \n",
    "    params: sequence of parameters\n",
    "    data: DataFrame of values to be matched\n",
    "    \n",
    "    returns: array of errors\n",
    "    \"\"\"\n",
    "    print(params)\n",
    "    \n",
    "    # make a System with the given parameters\n",
    "    system = make_system(params, data)\n",
    "    \n",
    "    # solve the ODE\n",
    "    results, details = run_solve_ivp(system, slope_func, \n",
    "                                     t_eval=data.index)\n",
    "    \n",
    "    # compute the difference between the model\n",
    "    # results and actual data\n",
    "    errors = results.G - data.glucose\n",
    "    return errors.iloc[3:]"
   ]
  },
  {
   "cell_type": "markdown",
   "metadata": {},
   "source": [
    "When we call `error_func`, we provide a sequence of parameters as a single object."
   ]
  },
  {
   "cell_type": "markdown",
   "metadata": {},
   "source": [
    "Here's how that works:"
   ]
  },
  {
   "cell_type": "code",
   "execution_count": 17,
   "metadata": {},
   "outputs": [
    {
     "name": "stdout",
     "output_type": "stream",
     "text": [
      "(270, 0.02, 0.02, 1.5e-05)\n"
     ]
    },
    {
     "data": {
      "text/plain": [
       "6      -3.684558\n",
       "8      -1.728149\n",
       "10     13.294083\n",
       "12      9.425807\n",
       "14      6.752546\n",
       "16      7.353682\n",
       "19     -0.610979\n",
       "22      8.260041\n",
       "27      0.569221\n",
       "32      6.984791\n",
       "42      1.228652\n",
       "52      3.302437\n",
       "62      4.855592\n",
       "72      5.283959\n",
       "82      7.627294\n",
       "92      0.046105\n",
       "102    -0.105472\n",
       "122    -1.002881\n",
       "142     1.257581\n",
       "162     1.293945\n",
       "182    -0.594890\n",
       "dtype: float64"
      ]
     },
     "execution_count": 17,
     "metadata": {},
     "output_type": "execute_result"
    }
   ],
   "source": [
    "error_func(params, data)"
   ]
  },
  {
   "cell_type": "markdown",
   "metadata": {},
   "source": [
    "`leastsq` is a wrapper for `scipy.optimize.leastsq`\n",
    "\n",
    "Here's how we call it."
   ]
  },
  {
   "cell_type": "code",
   "execution_count": 18,
   "metadata": {},
   "outputs": [
    {
     "name": "stdout",
     "output_type": "stream",
     "text": [
      "[2.7e+02 2.0e-02 2.0e-02 1.5e-05]\n",
      "[2.7e+02 2.0e-02 2.0e-02 1.5e-05]\n",
      "[2.7e+02 2.0e-02 2.0e-02 1.5e-05]\n",
      "[2.70000004e+02 2.00000000e-02 2.00000000e-02 1.50000000e-05]\n",
      "[2.70000000e+02 2.00000003e-02 2.00000000e-02 1.50000000e-05]\n",
      "[2.70000000e+02 2.00000000e-02 2.00000003e-02 1.50000000e-05]\n",
      "[2.70000000e+02 2.00000000e-02 2.00000000e-02 1.50000002e-05]\n",
      "[2.71539223e+02 2.40776792e-02 1.85336372e-02 1.31312411e-05]\n",
      "[2.71539227e+02 2.40776792e-02 1.85336372e-02 1.31312411e-05]\n",
      "[2.71539223e+02 2.40776796e-02 1.85336372e-02 1.31312411e-05]\n",
      "[2.71539223e+02 2.40776792e-02 1.85336375e-02 1.31312411e-05]\n",
      "[2.71539223e+02 2.40776792e-02 1.85336372e-02 1.31312413e-05]\n",
      "[2.70733829e+02 2.35942255e-02 1.56223467e-02 1.29654857e-05]\n",
      "[2.70733833e+02 2.35942255e-02 1.56223467e-02 1.29654857e-05]\n",
      "[2.70733829e+02 2.35942259e-02 1.56223467e-02 1.29654857e-05]\n",
      "[2.70733829e+02 2.35942255e-02 1.56223469e-02 1.29654857e-05]\n",
      "[2.70733829e+02 2.35942255e-02 1.56223467e-02 1.29654859e-05]\n",
      "[2.73718410e+02 2.53505172e-02 1.83157923e-02 1.23470443e-05]\n",
      "[2.71304512e+02 2.40609632e-02 1.67167060e-02 1.27741850e-05]\n",
      "[2.71304516e+02 2.40609632e-02 1.67167060e-02 1.27741850e-05]\n",
      "[2.71304512e+02 2.40609635e-02 1.67167060e-02 1.27741850e-05]\n",
      "[2.71304512e+02 2.40609632e-02 1.67167063e-02 1.27741850e-05]\n",
      "[2.71304512e+02 2.40609632e-02 1.67167060e-02 1.27741852e-05]\n",
      "[2.71405873e+02 2.39600228e-02 1.59107310e-02 1.27989036e-05]\n",
      "[2.71405877e+02 2.39600228e-02 1.59107310e-02 1.27989036e-05]\n",
      "[2.71405873e+02 2.39600231e-02 1.59107310e-02 1.27989036e-05]\n",
      "[2.71405873e+02 2.39600228e-02 1.59107313e-02 1.27989036e-05]\n",
      "[2.71405873e+02 2.39600228e-02 1.59107310e-02 1.27989038e-05]\n",
      "[2.71595091e+02 2.40620048e-02 1.63747763e-02 1.28086893e-05]\n",
      "[2.71595095e+02 2.40620048e-02 1.63747763e-02 1.28086893e-05]\n",
      "[2.71595091e+02 2.40620051e-02 1.63747763e-02 1.28086893e-05]\n",
      "[2.71595091e+02 2.40620048e-02 1.63747765e-02 1.28086893e-05]\n",
      "[2.71595091e+02 2.40620048e-02 1.63747763e-02 1.28086895e-05]\n",
      "[2.71159403e+02 2.38372973e-02 1.58439939e-02 1.27814681e-05]\n",
      "[2.71581131e+02 2.40464514e-02 1.62886174e-02 1.27996019e-05]\n",
      "[2.71581135e+02 2.40464514e-02 1.62886174e-02 1.27996019e-05]\n",
      "[2.71581131e+02 2.40464518e-02 1.62886174e-02 1.27996019e-05]\n",
      "[2.71581131e+02 2.40464514e-02 1.62886176e-02 1.27996019e-05]\n",
      "[2.71581131e+02 2.40464514e-02 1.62886174e-02 1.27996021e-05]\n",
      "[2.71850560e+02 2.41980766e-02 1.61990523e-02 1.27961902e-05]\n",
      "[2.71659729e+02 2.41276247e-02 1.63163660e-02 1.27984201e-05]\n",
      "[2.71603594e+02 2.40811785e-02 1.63077912e-02 1.27990972e-05]\n",
      "[2.71603598e+02 2.40811785e-02 1.63077912e-02 1.27990972e-05]\n",
      "[2.71603594e+02 2.40811789e-02 1.63077912e-02 1.27990972e-05]\n",
      "[2.71603594e+02 2.40811785e-02 1.63077914e-02 1.27990972e-05]\n",
      "[2.71603594e+02 2.40811785e-02 1.63077912e-02 1.27990974e-05]\n",
      "[2.71611700e+02 2.40994468e-02 1.62778929e-02 1.27995030e-05]\n",
      "[2.71593507e+02 2.40872608e-02 1.62985087e-02 1.27992479e-05]\n",
      "[2.71596869e+02 2.40835414e-02 1.63046138e-02 1.27991515e-05]\n",
      "[2.71596873e+02 2.40835414e-02 1.63046138e-02 1.27991515e-05]\n",
      "[2.71596869e+02 2.40835418e-02 1.63046138e-02 1.27991515e-05]\n",
      "[2.71596869e+02 2.40835414e-02 1.63046141e-02 1.27991515e-05]\n",
      "[2.71596869e+02 2.40835414e-02 1.63046138e-02 1.27991517e-05]\n",
      "[2.71591679e+02 2.40876412e-02 1.62985380e-02 1.27992486e-05]\n",
      "[2.71594566e+02 2.40845320e-02 1.63032989e-02 1.27991734e-05]\n",
      "[2.71594570e+02 2.40845320e-02 1.63032989e-02 1.27991734e-05]\n",
      "[2.71594566e+02 2.40845323e-02 1.63032989e-02 1.27991734e-05]\n",
      "[2.71594566e+02 2.40845320e-02 1.63032992e-02 1.27991734e-05]\n",
      "[2.71594566e+02 2.40845320e-02 1.63032989e-02 1.27991736e-05]\n",
      "[2.71591651e+02 2.40863756e-02 1.63007210e-02 1.27992152e-05]\n",
      "[2.71593811e+02 2.40848870e-02 1.63028337e-02 1.27991811e-05]\n",
      "[2.71594189e+02 2.40847034e-02 1.63030764e-02 1.27991771e-05]\n",
      "[2.71594194e+02 2.40847034e-02 1.63030764e-02 1.27991771e-05]\n",
      "[2.71594189e+02 2.40847038e-02 1.63030764e-02 1.27991771e-05]\n",
      "[2.71594189e+02 2.40847034e-02 1.63030766e-02 1.27991771e-05]\n",
      "[2.71594189e+02 2.40847034e-02 1.63030764e-02 1.27991773e-05]\n",
      "[2.71593496e+02 2.40850410e-02 1.63026329e-02 1.27991844e-05]\n",
      "[2.71594034e+02 2.40847755e-02 1.63029830e-02 1.27991786e-05]\n",
      "[2.71594038e+02 2.40847755e-02 1.63029830e-02 1.27991786e-05]\n",
      "[2.71594034e+02 2.40847759e-02 1.63029830e-02 1.27991786e-05]\n",
      "[2.71594034e+02 2.40847755e-02 1.63029832e-02 1.27991786e-05]\n",
      "[2.71594034e+02 2.40847755e-02 1.63029830e-02 1.27991788e-05]\n",
      "[2.71594089e+02 2.40848296e-02 1.63030005e-02 1.27991782e-05]\n",
      "[2.71594093e+02 2.40848296e-02 1.63030005e-02 1.27991782e-05]\n",
      "[2.71594089e+02 2.40848299e-02 1.63030005e-02 1.27991782e-05]\n",
      "[2.71594089e+02 2.40848296e-02 1.63030008e-02 1.27991782e-05]\n",
      "[2.71594089e+02 2.40848296e-02 1.63030005e-02 1.27991784e-05]\n",
      "[2.71593972e+02 2.40848581e-02 1.63029709e-02 1.27991786e-05]\n",
      "[2.71593976e+02 2.40848581e-02 1.63029709e-02 1.27991786e-05]\n",
      "[2.71593972e+02 2.40848584e-02 1.63029709e-02 1.27991786e-05]\n",
      "[2.71593972e+02 2.40848581e-02 1.63029712e-02 1.27991786e-05]\n",
      "[2.71593972e+02 2.40848581e-02 1.63029709e-02 1.27991788e-05]\n",
      "[2.71594028e+02 2.40849121e-02 1.63029885e-02 1.27991782e-05]\n",
      "[2.71594032e+02 2.40849121e-02 1.63029885e-02 1.27991782e-05]\n",
      "[2.71594028e+02 2.40849125e-02 1.63029885e-02 1.27991782e-05]\n",
      "[2.71594028e+02 2.40849121e-02 1.63029888e-02 1.27991782e-05]\n",
      "[2.71594028e+02 2.40849121e-02 1.63029885e-02 1.27991784e-05]\n",
      "[2.71593969e+02 2.40849263e-02 1.63029737e-02 1.27991784e-05]\n",
      "[2.71593973e+02 2.40849263e-02 1.63029737e-02 1.27991784e-05]\n",
      "[2.71593969e+02 2.40849267e-02 1.63029737e-02 1.27991784e-05]\n",
      "[2.71593969e+02 2.40849263e-02 1.63029739e-02 1.27991784e-05]\n",
      "[2.71593969e+02 2.40849263e-02 1.63029737e-02 1.27991786e-05]\n",
      "[2.71593854e+02 2.40849546e-02 1.63029441e-02 1.27991788e-05]\n",
      "[2.71593858e+02 2.40849546e-02 1.63029441e-02 1.27991788e-05]\n",
      "[2.71593854e+02 2.40849550e-02 1.63029441e-02 1.27991788e-05]\n",
      "[2.71593854e+02 2.40849546e-02 1.63029443e-02 1.27991788e-05]\n",
      "[2.71593854e+02 2.40849546e-02 1.63029441e-02 1.27991790e-05]\n",
      "[2.71593966e+02 2.40850625e-02 1.63029791e-02 1.27991779e-05]\n",
      "[2.71593905e+02 2.40850044e-02 1.63029603e-02 1.27991784e-05]\n",
      "[2.71593878e+02 2.40849777e-02 1.63029516e-02 1.27991786e-05]\n"
     ]
    }
   ],
   "source": [
    "best_params, fit_details = leastsq(error_func, params, data)"
   ]
  },
  {
   "cell_type": "markdown",
   "metadata": {},
   "source": [
    "The first return value is an array with the best parameters:"
   ]
  },
  {
   "cell_type": "code",
   "execution_count": 19,
   "metadata": {},
   "outputs": [
    {
     "data": {
      "text/plain": [
       "array([2.71593854e+02, 2.40849546e-02, 1.63029441e-02, 1.27991788e-05])"
      ]
     },
     "execution_count": 19,
     "metadata": {},
     "output_type": "execute_result"
    }
   ],
   "source": [
    "best_params"
   ]
  },
  {
   "cell_type": "markdown",
   "metadata": {},
   "source": [
    "The second return value is a `ModSimSeries` object with information about the results."
   ]
  },
  {
   "cell_type": "code",
   "execution_count": 20,
   "metadata": {},
   "outputs": [
    {
     "data": {
      "text/plain": [
       "True"
      ]
     },
     "execution_count": 20,
     "metadata": {},
     "output_type": "execute_result"
    }
   ],
   "source": [
    "fit_details.success"
   ]
  },
  {
   "cell_type": "code",
   "execution_count": 21,
   "metadata": {},
   "outputs": [
    {
     "data": {
      "text/plain": [
       "'The relative error between two consecutive iterates is at most 0.000000'"
      ]
     },
     "execution_count": 21,
     "metadata": {},
     "output_type": "execute_result"
    }
   ],
   "source": [
    "fit_details.mesg"
   ]
  },
  {
   "cell_type": "markdown",
   "metadata": {},
   "source": [
    "Now that we have `best_params`, we can use it to make a `System` object and run it."
   ]
  },
  {
   "cell_type": "code",
   "execution_count": 22,
   "metadata": {},
   "outputs": [
    {
     "data": {
      "text/plain": [
       "'The solver successfully reached the end of the integration interval.'"
      ]
     },
     "execution_count": 22,
     "metadata": {},
     "output_type": "execute_result"
    }
   ],
   "source": [
    "system2 = make_system(best_params, data)\n",
    "results2, details = run_solve_ivp(system2, slope_func, \n",
    "                                 t_eval=data.index)\n",
    "details.message"
   ]
  },
  {
   "cell_type": "markdown",
   "metadata": {},
   "source": [
    "Here are the results, along with the data.  The first few points of the model don't fit the data, but we don't expect them to."
   ]
  },
  {
   "cell_type": "code",
   "execution_count": 23,
   "metadata": {},
   "outputs": [
    {
     "data": {
      "image/png": "[encoded data removed]",
      "text/plain": [
       "<Figure size 432x288 with 1 Axes>"
      ]
     },
     "metadata": {
      "needs_background": "light"
     },
     "output_type": "display_data"
    }
   ],
   "source": [
    "data.glucose.plot(style='o', alpha=0.5, label='data')\n",
    "results.G.plot(style='-', color='C0', label='model')\n",
    "\n",
    "decorate(xlabel='Time (min)',\n",
    "         ylabel='Concentration (mg/dL)')"
   ]
  },
  {
   "cell_type": "markdown",
   "metadata": {},
   "source": []
  },
  {
   "cell_type": "code",
   "execution_count": 24,
   "metadata": {},
   "outputs": [
    {
     "data": {
      "text/plain": [
       "0    179.593854\n",
       "2    -86.885731\n",
       "4    -32.457099\n",
       "6     -5.859291\n",
       "8     -4.873474\n",
       "dtype: float64"
      ]
     },
     "execution_count": 24,
     "metadata": {},
     "output_type": "execute_result"
    }
   ],
   "source": [
    "errors2 = results2.G - data.glucose\n",
    "errors2.head()"
   ]
  },
  {
   "cell_type": "code",
   "execution_count": 25,
   "metadata": {},
   "outputs": [
    {
     "data": {
      "text/plain": [
       "count    21.000000\n",
       "mean      3.143214\n",
       "std       2.352147\n",
       "min       0.423087\n",
       "25%       1.543342\n",
       "50%       2.129677\n",
       "75%       4.981683\n",
       "max       9.410441\n",
       "dtype: float64"
      ]
     },
     "execution_count": 25,
     "metadata": {},
     "output_type": "execute_result"
    }
   ],
   "source": [
    "errors2.iloc[3:].abs().describe()"
   ]
  },
  {
   "cell_type": "code",
   "execution_count": 26,
   "metadata": {},
   "outputs": [
    {
     "data": {
      "text/plain": [
       "(15.8999277933369, 15.206007804680405)"
      ]
     },
     "execution_count": 26,
     "metadata": {},
     "output_type": "execute_result"
    }
   ],
   "source": [
    "errors.abs().mean(), errors2.abs().mean()"
   ]
  },
  {
   "cell_type": "markdown",
   "metadata": {},
   "source": [
    "## Interpreting parameters\n",
    "\n",
    "On the other hand, the other parameters are meaningful; in fact, they\n",
    "are the reason the model is useful. Using the best-fit parameters, we\n",
    "can estimate two quantities of interest:\n",
    "\n",
    "-   \"Glucose effectiveness\", $E$, which is the tendency of elevated\n",
    "    glucose to cause depletion of glucose.\n",
    "\n",
    "-   \"Insulin sensitivity\", $S$, which is the ability of elevated blood\n",
    "    insulin to enhance glucose effectiveness.\n",
    "\n",
    "Glucose effectiveness is defined as the change in $dG/dt$ as we vary\n",
    "$G$: \n",
    "\n",
    "$$E \\equiv - \\frac{\\delta \\dot{G}}{\\delta G}$$ \n",
    "\n",
    "where $\\dot{G}$ is shorthand for $dG/dt$. Taking the derivative of $dG/dt$ with respect to $G$, we get \n",
    "\n",
    "$$E = k_1 + X$$ "
   ]
  },
  {
   "cell_type": "markdown",
   "metadata": {},
   "source": [
    "The **glucose effectiveness index**, $S_G$, is the value of $E$ when blood insulin is near its basal level, $I_b$.\n",
    "In that case, $X$ approaches 0 and $E$ approaches $k_1$. So we can use\n",
    "the best-fit value of $k_1$ as an estimate of $S_G$.\n",
    "\n",
    "Insulin sensitivity is defined as the change in $E$ as we vary $I$:\n",
    "\n",
    "$$S \\equiv - \\frac{\\delta E}{\\delta I}$$ "
   ]
  },
  {
   "cell_type": "markdown",
   "metadata": {},
   "source": [
    "The **insulin sensitivity index**, $S_I$, is the value of $S$ when $E$ and $I$ are at steady state: $$S_I \\equiv \\frac{\\delta E_{SS}}{\\delta I_{SS}}$$ $E$ and $I$ are at steady state when $dG/dt$ and $dX/dt$ are 0, but we don't actually have to solve those equations to find $S_I$. \n",
    "\n",
    "If we set $dX/dt = 0$ and solve for $X$, we find the relation:\n",
    "\n",
    "$$X_{SS} = \\frac{k_3}{k_2} I_{SS}$$ \n",
    "\n",
    "And since $E = k_1 + X$, we have:\n",
    "\n",
    "$$S_I = \\frac{\\delta E_{SS}}{\\delta I_{SS}} = \\frac{\\delta X_{SS}}{\\delta I_{SS}}$$\n",
    "\n",
    "Taking the derivative of $X_{SS}$ with respect to $I_{SS}$, we have:\n",
    "\n",
    "$$S_I = k_3 / k_2$$ \n",
    "\n",
    "So if we find parameters that make the model fit the data, we can use $k_3 / k_2$ as an estimate of $S_I$."
   ]
  },
  {
   "cell_type": "markdown",
   "metadata": {},
   "source": [
    "For the parameters we found that best fit the data, here are the estimated values of $S_G$ and $S_I$ "
   ]
  },
  {
   "cell_type": "code",
   "execution_count": 27,
   "metadata": {},
   "outputs": [
    {
     "data": {
      "text/html": [
       "<div>\n",
       "<style scoped>\n",
       "    .dataframe tbody tr th:only-of-type {\n",
       "        vertical-align: middle;\n",
       "    }\n",
       "\n",
       "    .dataframe tbody tr th {\n",
       "        vertical-align: top;\n",
       "    }\n",
       "\n",
       "    .dataframe thead th {\n",
       "        text-align: right;\n",
       "    }\n",
       "</style>\n",
       "<table border=\"1\" class=\"dataframe\">\n",
       "  <thead>\n",
       "    <tr style=\"text-align: right;\">\n",
       "      <th></th>\n",
       "      <th>value</th>\n",
       "    </tr>\n",
       "  </thead>\n",
       "  <tbody>\n",
       "    <tr>\n",
       "      <th>S_G</th>\n",
       "      <td>0.024085</td>\n",
       "    </tr>\n",
       "    <tr>\n",
       "      <th>S_I</th>\n",
       "      <td>0.000785</td>\n",
       "    </tr>\n",
       "  </tbody>\n",
       "</table>\n",
       "</div>"
      ],
      "text/plain": [
       "        value\n",
       "S_G  0.024085\n",
       "S_I  0.000785"
      ]
     },
     "execution_count": 27,
     "metadata": {},
     "output_type": "execute_result"
    }
   ],
   "source": [
    "G0, k1, k2, k3 = best_params\n",
    "indices = SimpleNamespace(S_G=k1, S_I=k3/k2)\n",
    "show(indices)"
   ]
  },
  {
   "cell_type": "markdown",
   "metadata": {},
   "source": [
    "According to [Boston et al](https://www.researchgate.net/publication/8931437_MINMOD_Millennium_A_Computer_Program_to_Calculate_Glucose_Effectiveness_and_Insulin_Sensitivity_From_the_Frequently_Sampled_Intravenous_Glucose_Tolerance_Test), normal ranges for these values are..."
   ]
  },
  {
   "cell_type": "code",
   "execution_count": 31,
   "metadata": {},
   "outputs": [
    {
     "data": {
      "text/plain": [
       "(0.0012, 0.045)"
      ]
     },
     "execution_count": 31,
     "metadata": {},
     "output_type": "execute_result"
    }
   ],
   "source": [
    "S_G_interval = 1.2e-3, 4.5e-2\n",
    "S_G_interval"
   ]
  },
  {
   "cell_type": "code",
   "execution_count": 32,
   "metadata": {},
   "outputs": [
    {
     "data": {
      "text/plain": [
       "(5e-05, 0.0022)"
      ]
     },
     "execution_count": 32,
     "metadata": {},
     "output_type": "execute_result"
    }
   ],
   "source": [
    "S_I_interval = 5.0e-5, 2.2e-3\n",
    "S_I_interval"
   ]
  },
  {
   "cell_type": "markdown",
   "metadata": {},
   "source": [
    "The estimated values are within the normal intervals."
   ]
  },
  {
   "cell_type": "markdown",
   "metadata": {},
   "source": [
    "## Exercises\n",
    "\n",
    "**Exercise:** Since we don't expect the first few points to agree, it's probably better not to make them part of the optimization process.  We can ignore them by leaving them out of the `Series` returned by `error_func`.  Modify the last line of `error_func` to return `errors.iloc[4:]`, which includes only the elements of the `Series` with index 4 and up.\n",
    "\n",
    "Does that improve the quality of the fit?  Does it change the best parameters by much?  Does it change the computed sensitivities by much?\n",
    "\n",
    "Note: You can read more about this use of `iloc` [in the Pandas documentation](https://pandas.pydata.org/pandas-docs/stable/indexing.html#indexing-integer)."
   ]
  },
  {
   "cell_type": "markdown",
   "metadata": {},
   "source": [
    "**Exercise:** How sensitive are the results to the starting guess for the parameters?  If you try different values for the starting guess, do we get the same values for the best parameters?"
   ]
  },
  {
   "cell_type": "code",
   "execution_count": null,
   "metadata": {},
   "outputs": [],
   "source": []
  }
 ],
 "metadata": {
  "kernelspec": {
   "display_name": "Python 3",
   "language": "python",
   "name": "python3"
  },
  "language_info": {
   "codemirror_mode": {
    "name": "ipython",
    "version": 3
   },
   "file_extension": ".py",
   "mimetype": "text/x-python",
   "name": "python",
   "nbconvert_exporter": "python",
   "pygments_lexer": "ipython3",
   "version": "3.9.1"
  }
 },
 "nbformat": 4,
 "nbformat_minor": 2
}
