{
 "cells": [
  {
   "cell_type": "markdown",
   "id": "august-parks",
   "metadata": {},
   "source": [
    "# Chapter 24"
   ]
  },
  {
   "cell_type": "markdown",
   "id": "suspended-puppy",
   "metadata": {
    "tags": [
     "remove-cell"
    ]
   },
   "source": [
    "*Modeling and Simulation in Python*\n",
    "\n",
    "Copyright 2021 Allen Downey\n",
    "\n",
    "License: [Creative Commons Attribution-NonCommercial-ShareAlike 4.0 International](https://creativecommons.org/licenses/by-nc-sa/4.0/)"
   ]
  },
  {
   "cell_type": "code",
   "execution_count": 1,
   "id": "broken-procedure",
   "metadata": {
    "tags": [
     "remove-cell"
    ]
   },
   "outputs": [],
   "source": [
    "# install Pint if necessary\n",
    "\n",
    "try:\n",
    "    import pint\n",
    "except ImportError:\n",
    "    !pip install pint"
   ]
  },
  {
   "cell_type": "code",
   "execution_count": 2,
   "id": "massive-thong",
   "metadata": {
    "tags": [
     "remove-cell"
    ]
   },
   "outputs": [],
   "source": [
    "# download modsim.py if necessary\n",
    "\n",
    "from os.path import exists\n",
    "\n",
    "filename = 'modsim.py'\n",
    "if not exists(filename):\n",
    "    from urllib.request import urlretrieve\n",
    "    url = 'https://raw.githubusercontent.com/AllenDowney/ModSim/main/'\n",
    "    local, _ = urlretrieve(url+filename, filename)\n",
    "    print('Downloaded ' + local)"
   ]
  },
  {
   "cell_type": "code",
   "execution_count": 3,
   "id": "experienced-junction",
   "metadata": {
    "tags": [
     "remove-cell"
    ]
   },
   "outputs": [],
   "source": [
    "# import functions from modsim\n",
    "\n",
    "from modsim import *"
   ]
  },
  {
   "cell_type": "markdown",
   "id": "composed-carol",
   "metadata": {},
   "source": [
    "In this chapter we model systems that involve rotating objects. "
   ]
  },
  {
   "cell_type": "markdown",
   "id": "documentary-network",
   "metadata": {},
   "source": [
    "## Rotation\n",
    "\n",
    "Rotation is complicated: in three dimensions, objects can rotate around three axes; objects are often easier to spin around some\n",
    "axes than others; and they may be stable when spinning around some axes but not others.\n",
    "\n",
    "If the configuration of an object changes over time, it might become\n",
    "easier or harder to spin, which explains the surprising dynamics of\n",
    "gymnasts, divers, ice skaters, etc.\n",
    "\n",
    "And when you apply a twisting force to a rotating object, the effect is often contrary to intuition. For an example, see this video on\n",
    "gyroscopic precession <http://modsimpy.com/precess>.\n",
    "\n",
    "In this chapter, we will not take on the physics of rotation in all its glory. Rather, we will focus on simple scenarios where all rotation and all twisting forces are around a single axis. In that case, we can treat some vector quantities as if they were scalars (in the same way that we sometimes treat velocity as a scalar with an implicit direction).\n",
    "\n",
    "This approach makes it possible to simulate and analyze many interesting systems, but you will also encounter systems that would be better approached with the more general toolkit."
   ]
  },
  {
   "cell_type": "markdown",
   "id": "political-acrylic",
   "metadata": {},
   "source": [
    "The fundamental ideas in this chapter and the next are **angular\n",
    "velocity**, **angular acceleration**, **torque**, and **moment of\n",
    "inertia**. If you are not already familiar with these concepts, I will\n",
    "define them as we go along, and I will point to additional reading.\n",
    "\n",
    "As a case study, you can use these tools to simulate the behavior of a yo-yo (see <http://modsimpy.com/yoyo>). But we'll work our way up to it gradually, starting with toilet paper."
   ]
  },
  {
   "cell_type": "markdown",
   "id": "integral-welsh",
   "metadata": {},
   "source": [
    "## The physics of toilet paper\n",
    "\n",
    "As a simple example of a system with rotation, we'll simulate the\n",
    "manufacture of a roll of toilet paper, as shown in this video <https://youtu.be/Z74OfpUbeac?t=231>. Starting with a cardboard tube at the center, we will roll up 47 m of paper, the typical length of a roll of toilet paper in the U.S. (see <http://modsimpy.com/paper>).\n",
    "\n",
    "![Diagram of a roll of toilet paper, showing change in paper length as a result of a small rotation, $d\\theta$.](figs/paper_roll.pdf){height=\"2.5in\"}\n",
    "\n",
    "This figure shows a diagram of the system: $r$ represents\n",
    "the radius of the roll at a point in time. Initially, $r$ is the radius of the cardboard core, $R_{min}$. When the roll is complete, $r$ is $R_{max}$.\n",
    "\n",
    "I'll use $\\theta$ to represent the total rotation of the roll in\n",
    "radians. In the diagram, $d\\theta$ represents a small increase in\n",
    "$\\theta$, which corresponds to a distance along the circumference of the roll of $r~d\\theta$."
   ]
  },
  {
   "cell_type": "markdown",
   "id": "political-prerequisite",
   "metadata": {},
   "source": [
    "Finally, I'll use $y$ to represent the total length of paper that's been rolled. Initially, $\\theta=0$ and $y=0$. For each small increase in $\\theta$, there is a corresponding increase in $y$: \n",
    "\n",
    "$$dy = r~d\\theta$$\n",
    "\n",
    "If we divide both sides by a small increase in time, $dt$, we get a\n",
    "differential equation for $y$ as a function of time.\n",
    "\n",
    "$$\\frac{dy}{dt} = r \\frac{d\\theta}{dt}$$ \n",
    "\n",
    "As we roll up the paper, $r$ increases, too. Assuming that $r$ increases by a fixed amount per revolution, we can write \n",
    "\n",
    "$$dr = k~d\\theta$$ \n",
    "\n",
    "Where $k$ is an unknown constant we'll have to figure out. Again, we can divide both sides by $dt$ to get a differential equation in time:\n",
    "\n",
    "$$\\frac{dr}{dt} = k \\frac{d\\theta}{dt}$$ \n",
    "\n",
    "Finally, let's assume that $\\theta$ increases at a constant rate of $\\omega = 300$ rad/s (about 2900 revolutions per minute): \n",
    "\n",
    "$$\\frac{d\\theta}{dt} = \\omega$$ \n",
    "\n",
    "This rate of change is called an **angular velocity**. Now we have a system of three differential equations we can use to simulate the system."
   ]
  },
  {
   "cell_type": "markdown",
   "id": "prostate-smell",
   "metadata": {},
   "source": [
    "## Implementation\n",
    "\n",
    "At this point we have a pretty standard process for writing simulations like this.\n",
    "\n",
    "First we'll create a `Params` object with the parameters of the system:"
   ]
  },
  {
   "cell_type": "code",
   "execution_count": 101,
   "id": "artificial-cotton",
   "metadata": {},
   "outputs": [],
   "source": [
    "\n",
    "\n",
    "m = units.meter\n",
    "rad = units.radian\n",
    "s = units.second"
   ]
  },
  {
   "cell_type": "code",
   "execution_count": 47,
   "id": "honey-translator",
   "metadata": {},
   "outputs": [],
   "source": [
    "\n",
    "\n",
    "params = Params(Rmin = 0.02 * m,\n",
    "                Rmax = 0.055 * m,\n",
    "                L = 47 * m,\n",
    "                theta_0 = 0 * rad,\n",
    "                y_0 = 0 * m,\n",
    "                omega = 300 * rad / s,\n",
    "                t_end = 130 * s\n",
    "               )"
   ]
  },
  {
   "cell_type": "markdown",
   "id": "caring-unemployment",
   "metadata": {},
   "source": [
    "`Rmin` and `Rmax` are the initial and final values for the radius, `r`.\n",
    "`L` is the total length of the paper. `t_end` is the length of the\n",
    "simulation in time, and `dt` is the time step for the ODE solver.\n",
    "\n",
    "We use the `Params` object to make a `System` object:"
   ]
  },
  {
   "cell_type": "code",
   "execution_count": 48,
   "id": "fresh-domestic",
   "metadata": {},
   "outputs": [],
   "source": [
    "\n",
    "\n",
    "def make_system(params):\n",
    "    init = State(theta = params.theta_0,\n",
    "                 y = params.y_0,\n",
    "                 r = params.Rmin\n",
    "                )\n",
    "    \n",
    "    k = estimate_k(params)\n",
    "\n",
    "    return System(params,\n",
    "                  init=init, \n",
    "                  k=k,\n",
    "                 )"
   ]
  },
  {
   "cell_type": "markdown",
   "id": "strong-harrison",
   "metadata": {},
   "source": [
    "The initial state contains three variables, `theta`, `y`, and `r`.\n",
    "\n",
    "`estimate_k` computes the parameter, `k`, that relates `theta` and `r`.\n",
    "Here's how it works:"
   ]
  },
  {
   "cell_type": "code",
   "execution_count": 49,
   "id": "common-sender",
   "metadata": {},
   "outputs": [],
   "source": [
    "from numpy import pi\n",
    "\n",
    "def estimate_k(params):\n",
    "    Rmin, Rmax, L = params.Rmin, params.Rmax, params.L\n",
    "    \n",
    "    Ravg = (Rmax + Rmin) / 2\n",
    "    Cavg = 2 * pi * Ravg\n",
    "    revs = L / Cavg\n",
    "    rads = 2 * pi * revs\n",
    "    k = (Rmax - Rmin) / rads\n",
    "    return k"
   ]
  },
  {
   "cell_type": "markdown",
   "id": "seasonal-cherry",
   "metadata": {},
   "source": [
    "`Ravg` is the average radius, half way between `Rmin` and `Rmax`, so\n",
    "`Cavg` is the circumference of the roll when `r` is `Ravg`.\n",
    "\n",
    "`revs` is the total number of revolutions it would take to roll up\n",
    "length `L` if `r` were constant at `Ravg`. And `rads` is just `revs`\n",
    "converted to radians.\n",
    "\n",
    "Finally, `k` is the change in `r` for each radian of revolution. For\n",
    "these parameters, `k` is about `2.8e-5` m/rad."
   ]
  },
  {
   "cell_type": "code",
   "execution_count": 50,
   "id": "fitting-might",
   "metadata": {},
   "outputs": [
    {
     "data": {
      "text/plain": [
       "theta      0 radian\n",
       "y           0 meter\n",
       "r        0.02 meter\n",
       "dtype: object"
      ]
     },
     "execution_count": 50,
     "metadata": {},
     "output_type": "execute_result"
    }
   ],
   "source": [
    "system = make_system(params)\n",
    "system.init"
   ]
  },
  {
   "cell_type": "code",
   "execution_count": 51,
   "id": "backed-vehicle",
   "metadata": {},
   "outputs": [
    {
     "data": {
      "text/html": [
       "2.7925531914893616×10<sup>-5</sup> meter"
      ],
      "text/latex": [
       "$2.7925531914893616\\times 10^{-5}\\ \\mathrm{meter}$"
      ],
      "text/plain": [
       "2.7925531914893616e-05 <Unit('meter')>"
      ]
     },
     "execution_count": 51,
     "metadata": {},
     "output_type": "execute_result"
    }
   ],
   "source": [
    "system.k"
   ]
  },
  {
   "cell_type": "markdown",
   "id": "beginning-artwork",
   "metadata": {},
   "source": [
    "Now we can use the differential equations from the previous section to\n",
    "write a slope function:"
   ]
  },
  {
   "cell_type": "code",
   "execution_count": 52,
   "id": "signed-eight",
   "metadata": {},
   "outputs": [],
   "source": [
    "def slope_func(t, state, system):\n",
    "    theta, y, r = state\n",
    "    k, omega = system.k, system.omega\n",
    "    \n",
    "    dydt = r * omega\n",
    "    drdt = k * omega\n",
    "    \n",
    "    return omega, dydt, drdt"
   ]
  },
  {
   "cell_type": "markdown",
   "id": "maritime-funds",
   "metadata": {},
   "source": [
    "As usual, the slope function takes a `State` object, a time, and a\n",
    "`System` object. The `State` object contains hypothetical values of\n",
    "`theta`, `y`, and `r` at time `t`. The job of the slope function is to\n",
    "compute the time derivatives of these values. The derivative of `theta` is angular velocity, which is often denoted `omega`."
   ]
  },
  {
   "cell_type": "markdown",
   "id": "trained-witness",
   "metadata": {},
   "source": [
    "And as usual, we'll test the slope function with the initial conditions."
   ]
  },
  {
   "cell_type": "code",
   "execution_count": 53,
   "id": "exterior-water",
   "metadata": {},
   "outputs": [
    {
     "data": {
      "text/plain": [
       "(300.0 <Unit('radian / second')>,\n",
       " 6.0 <Unit('meter * radian / second')>,\n",
       " 0.008377659574468085 <Unit('meter * radian / second')>)"
      ]
     },
     "execution_count": 53,
     "metadata": {},
     "output_type": "execute_result"
    }
   ],
   "source": [
    "slope_func(0, system.init, system)"
   ]
  },
  {
   "cell_type": "markdown",
   "id": "russian-rochester",
   "metadata": {},
   "source": [
    "We'd like to stop the simulation when the length of paper on the roll is `L`. We can do that with an event function that passes through 0 when `y` equals `L`:"
   ]
  },
  {
   "cell_type": "code",
   "execution_count": 54,
   "id": "strong-custody",
   "metadata": {},
   "outputs": [],
   "source": [
    "def event_func(t, state, system):\n",
    "    theta, y, r = state\n",
    "    return y - system.L"
   ]
  },
  {
   "cell_type": "code",
   "execution_count": 55,
   "id": "moved-present",
   "metadata": {},
   "outputs": [
    {
     "data": {
      "text/html": [
       "-47 meter"
      ],
      "text/latex": [
       "$-47\\ \\mathrm{meter}$"
      ],
      "text/plain": [
       "-47 <Unit('meter')>"
      ]
     },
     "execution_count": 55,
     "metadata": {},
     "output_type": "execute_result"
    }
   ],
   "source": [
    "event_func(0, system.init, system)"
   ]
  },
  {
   "cell_type": "markdown",
   "id": "affecting-pathology",
   "metadata": {},
   "source": [
    "Now we can run the simulation like this:"
   ]
  },
  {
   "cell_type": "code",
   "execution_count": 56,
   "id": "stable-lying",
   "metadata": {},
   "outputs": [
    {
     "data": {
      "text/plain": [
       "'A termination event occurred.'"
      ]
     },
     "execution_count": 56,
     "metadata": {},
     "output_type": "execute_result"
    }
   ],
   "source": [
    "\n",
    "\n",
    "results, details = run_solve_ivp(system, slope_func,\n",
    "                                  events=event_func)\n",
    "details.message"
   ]
  },
  {
   "cell_type": "markdown",
   "id": "experienced-pathology",
   "metadata": {},
   "source": [
    "Here are the last few time steps."
   ]
  },
  {
   "cell_type": "code",
   "execution_count": 64,
   "id": "careful-bahrain",
   "metadata": {},
   "outputs": [
    {
     "data": {
      "text/html": [
       "<div>\n",
       "<style scoped>\n",
       "    .dataframe tbody tr th:only-of-type {\n",
       "        vertical-align: middle;\n",
       "    }\n",
       "\n",
       "    .dataframe tbody tr th {\n",
       "        vertical-align: top;\n",
       "    }\n",
       "\n",
       "    .dataframe thead th {\n",
       "        text-align: right;\n",
       "    }\n",
       "</style>\n",
       "<table border=\"1\" class=\"dataframe\">\n",
       "  <thead>\n",
       "    <tr style=\"text-align: right;\">\n",
       "      <th></th>\n",
       "      <th>theta</th>\n",
       "      <th>y</th>\n",
       "      <th>r</th>\n",
       "    </tr>\n",
       "  </thead>\n",
       "  <tbody>\n",
       "    <tr>\n",
       "      <th>3.843556</th>\n",
       "      <td>1153.066667</td>\n",
       "      <td>41.625707</td>\n",
       "      <td>0.0522</td>\n",
       "    </tr>\n",
       "    <tr>\n",
       "      <th>3.927111</th>\n",
       "      <td>1178.133333</td>\n",
       "      <td>42.942960</td>\n",
       "      <td>0.0529</td>\n",
       "    </tr>\n",
       "    <tr>\n",
       "      <th>4.010667</th>\n",
       "      <td>1203.200000</td>\n",
       "      <td>44.277760</td>\n",
       "      <td>0.0536</td>\n",
       "    </tr>\n",
       "    <tr>\n",
       "      <th>4.094222</th>\n",
       "      <td>1228.266667</td>\n",
       "      <td>45.630107</td>\n",
       "      <td>0.0543</td>\n",
       "    </tr>\n",
       "    <tr>\n",
       "      <th>4.177778</th>\n",
       "      <td>1253.333333</td>\n",
       "      <td>47.000000</td>\n",
       "      <td>0.0550</td>\n",
       "    </tr>\n",
       "  </tbody>\n",
       "</table>\n",
       "</div>"
      ],
      "text/plain": [
       "                theta          y       r\n",
       "3.843556  1153.066667  41.625707  0.0522\n",
       "3.927111  1178.133333  42.942960  0.0529\n",
       "4.010667  1203.200000  44.277760  0.0536\n",
       "4.094222  1228.266667  45.630107  0.0543\n",
       "4.177778  1253.333333  47.000000  0.0550"
      ]
     },
     "execution_count": 64,
     "metadata": {},
     "output_type": "execute_result"
    }
   ],
   "source": [
    "results.tail()"
   ]
  },
  {
   "cell_type": "markdown",
   "id": "underlying-variance",
   "metadata": {},
   "source": [
    "At $\\omega = 300$ rad/s, the time it takes to complete one roll is about 4.2 seconds, which is consistent with what we see in the video."
   ]
  },
  {
   "cell_type": "code",
   "execution_count": 65,
   "id": "individual-patrick",
   "metadata": {},
   "outputs": [
    {
     "data": {
      "text/plain": [
       "4.177777777777778"
      ]
     },
     "execution_count": 65,
     "metadata": {},
     "output_type": "execute_result"
    }
   ],
   "source": [
    "results.index[-1]"
   ]
  },
  {
   "cell_type": "markdown",
   "id": "informative-porter",
   "metadata": {},
   "source": [
    "The final value of `y` is 47 meters, as expected."
   ]
  },
  {
   "cell_type": "code",
   "execution_count": 19,
   "id": "indian-skirt",
   "metadata": {},
   "outputs": [
    {
     "name": "stdout",
     "output_type": "stream",
     "text": [
      "47.0 47 meter\n"
     ]
    }
   ],
   "source": [
    "final_state = results.iloc[-1] \n",
    "print(final_state.y, params.L)"
   ]
  },
  {
   "cell_type": "markdown",
   "id": "running-tutorial",
   "metadata": {},
   "source": [
    "The final value of radius is `Rmax`."
   ]
  },
  {
   "cell_type": "code",
   "execution_count": 20,
   "id": "higher-conflict",
   "metadata": {},
   "outputs": [
    {
     "name": "stdout",
     "output_type": "stream",
     "text": [
      "0.05500000000000002 0.055 meter\n"
     ]
    }
   ],
   "source": [
    "print(final_state.r, params.Rmax)"
   ]
  },
  {
   "cell_type": "markdown",
   "id": "tamil-referral",
   "metadata": {},
   "source": [
    "And the total number of rotations is close to 200, which seems plausible."
   ]
  },
  {
   "cell_type": "code",
   "execution_count": 21,
   "id": "employed-ordinary",
   "metadata": {},
   "outputs": [
    {
     "data": {
      "text/plain": [
       "199.47419534184226"
      ]
     },
     "execution_count": 21,
     "metadata": {},
     "output_type": "execute_result"
    }
   ],
   "source": [
    "radians = final_state.theta\n",
    "rotations = radians / 2 / pi\n",
    "rotations"
   ]
  },
  {
   "cell_type": "markdown",
   "id": "otherwise-mississippi",
   "metadata": {},
   "source": [
    "As an exercise, we'll see how fast the paper is moving.  But first, let's take a closer look at the results."
   ]
  },
  {
   "cell_type": "markdown",
   "id": "lesser-consumer",
   "metadata": {},
   "source": [
    "## Plotting\n",
    "\n",
    "Here's what `theta` looks like over time."
   ]
  },
  {
   "cell_type": "code",
   "execution_count": 66,
   "id": "included-schema",
   "metadata": {},
   "outputs": [
    {
     "data": {
      "image/png": "[encoded data removed]",
      "text/plain": [
       "<Figure size 432x288 with 1 Axes>"
      ]
     },
     "metadata": {
      "needs_background": "light"
     },
     "output_type": "display_data"
    }
   ],
   "source": [
    "\n",
    "\n",
    "def plot_theta(results):\n",
    "    results.theta.plot(color='C0', label='theta')\n",
    "    decorate(xlabel='Time (s)',\n",
    "             ylabel='Angle (rad)')\n",
    "    \n",
    "plot_theta(results)"
   ]
  },
  {
   "cell_type": "markdown",
   "id": "regulation-runner",
   "metadata": {},
   "source": [
    "`theta` grows linearly, as we should expect with constant angular velocity.\n",
    "\n",
    "Here's what `r` looks like over time."
   ]
  },
  {
   "cell_type": "code",
   "execution_count": 67,
   "id": "persistent-siemens",
   "metadata": {},
   "outputs": [
    {
     "data": {
      "image/png": "[encoded data removed]",
      "text/plain": [
       "<Figure size 432x288 with 1 Axes>"
      ]
     },
     "metadata": {
      "needs_background": "light"
     },
     "output_type": "display_data"
    }
   ],
   "source": [
    "def plot_r(results):\n",
    "    results.r.plot(color='C2', label='r')\n",
    "\n",
    "    decorate(xlabel='Time (s)',\n",
    "             ylabel='Radius (m)')\n",
    "    \n",
    "plot_r(results)"
   ]
  },
  {
   "cell_type": "markdown",
   "id": "dedicated-tuning",
   "metadata": {},
   "source": [
    "`r` also increases linearly.\n",
    "\n",
    "But since the derivative of `y` depends on `r`, and `r` is increasing, `y` grows with increasing slope."
   ]
  },
  {
   "cell_type": "code",
   "execution_count": 68,
   "id": "contrary-typing",
   "metadata": {},
   "outputs": [
    {
     "data": {
      "image/png": "[encoded data removed]",
      "text/plain": [
       "<Figure size 432x288 with 1 Axes>"
      ]
     },
     "metadata": {
      "needs_background": "light"
     },
     "output_type": "display_data"
    }
   ],
   "source": [
    "def plot_y(results):\n",
    "    results.y.plot(color='C1', label='y')\n",
    "\n",
    "    decorate(xlabel='Time (s)',\n",
    "             ylabel='Length (m)')\n",
    "    \n",
    "plot_y(results)"
   ]
  },
  {
   "cell_type": "markdown",
   "id": "furnished-executive",
   "metadata": {},
   "source": [
    "Because this system is so simple, it is almost silly to simulate it; as we'll see in the next section, it is easy enough to solve the\n",
    "differential equations analytically. \n",
    "\n",
    "However, it is often useful to start with simulation as a way of exploring and checking assumptions."
   ]
  },
  {
   "cell_type": "markdown",
   "id": "better-asbestos",
   "metadata": {},
   "source": [
    "## Analysis\n",
    "\n",
    "The differential equations in Section xx are simple enough that we can just solve them. Since angular velocity is constant: \n",
    "\n",
    "$$\\frac{d\\theta}{dt} = \\omega$$ \n",
    "\n",
    "We can find $\\theta$ as a function of time by integrating both sides:\n",
    "\n",
    "$$\\theta(t) = \\omega t$$ \n",
    "\n",
    "Similarly, we can solve this equation\n",
    "\n",
    "$$\\frac{dr}{dt} = k \\omega$$ \n",
    "\n",
    "to find\n",
    "\n",
    "$$r(t) = k \\omega t + R_{min}$$ \n",
    "\n",
    "Then we can plug the solution for $r$ into the equation for $y$: \n",
    "\n",
    "$$\\begin{aligned}\n",
    "\\frac{dy}{dt} & = r \\omega                      \\\\\n",
    "              & = \\left[ k \\omega t + R_{min} \\right] \\omega \\nonumber\\end{aligned}$$\n",
    "              \n",
    "Integrating both sides yields:\n",
    "\n",
    "$$y(t) = \\left[ k \\omega t^2 / 2 + R_{min} t \\right] \\omega$$ \n",
    "\n",
    "So $y$ is a parabola, as you might have guessed."
   ]
  },
  {
   "cell_type": "markdown",
   "id": "meaningful-kazakhstan",
   "metadata": {},
   "source": [
    "We can also use these equations to find the relationship between $y$ and $r$, independent of time, which we can use to compute $k$. Using a move we saw in Section xxx, I'll divide Equations 1 and\n",
    "2, yielding\n",
    "\n",
    "$$\\frac{dr}{dy} = \\frac{k}{r}$$ \n",
    "\n",
    "Separating variables yields\n",
    "\n",
    "$$r~dr = k~dy$$ \n",
    "\n",
    "Integrating both sides yields \n",
    "\n",
    "$$r^2 / 2 = k y + C$$ \n",
    "\n",
    "When $y=0$, $r=R_{min}$, so \n",
    "\n",
    "$$C = \\frac{1}{2} R_{min}^2$$ \n",
    "\n",
    "Solving for $y$, we have \n",
    "\n",
    "$$y = \\frac{1}{2k} (r^2 - R_{min}^2)                 \\label{eqn3}$$\n",
    "\n",
    "When $y=L$, $r=R_{max}$; substituting in those values yields\n",
    "\n",
    "$$L = \\frac{1}{2k} (R_{max}^2 - R_{min}^2)$$ \n",
    "\n",
    "Solving for $k$ yields\n",
    "\n",
    "$$k =  \\frac{1}{2L} (R_{max}^2 - R_{min}^2)           \\label{eqn4}$$\n",
    "\n",
    "Plugging in the values of the parameters yields `2.8e-5` m/rad, the same as the \"estimate\" we computed in Section xxx. "
   ]
  },
  {
   "cell_type": "code",
   "execution_count": 72,
   "id": "acknowledged-register",
   "metadata": {},
   "outputs": [
    {
     "name": "stdout",
     "output_type": "stream",
     "text": [
      "2.7925531914893616e-05 meter 2.7925531914893616e-05 meter\n"
     ]
    }
   ],
   "source": [
    "k = (params.Rmax**2 - params.Rmin**2) / (2 * params.L)\n",
    "print(k, system.k)"
   ]
  },
  {
   "cell_type": "markdown",
   "id": "retired-skill",
   "metadata": {},
   "source": [
    "In this case the estimate turns out to be exact."
   ]
  },
  {
   "cell_type": "markdown",
   "id": "foreign-needle",
   "metadata": {},
   "source": [
    "## Summary"
   ]
  },
  {
   "cell_type": "markdown",
   "id": "thick-luther",
   "metadata": {},
   "source": [
    "### Exercises\n",
    "\n",
    "**Exercise:** Since we keep `omega` constant, the linear velocity of the paper increases with radius.  We can use `gradient` to estimate the derivative of `results.y`."
   ]
  },
  {
   "cell_type": "code",
   "execution_count": 73,
   "id": "cardiac-hospital",
   "metadata": {},
   "outputs": [],
   "source": [
    "# Solution\n",
    "\n",
    "\n",
    "\n",
    "dydt = gradient(results.y);"
   ]
  },
  {
   "cell_type": "code",
   "execution_count": 90,
   "id": "welsh-charleston",
   "metadata": {},
   "outputs": [
    {
     "data": {
      "image/png": "[encoded data removed]",
      "text/plain": [
       "<Figure size 432x288 with 1 Axes>"
      ]
     },
     "metadata": {
      "needs_background": "light"
     },
     "output_type": "display_data"
    }
   ],
   "source": [
    "# Solution\n",
    "\n",
    "dydt.plot(label='dydt')\n",
    "decorate(xlabel='Time (s)',\n",
    "         ylabel='Linear velocity (m/s)')"
   ]
  },
  {
   "cell_type": "markdown",
   "id": "becoming-birthday",
   "metadata": {},
   "source": [
    "With constant angular velocity, linear velocity is increasing, reaching its maximum at the end."
   ]
  },
  {
   "cell_type": "code",
   "execution_count": 92,
   "id": "informational-washer",
   "metadata": {},
   "outputs": [
    {
     "data": {
      "text/plain": [
       "16.394999999999992"
      ]
     },
     "execution_count": 92,
     "metadata": {},
     "output_type": "execute_result"
    }
   ],
   "source": [
    "max_linear_velocity = dydt.iloc[-1]\n",
    "max_linear_velocity"
   ]
  },
  {
   "cell_type": "markdown",
   "id": "bizarre-variation",
   "metadata": {},
   "source": [
    "Now suppose this peak velocity is the limiting factor; that is, we can't move the paper any faster than that.\n",
    "\n",
    "Nevertheless, we might be able to speed up the process by keeping the linear velocity at the maximum all the time.\n",
    "\n",
    "Write a slope function that keeps the linear velocity, `dydt`, constant, and computes the angular velocity, `omega`, accordingly.\n",
    "\n",
    "Run the simulation and see how much faster we could finish rolling the paper."
   ]
  },
  {
   "cell_type": "code",
   "execution_count": 93,
   "id": "excellent-japanese",
   "metadata": {},
   "outputs": [],
   "source": [
    "# Solution\n",
    "\n",
    "def slope_func(t, state, system):\n",
    "    \"\"\"Computes the derivatives of the state variables.\n",
    "    \n",
    "    state: State object with theta, y, r\n",
    "    t: time\n",
    "    system: System object with r, k\n",
    "    \n",
    "    returns: sequence of derivatives\n",
    "    \"\"\"\n",
    "    theta, y, r = state\n",
    "    k, omega = system.k, system.omega\n",
    "    \n",
    "    dydt = system.linear_velocity\n",
    "    omega = dydt / r\n",
    "    drdt = k * omega\n",
    "    \n",
    "    return omega, dydt, drdt"
   ]
  },
  {
   "cell_type": "code",
   "execution_count": 94,
   "id": "steady-member",
   "metadata": {},
   "outputs": [
    {
     "data": {
      "text/plain": [
       "(819.7499999999997 <Unit('1 / meter')>,\n",
       " 16.394999999999992,\n",
       " 0.02289195478723403 <Unit('dimensionless')>)"
      ]
     },
     "execution_count": 94,
     "metadata": {},
     "output_type": "execute_result"
    }
   ],
   "source": [
    "# Solution\n",
    "\n",
    "system.linear_velocity = max_linear_velocity\n",
    "slope_func(0, system.init, system)"
   ]
  },
  {
   "cell_type": "code",
   "execution_count": 95,
   "id": "applied-sacramento",
   "metadata": {},
   "outputs": [
    {
     "data": {
      "text/plain": [
       "'A termination event occurred.'"
      ]
     },
     "execution_count": 95,
     "metadata": {},
     "output_type": "execute_result"
    }
   ],
   "source": [
    "# Solution\n",
    "\n",
    "results, details = run_solve_ivp(system, slope_func, \n",
    "                                 events=event_func)\n",
    "details.message"
   ]
  },
  {
   "cell_type": "code",
   "execution_count": 96,
   "id": "adult-chuck",
   "metadata": {},
   "outputs": [
    {
     "data": {
      "text/plain": [
       "2.8667276608722188"
      ]
     },
     "execution_count": 96,
     "metadata": {},
     "output_type": "execute_result"
    }
   ],
   "source": [
    "# Solution\n",
    "\n",
    "t_final = results.index[-1]\n",
    "t_final"
   ]
  },
  {
   "cell_type": "code",
   "execution_count": 97,
   "id": "conditional-cliff",
   "metadata": {},
   "outputs": [
    {
     "data": {
      "image/png": "[encoded data removed]",
      "text/plain": [
       "<Figure size 432x288 with 1 Axes>"
      ]
     },
     "metadata": {
      "needs_background": "light"
     },
     "output_type": "display_data"
    }
   ],
   "source": [
    "# Solution\n",
    "\n",
    "plot_theta(results)"
   ]
  },
  {
   "cell_type": "code",
   "execution_count": 98,
   "id": "arranged-queensland",
   "metadata": {},
   "outputs": [
    {
     "data": {
      "image/png": "[encoded data removed]",
      "text/plain": [
       "<Figure size 432x288 with 1 Axes>"
      ]
     },
     "metadata": {
      "needs_background": "light"
     },
     "output_type": "display_data"
    }
   ],
   "source": [
    "# Solution\n",
    "\n",
    "plot_r(results)"
   ]
  },
  {
   "cell_type": "code",
   "execution_count": 99,
   "id": "similar-variance",
   "metadata": {},
   "outputs": [
    {
     "data": {
      "image/png": "[encoded data removed]",
      "text/plain": [
       "<Figure size 432x288 with 1 Axes>"
      ]
     },
     "metadata": {
      "needs_background": "light"
     },
     "output_type": "display_data"
    }
   ],
   "source": [
    "# Solution\n",
    "\n",
    "plot_y(results)"
   ]
  },
  {
   "cell_type": "code",
   "execution_count": null,
   "id": "lovely-orange",
   "metadata": {},
   "outputs": [],
   "source": []
  }
 ],
 "metadata": {
  "kernelspec": {
   "display_name": "Python 3",
   "language": "python",
   "name": "python3"
  },
  "language_info": {
   "codemirror_mode": {
    "name": "ipython",
    "version": 3
   },
   "file_extension": ".py",
   "mimetype": "text/x-python",
   "name": "python",
   "nbconvert_exporter": "python",
   "pygments_lexer": "ipython3",
   "version": "3.7.9"
  }
 },
 "nbformat": 4,
 "nbformat_minor": 5
}
