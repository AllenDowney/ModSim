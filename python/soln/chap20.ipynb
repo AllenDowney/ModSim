{
 "cells": [
  {
   "cell_type": "markdown",
   "id": "funded-utilization",
   "metadata": {},
   "source": [
    "# Chapter 20"
   ]
  },
  {
   "cell_type": "markdown",
   "id": "furnished-portsmouth",
   "metadata": {
    "tags": [
     "remove-cell"
    ]
   },
   "source": [
    "*Modeling and Simulation in Python*\n",
    "\n",
    "Copyright 2021 Allen Downey\n",
    "\n",
    "License: [Creative Commons Attribution-NonCommercial-ShareAlike 4.0 International](https://creativecommons.org/licenses/by-nc-sa/4.0/)"
   ]
  },
  {
   "cell_type": "code",
   "execution_count": 1,
   "id": "broken-procedure",
   "metadata": {
    "tags": [
     "remove-cell"
    ]
   },
   "outputs": [],
   "source": [
    "# install Pint if necessary\n",
    "\n",
    "try:\n",
    "    import pint\n",
    "except ImportError:\n",
    "    !pip install pint"
   ]
  },
  {
   "cell_type": "code",
   "execution_count": 2,
   "id": "massive-thong",
   "metadata": {
    "tags": [
     "remove-cell"
    ]
   },
   "outputs": [],
   "source": [
    "# download modsim.py if necessary\n",
    "\n",
    "from os.path import exists\n",
    "\n",
    "filename = 'modsim.py'\n",
    "if not exists(filename):\n",
    "    from urllib.request import urlretrieve\n",
    "    url = 'https://raw.githubusercontent.com/AllenDowney/ModSim/main/'\n",
    "    local, _ = urlretrieve(url+filename, filename)\n",
    "    print('Downloaded ' + local)"
   ]
  },
  {
   "cell_type": "code",
   "execution_count": 3,
   "id": "experienced-junction",
   "metadata": {
    "tags": [
     "remove-cell"
    ]
   },
   "outputs": [],
   "source": [
    "# import functions from modsim\n",
    "\n",
    "from modsim import *"
   ]
  },
  {
   "cell_type": "markdown",
   "id": "embedded-gentleman",
   "metadata": {},
   "source": [
    "So far the differential equations we've worked with have been **first\n",
    "order**, which means they involve only first derivatives. In this\n",
    "chapter, we turn our attention to second order ODEs, which can involve\n",
    "both first and second derivatives.\n",
    "\n",
    "We'll revisit the falling penny example from\n",
    "Chapter xxx, and use `run_solve_ivp` to find the position and velocity of the penny as it falls, with and without air resistance."
   ]
  },
  {
   "cell_type": "markdown",
   "id": "isolated-louis",
   "metadata": {},
   "source": [
    "## Newton's second law of motion\n",
    "\n",
    "First order ODEs can be written \n",
    "\n",
    "$$\\frac{dy}{dx} = G(x, y)$$ \n",
    "\n",
    "where $G$ is some function of $x$ and $y$ (see <http://modsimpy.com/ode>). Second order ODEs can be written \n",
    "\n",
    "$$\\frac{d^2y}{dx^2} = H(x, y, \\frac{dy}{dt})$$\n",
    "\n",
    "where $H$ is a function of $x$, $y$, and $dy/dx$.\n",
    "\n",
    "In this chapter, we will work with one of the most famous and useful\n",
    "second order ODEs, Newton's second law of motion: \n",
    "\n",
    "$$F = m a$$ \n",
    "\n",
    "where $F$ is a force or the total of a set of forces, $m$ is the mass of a moving object, and $a$ is its acceleration."
   ]
  },
  {
   "cell_type": "markdown",
   "id": "drawn-symphony",
   "metadata": {},
   "source": [
    "Newton's law might not look like a differential equation, until we\n",
    "realize that acceleration, $a$, is the second derivative of position,\n",
    "$y$, with respect to time, $t$. With the substitution\n",
    "\n",
    "$$a = \\frac{d^2y}{dt^2}$$ \n",
    "\n",
    "Newton's law can be written\n",
    "\n",
    "$$\\frac{d^2y}{dt^2} = F / m$$ \n",
    "\n",
    "And that's definitely a second order ODE.\n",
    "In general, $F$ can be a function of time, position, and velocity."
   ]
  },
  {
   "cell_type": "markdown",
   "id": "swiss-vietnam",
   "metadata": {},
   "source": [
    "Of course, this \"law\" is really a model in the sense that it is a\n",
    "simplification of the real world. Although it is often approximately\n",
    "true:\n",
    "\n",
    "-   It only applies if $m$ is constant. If mass depends on time,\n",
    "    position, or velocity, we have to use a more general form of\n",
    "    Newton's law (see <http://modsimpy.com/varmass>).\n",
    "\n",
    "-   It is not a good model for very small things, which are better\n",
    "    described by another model, quantum mechanics.\n",
    "\n",
    "-   And it is not a good model for things moving very fast, which are\n",
    "    better described by yet another model, relativistic mechanics.\n",
    "\n",
    "However, for medium-sized things with constant mass, moving at\n",
    "medium-sized speeds, Newton's model is extremely useful. If we can\n",
    "quantify the forces that act on such an object, we can predict how it\n",
    "will move."
   ]
  },
  {
   "cell_type": "markdown",
   "id": "coordinate-three",
   "metadata": {},
   "source": [
    "## Dropping pennies\n",
    "\n",
    "As a first example, let's get back to the penny falling from the Empire State Building, which we considered in\n",
    "Chapter xxx. We will implement two models of this system: first without air resistance, then with.\n",
    "\n",
    "Given that the Empire State Building is 381 m high, and assuming that\n",
    "the penny is dropped from a standstill, the initial conditions are:"
   ]
  },
  {
   "cell_type": "code",
   "execution_count": 2,
   "id": "compatible-increase",
   "metadata": {},
   "outputs": [],
   "source": [
    "\n",
    "\n",
    "init = State(y=381, v=0)"
   ]
  },
  {
   "cell_type": "markdown",
   "id": "intellectual-radiation",
   "metadata": {},
   "source": [
    "where `y` is height above the sidewalk and `v` is velocity. \n",
    "\n",
    "The units `m` and `s` are from the `units` object provided by Pint:"
   ]
  },
  {
   "cell_type": "markdown",
   "id": "wicked-thomas",
   "metadata": {},
   "source": [
    "The only system parameter is the acceleration of gravity:"
   ]
  },
  {
   "cell_type": "code",
   "execution_count": 3,
   "id": "reverse-authorization",
   "metadata": {},
   "outputs": [],
   "source": [
    "g = 9.8"
   ]
  },
  {
   "cell_type": "markdown",
   "id": "developing-newfoundland",
   "metadata": {},
   "source": [
    "In addition, we'll specify the duration of the simulation and the step\n",
    "size:"
   ]
  },
  {
   "cell_type": "code",
   "execution_count": 4,
   "id": "square-toolbox",
   "metadata": {},
   "outputs": [],
   "source": [
    "t_end = 10\n",
    "dt = 0.1"
   ]
  },
  {
   "cell_type": "markdown",
   "id": "precise-tobago",
   "metadata": {},
   "source": [
    "With these parameters, the number of time steps is 100, which is good\n",
    "enough for many problems. Once we have a solution, we will increase the\n",
    "number of steps and see what effect it has on the results.\n",
    "\n",
    "We need a `System` object to store the parameters:"
   ]
  },
  {
   "cell_type": "code",
   "execution_count": 5,
   "id": "built-piece",
   "metadata": {},
   "outputs": [],
   "source": [
    "\n",
    "\n",
    "system = System(init=init, g=g, t_end=t_end, dt=dt)"
   ]
  },
  {
   "cell_type": "markdown",
   "id": "heavy-boards",
   "metadata": {},
   "source": [
    "Now we need a slope function, and here's where things get tricky. As we have seen, `run_solve_ivp` can solve systems of first order ODEs, but Newton's law is a second order ODE. However, if we recognize that\n",
    "\n",
    "1.  Velocity, $v$, is the derivative of position, $dy/dt$, and\n",
    "\n",
    "2.  Acceleration, $a$, is the derivative of velocity, $dv/dt$,\n",
    "\n",
    "we can rewrite Newton's law as a system of first order ODEs:\n",
    "\n",
    "$$\\frac{dy}{dt} = v$$ \n",
    "\n",
    "$$\\frac{dv}{dt} = a$$ \n",
    "\n",
    "And we can translate those\n",
    "equations into a slope function:"
   ]
  },
  {
   "cell_type": "code",
   "execution_count": 6,
   "id": "occupied-mercury",
   "metadata": {},
   "outputs": [],
   "source": [
    "def slope_func(t, state, system):\n",
    "    y, v = state\n",
    "\n",
    "    dydt = v\n",
    "    dvdt = -system.g\n",
    "    \n",
    "    return dydt, dvdt"
   ]
  },
  {
   "cell_type": "markdown",
   "id": "opening-adolescent",
   "metadata": {},
   "source": [
    "The first parameter, `state`, contains the position and velocity of the\n",
    "penny. The last parameter, `system`, contains the system parameter `g`,\n",
    "which is the magnitude of acceleration due to gravity.\n",
    "\n",
    "The second parameter, `t`, is time. It is not used in this slope\n",
    "function because none of the factors of the model are time dependent. I include it anyway because this function will be called by `run_solve_ivp`, which always provides the same arguments,\n",
    "whether they are needed or not.\n",
    "\n",
    "The rest of the function is a straightforward translation of the\n",
    "differential equations, with the substitution $a = -g$, which indicates that acceleration due to gravity is in the direction of decreasing $y$. `slope_func` returns a sequence containing the two derivatives.\n",
    "\n",
    "Before calling `run_solve_ivp`, it is a good idea to test the slope\n",
    "function with the initial conditions:"
   ]
  },
  {
   "cell_type": "code",
   "execution_count": 7,
   "id": "positive-feeling",
   "metadata": {},
   "outputs": [
    {
     "name": "stdout",
     "output_type": "stream",
     "text": [
      "0\n",
      "-9.8\n"
     ]
    }
   ],
   "source": [
    "dydt, dvdt = slope_func(0, system.init, system)\n",
    "print(dydt)\n",
    "print(dvdt)"
   ]
  },
  {
   "cell_type": "markdown",
   "id": "false-charlotte",
   "metadata": {},
   "source": [
    "The result is 0 m/s for velocity and 9.8 m/s$^2$ for acceleration. Now we call `run_solve_ivp` like this:"
   ]
  },
  {
   "cell_type": "code",
   "execution_count": 8,
   "id": "lovely-management",
   "metadata": {},
   "outputs": [
    {
     "data": {
      "text/plain": [
       "  message: 'The solver successfully reached the end of the integration interval.'\n",
       "     nfev: 38\n",
       "     njev: 0\n",
       "      nlu: 0\n",
       "      sol: None\n",
       "   status: 0\n",
       "  success: True\n",
       " t_events: None\n",
       " y_events: None"
      ]
     },
     "execution_count": 8,
     "metadata": {},
     "output_type": "execute_result"
    }
   ],
   "source": [
    "\n",
    "\n",
    "results, details = run_solve_ivp(system, slope_func)\n",
    "details"
   ]
  },
  {
   "cell_type": "code",
   "execution_count": 9,
   "id": "assisted-swimming",
   "metadata": {},
   "outputs": [
    {
     "data": {
      "text/html": [
       "<div>\n",
       "<style scoped>\n",
       "    .dataframe tbody tr th:only-of-type {\n",
       "        vertical-align: middle;\n",
       "    }\n",
       "\n",
       "    .dataframe tbody tr th {\n",
       "        vertical-align: top;\n",
       "    }\n",
       "\n",
       "    .dataframe thead th {\n",
       "        text-align: right;\n",
       "    }\n",
       "</style>\n",
       "<table border=\"1\" class=\"dataframe\">\n",
       "  <thead>\n",
       "    <tr style=\"text-align: right;\">\n",
       "      <th></th>\n",
       "      <th>y</th>\n",
       "      <th>v</th>\n",
       "    </tr>\n",
       "  </thead>\n",
       "  <tbody>\n",
       "    <tr>\n",
       "      <th>0.0</th>\n",
       "      <td>381.000</td>\n",
       "      <td>0.00</td>\n",
       "    </tr>\n",
       "    <tr>\n",
       "      <th>0.2</th>\n",
       "      <td>380.804</td>\n",
       "      <td>-1.96</td>\n",
       "    </tr>\n",
       "    <tr>\n",
       "      <th>0.4</th>\n",
       "      <td>380.216</td>\n",
       "      <td>-3.92</td>\n",
       "    </tr>\n",
       "    <tr>\n",
       "      <th>0.6</th>\n",
       "      <td>379.236</td>\n",
       "      <td>-5.88</td>\n",
       "    </tr>\n",
       "    <tr>\n",
       "      <th>0.8</th>\n",
       "      <td>377.864</td>\n",
       "      <td>-7.84</td>\n",
       "    </tr>\n",
       "  </tbody>\n",
       "</table>\n",
       "</div>"
      ],
      "text/plain": [
       "           y     v\n",
       "0.0  381.000  0.00\n",
       "0.2  380.804 -1.96\n",
       "0.4  380.216 -3.92\n",
       "0.6  379.236 -5.88\n",
       "0.8  377.864 -7.84"
      ]
     },
     "execution_count": 9,
     "metadata": {},
     "output_type": "execute_result"
    }
   ],
   "source": [
    "results.head()"
   ]
  },
  {
   "cell_type": "markdown",
   "id": "solved-chambers",
   "metadata": {},
   "source": [
    "`results` is a `TimeFrame` with two columns: `y` contains the height of\n",
    "the penny; `v` contains its velocity.\n",
    "\n",
    "We can plot the results like this:"
   ]
  },
  {
   "cell_type": "code",
   "execution_count": 10,
   "id": "authorized-barrier",
   "metadata": {},
   "outputs": [
    {
     "data": {
      "image/png": "[encoded data removed]",
      "text/plain": [
       "<Figure size 432x288 with 1 Axes>"
      ]
     },
     "metadata": {
      "needs_background": "light"
     },
     "output_type": "display_data"
    }
   ],
   "source": [
    "\n",
    "\n",
    "results.y.plot()\n",
    "\n",
    "decorate(xlabel='Time (s)',\n",
    "         ylabel='Position (m)')"
   ]
  },
  {
   "cell_type": "markdown",
   "id": "differential-airfare",
   "metadata": {},
   "source": [
    "Since acceleration is constant, velocity increases linearly and position decreases quadratically; as a result, the height curve is a parabola.\n",
    "\n",
    "The last value of `results.y` is negative, which means we ran the simulation too long. "
   ]
  },
  {
   "cell_type": "code",
   "execution_count": 11,
   "id": "protected-fiber",
   "metadata": {},
   "outputs": [
    {
     "data": {
      "text/plain": [
       "-108.99999999999869"
      ]
     },
     "execution_count": 11,
     "metadata": {},
     "output_type": "execute_result"
    }
   ],
   "source": [
    "t_end = results.index[-1]\n",
    "results.y[t_end]"
   ]
  },
  {
   "cell_type": "markdown",
   "id": "metallic-tamil",
   "metadata": {},
   "source": [
    "One way to solve this problem is to use the results to\n",
    "estimate the time when the penny hits the sidewalk.\n",
    "\n",
    "The ModSim library provides `crossings`, which takes a `TimeSeries` and a value, and returns a sequence of times when the series passes through the value. We can find the time when the height of the penny is `0` like this:"
   ]
  },
  {
   "cell_type": "code",
   "execution_count": 12,
   "id": "japanese-clear",
   "metadata": {},
   "outputs": [
    {
     "data": {
      "text/plain": [
       "array([8.81788535])"
      ]
     },
     "execution_count": 12,
     "metadata": {},
     "output_type": "execute_result"
    }
   ],
   "source": [
    "\n",
    "\n",
    "t_crossings = crossings(results.y, 0)\n",
    "t_crossings"
   ]
  },
  {
   "cell_type": "markdown",
   "id": "demonstrated-emission",
   "metadata": {},
   "source": [
    "The result is an array with a single value, 8.818 s. Now, we could run\n",
    "the simulation again with `t_end = 8.818`, but there's a better way."
   ]
  },
  {
   "cell_type": "markdown",
   "id": "blind-dominant",
   "metadata": {},
   "source": [
    "## Events\n",
    "\n",
    "As an option, `run_solve_ivp` can take an **event function**, which\n",
    "detects an \"event\", like the penny hitting the sidewalk, and ends the\n",
    "simulation.\n",
    "\n",
    "Event functions take the same parameters as slope functions, `state`,\n",
    "`t`, and `system`. They should return a value that passes through `0`\n",
    "when the event occurs. Here's an event function that detects the penny\n",
    "hitting the sidewalk:"
   ]
  },
  {
   "cell_type": "code",
   "execution_count": 13,
   "id": "comfortable-simple",
   "metadata": {},
   "outputs": [],
   "source": [
    "def event_func(t, state, system):\n",
    "    y, v = state\n",
    "    return y"
   ]
  },
  {
   "cell_type": "markdown",
   "id": "closing-vehicle",
   "metadata": {},
   "source": [
    "The return value is the height of the penny, `y`, which passes through\n",
    "`0` when the penny hits the sidewalk.\n",
    "\n",
    "We pass the event function to `run_solve_ivp` like this:"
   ]
  },
  {
   "cell_type": "code",
   "execution_count": 14,
   "id": "exotic-shareware",
   "metadata": {},
   "outputs": [
    {
     "data": {
      "text/plain": [
       "  message: 'A termination event occurred.'\n",
       "     nfev: 38\n",
       "     njev: 0\n",
       "      nlu: 0\n",
       "      sol: None\n",
       "   status: 1\n",
       "  success: True\n",
       " t_events: [array([8.81788535])]\n",
       " y_events: [array([[ 5.68434189e-14, -8.64152764e+01]])]"
      ]
     },
     "execution_count": 14,
     "metadata": {},
     "output_type": "execute_result"
    }
   ],
   "source": [
    "results, details = run_solve_ivp(system, slope_func,\n",
    "                                 events=event_func)\n",
    "details"
   ]
  },
  {
   "cell_type": "markdown",
   "id": "recreational-blair",
   "metadata": {},
   "source": [
    "Then we can get the flight time and final velocity like this:"
   ]
  },
  {
   "cell_type": "code",
   "execution_count": 15,
   "id": "appropriate-roberts",
   "metadata": {},
   "outputs": [
    {
     "data": {
      "text/plain": [
       "8.8"
      ]
     },
     "execution_count": 15,
     "metadata": {},
     "output_type": "execute_result"
    }
   ],
   "source": [
    "t_end = results.index[-1]\n",
    "t_end"
   ]
  },
  {
   "cell_type": "code",
   "execution_count": 16,
   "id": "orange-retro",
   "metadata": {},
   "outputs": [
    {
     "name": "stdout",
     "output_type": "stream",
     "text": [
      "1.5440000000007217\n",
      "-86.24000000000001\n"
     ]
    }
   ],
   "source": [
    "y, v = results.iloc[-1]\n",
    "print(y)\n",
    "print(v)"
   ]
  },
  {
   "cell_type": "markdown",
   "id": "cleared-jamaica",
   "metadata": {},
   "source": [
    "If there were no air resistance, the penny would hit the sidewalk (or someone's head) at more than 300 km/h.\n",
    "\n",
    "So it's a good thing there is air resistance."
   ]
  },
  {
   "cell_type": "markdown",
   "id": "induced-albert",
   "metadata": {},
   "source": [
    "## Summary\n",
    "\n",
    "But air resistance...\n"
   ]
  },
  {
   "cell_type": "markdown",
   "id": "straight-johns",
   "metadata": {},
   "source": [
    "### Exercises\n",
    "\n",
    "**Exercise:** Here's a question from the web site [Ask an Astronomer](http://curious.astro.cornell.edu/about-us/39-our-solar-system/the-earth/other-catastrophes/57-how-long-would-it-take-the-earth-to-fall-into-the-sun-intermediate):\n",
    "\n",
    "\"If the Earth suddenly stopped orbiting the Sun, I know eventually it would be pulled in by the Sun's gravity and hit it. How long would it take the Earth to hit the Sun? I imagine it would go slowly at first and then pick up speed.\"\n",
    "\n",
    "Use `run_solve_ivp` to answer this question.\n",
    "\n",
    "Here are some suggestions about how to proceed:\n",
    "\n",
    "1.  Look up the Law of Universal Gravitation and any constants you need.  I suggest you work entirely in SI units: meters, kilograms, and Newtons.\n",
    "\n",
    "2.  When the distance between the Earth and the Sun gets small, this system behaves badly, so you should use an event function to stop when the surface of Earth reaches the surface of the Sun.\n",
    "\n",
    "3. Express your answer in days, and plot the results as millions of kilometers versus days.\n",
    "\n",
    "If you read the reply by Dave Rothstein, you will see other ways to solve the problem, and a good discussion of the modeling decisions behind them.\n",
    "\n",
    "You might also be interested to know that [it's actually not that easy to get to the Sun](https://www.theatlantic.com/science/archive/2018/08/parker-solar-probe-launch-nasa/567197/)."
   ]
  },
  {
   "cell_type": "code",
   "execution_count": 36,
   "id": "forbidden-distributor",
   "metadata": {},
   "outputs": [],
   "source": [
    "# Solution\n",
    "\n",
    "r_0 = 150e9   # 150 million km in m\n",
    "v_0 = 0\n",
    "init = State(r=r_0,\n",
    "             v=v_0)"
   ]
  },
  {
   "cell_type": "code",
   "execution_count": 37,
   "id": "former-taxation",
   "metadata": {},
   "outputs": [
    {
     "data": {
      "text/plain": [
       "702370000.0"
      ]
     },
     "execution_count": 37,
     "metadata": {},
     "output_type": "execute_result"
    }
   ],
   "source": [
    "# Solution\n",
    "\n",
    "radius_earth = 6.37e6  # meters\n",
    "radius_sun = 696e6     # meters\n",
    "r_final = radius_sun + radius_earth\n",
    "r_final"
   ]
  },
  {
   "cell_type": "code",
   "execution_count": 52,
   "id": "biological-creek",
   "metadata": {},
   "outputs": [
    {
     "data": {
      "text/plain": [
       "213.56265216338966"
      ]
     },
     "execution_count": 52,
     "metadata": {},
     "output_type": "execute_result"
    }
   ],
   "source": [
    "r_0 / r_final"
   ]
  },
  {
   "cell_type": "code",
   "execution_count": 38,
   "id": "oriental-riverside",
   "metadata": {},
   "outputs": [],
   "source": [
    "t_end = 1e7  # seconds\n",
    "\n",
    "system = System(init=init,\n",
    "                G=6.674e-11,   # N m^2 / kg^2\n",
    "                m1=1.989e30,   # kg\n",
    "                m2=5.972e24,   # kg\n",
    "                r_final=radius_sun + radius_earth,\n",
    "                t_end=t_end)"
   ]
  },
  {
   "cell_type": "code",
   "execution_count": 39,
   "id": "radio-reproduction",
   "metadata": {},
   "outputs": [],
   "source": [
    "# Solution\n",
    "\n",
    "def universal_gravitation(state, system):\n",
    "    \"\"\"Computes gravitational force.\n",
    "    \n",
    "    state: State object with distance r\n",
    "    system: System object with m1, m2, and G\n",
    "    \"\"\"\n",
    "    r, v = state\n",
    "    G, m1, m2 = system.G, system.m1, system.m2\n",
    "    \n",
    "    force = G * m1 * m2 / r**2\n",
    "    return force"
   ]
  },
  {
   "cell_type": "code",
   "execution_count": 40,
   "id": "heavy-cologne",
   "metadata": {},
   "outputs": [
    {
     "data": {
      "text/plain": [
       "3.5233701151999997e+22"
      ]
     },
     "execution_count": 40,
     "metadata": {},
     "output_type": "execute_result"
    }
   ],
   "source": [
    "# Solution\n",
    "\n",
    "universal_gravitation(init, system)"
   ]
  },
  {
   "cell_type": "code",
   "execution_count": 41,
   "id": "little-electric",
   "metadata": {},
   "outputs": [],
   "source": [
    "# Solution\n",
    "\n",
    "def slope_func(t, state, system):\n",
    "    \"\"\"Compute derivatives of the state.\n",
    "    \n",
    "    state: position, velocity\n",
    "    t: time\n",
    "    system: System object containing `m2`\n",
    "    \n",
    "    returns: derivatives of y and v\n",
    "    \"\"\"\n",
    "    y, v = state\n",
    "    m2 = system.m2    \n",
    "\n",
    "    force = universal_gravitation(state, system)\n",
    "    dydt = v\n",
    "    dvdt = -force / m2\n",
    "    \n",
    "    return dydt, dvdt"
   ]
  },
  {
   "cell_type": "code",
   "execution_count": 42,
   "id": "continental-details",
   "metadata": {},
   "outputs": [
    {
     "data": {
      "text/plain": [
       "(0.0, -0.005899815999999999)"
      ]
     },
     "execution_count": 42,
     "metadata": {},
     "output_type": "execute_result"
    }
   ],
   "source": [
    "# Solution\n",
    "\n",
    "slope_func(0, system.init, system)"
   ]
  },
  {
   "cell_type": "code",
   "execution_count": 43,
   "id": "suitable-traveler",
   "metadata": {},
   "outputs": [],
   "source": [
    "# Solution\n",
    "\n",
    "def event_func(t, state, system):\n",
    "    r, v = state\n",
    "    return r - system.r_final"
   ]
  },
  {
   "cell_type": "code",
   "execution_count": 44,
   "id": "upper-victory",
   "metadata": {},
   "outputs": [
    {
     "data": {
      "text/plain": [
       "149297630000.0"
      ]
     },
     "execution_count": 44,
     "metadata": {},
     "output_type": "execute_result"
    }
   ],
   "source": [
    "# Solution\n",
    "\n",
    "event_func(0, init, system)"
   ]
  },
  {
   "cell_type": "code",
   "execution_count": 45,
   "id": "transparent-treat",
   "metadata": {},
   "outputs": [
    {
     "data": {
      "text/plain": [
       "  message: 'A termination event occurred.'\n",
       "     nfev: 188\n",
       "     njev: 0\n",
       "      nlu: 0\n",
       "      sol: None\n",
       "   status: 1\n",
       "  success: True\n",
       " t_events: [array([5599828.17941854])]\n",
       " y_events: [array([[ 7.02370000e+08, -6.13362867e+05]])]"
      ]
     },
     "execution_count": 45,
     "metadata": {},
     "output_type": "execute_result"
    }
   ],
   "source": [
    "# Solution\n",
    "\n",
    "results, details = run_solve_ivp(system, slope_func, \n",
    "                                 events=event_func)\n",
    "details"
   ]
  },
  {
   "cell_type": "code",
   "execution_count": 46,
   "id": "brutal-woman",
   "metadata": {},
   "outputs": [
    {
     "data": {
      "text/plain": [
       "5400000.0"
      ]
     },
     "execution_count": 46,
     "metadata": {},
     "output_type": "execute_result"
    }
   ],
   "source": [
    "# Solution\n",
    "\n",
    "t_event = results.index[-1]\n",
    "t_event"
   ]
  },
  {
   "cell_type": "code",
   "execution_count": 47,
   "id": "gentle-burst",
   "metadata": {},
   "outputs": [],
   "source": [
    "# Solution\n",
    "\n",
    "\n",
    "\n",
    "seconds = t_event * units.second\n",
    "days = seconds.to(units.day)"
   ]
  },
  {
   "cell_type": "code",
   "execution_count": 48,
   "id": "comfortable-galaxy",
   "metadata": {},
   "outputs": [],
   "source": [
    "# Solution\n",
    "\n",
    "results.index /= 60 * 60 * 24"
   ]
  },
  {
   "cell_type": "code",
   "execution_count": 49,
   "id": "satisfactory-latitude",
   "metadata": {},
   "outputs": [],
   "source": [
    "# Solution\n",
    "\n",
    "results.r /= 1e9"
   ]
  },
  {
   "cell_type": "code",
   "execution_count": 50,
   "id": "significant-rebound",
   "metadata": {},
   "outputs": [
    {
     "data": {
      "image/png": "[encoded data removed]",
      "text/plain": [
       "<Figure size 432x288 with 1 Axes>"
      ]
     },
     "metadata": {
      "needs_background": "light"
     },
     "output_type": "display_data"
    }
   ],
   "source": [
    "# Solution\n",
    "\n",
    "results.r.plot(label='r')\n",
    "\n",
    "decorate(xlabel='Time (day)',\n",
    "         ylabel='Distance from sun (million km)')"
   ]
  },
  {
   "cell_type": "markdown",
   "id": "right-colleague",
   "metadata": {},
   "source": [
    "## Under the hood\n",
    "\n",
    "`solve_ivp`\n",
    "\n",
    "Here is the source code for `crossings` so you can see what's happening under the hood:"
   ]
  },
  {
   "cell_type": "code",
   "execution_count": 32,
   "id": "chief-error",
   "metadata": {},
   "outputs": [],
   "source": [
    "%psource crossings"
   ]
  },
  {
   "cell_type": "markdown",
   "id": "comparable-company",
   "metadata": {},
   "source": [
    "The [documentation of InterpolatedUnivariateSpline is here](https://docs.scipy.org/doc/scipy/reference/generated/scipy.interpolate.InterpolatedUnivariateSpline.html)."
   ]
  },
  {
   "cell_type": "code",
   "execution_count": null,
   "id": "listed-shelter",
   "metadata": {},
   "outputs": [],
   "source": []
  }
 ],
 "metadata": {
  "kernelspec": {
   "display_name": "Python 3",
   "language": "python",
   "name": "python3"
  },
  "language_info": {
   "codemirror_mode": {
    "name": "ipython",
    "version": 3
   },
   "file_extension": ".py",
   "mimetype": "text/x-python",
   "name": "python",
   "nbconvert_exporter": "python",
   "pygments_lexer": "ipython3",
   "version": "3.9.1"
  }
 },
 "nbformat": 4,
 "nbformat_minor": 5
}
