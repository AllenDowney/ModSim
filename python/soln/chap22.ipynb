{
 "cells": [
  {
   "cell_type": "markdown",
   "id": "collaborative-people",
   "metadata": {},
   "source": [
    "# Chapter 22"
   ]
  },
  {
   "cell_type": "markdown",
   "id": "connected-covering",
   "metadata": {
    "tags": [
     "remove-cell"
    ]
   },
   "source": [
    "*Modeling and Simulation in Python*\n",
    "\n",
    "Copyright 2021 Allen Downey\n",
    "\n",
    "License: [Creative Commons Attribution-NonCommercial-ShareAlike 4.0 International](https://creativecommons.org/licenses/by-nc-sa/4.0/)"
   ]
  },
  {
   "cell_type": "code",
   "execution_count": 1,
   "id": "broken-procedure",
   "metadata": {
    "tags": [
     "remove-cell"
    ]
   },
   "outputs": [],
   "source": [
    "# install Pint if necessary\n",
    "\n",
    "try:\n",
    "    import pint\n",
    "except ImportError:\n",
    "    !pip install pint"
   ]
  },
  {
   "cell_type": "code",
   "execution_count": 2,
   "id": "massive-thong",
   "metadata": {
    "tags": [
     "remove-cell"
    ]
   },
   "outputs": [],
   "source": [
    "# download modsim.py if necessary\n",
    "\n",
    "from os.path import exists\n",
    "\n",
    "filename = 'modsim.py'\n",
    "if not exists(filename):\n",
    "    from urllib.request import urlretrieve\n",
    "    url = 'https://raw.githubusercontent.com/AllenDowney/ModSim/main/'\n",
    "    local, _ = urlretrieve(url+filename, filename)\n",
    "    print('Downloaded ' + local)"
   ]
  },
  {
   "cell_type": "code",
   "execution_count": 3,
   "id": "experienced-junction",
   "metadata": {
    "tags": [
     "remove-cell"
    ]
   },
   "outputs": [],
   "source": [
    "# import functions from modsim\n",
    "\n",
    "from modsim import *"
   ]
  },
  {
   "cell_type": "markdown",
   "id": "advanced-guidance",
   "metadata": {},
   "source": [
    "In the previous chapter we modeled objects moving in one dimension, with and without drag. Now let's move on to two dimensions, and baseball!\n",
    "\n",
    "In this chapter we model the flight of a baseball including the effect\n",
    "of air resistance. In the next chapter we use this model to solve an\n",
    "optimization problem."
   ]
  },
  {
   "cell_type": "markdown",
   "id": "offensive-chinese",
   "metadata": {},
   "source": [
    "## Baseball\n",
    "\n",
    "To model the flight of a baseball, we have to make some\n",
    "decisions. To get started, we'll ignore any spin that might be on the ball, and the resulting Magnus force (see <http://modsimpy.com/magnus>). Under this assumption, the ball travels in a vertical plane, so we'll run simulations in two dimensions, rather than three.\n",
    "\n",
    "Air resistance has a substantial effect on most projectiles in air, so\n",
    "we will include a drag force.\n",
    "\n",
    "To model air resistance, we'll need the mass, frontal area, and drag\n",
    "coefficient of a baseball. Mass and diameter are easy to find (see\n",
    "<http://modsimpy.com/baseball>). Drag coefficient is only a little\n",
    "harder; according to *[The Physics of Baseball](https://books.google.com/books/about/The_Physics_of_Baseball.html?id=4xE4Ngpk_2EC)*, the drag coefficient of a baseball is approximately 0.33 (with no units).\n",
    "\n",
    "However, this value *does* depend on velocity. At low velocities it\n",
    "might be as high as 0.5, and at high velocities as low as 0.28.\n",
    "Furthermore, the transition between these regimes typically happens\n",
    "exactly in the range of velocities we are interested in, between 20 m/s and 40 m/s.\n",
    "\n",
    "Nevertheless, we'll start with a simple model where the drag coefficient does not depend on velocity; as an exercise at the end of the chapter, you will have a chance to implement a more detailed model and see what effect is has on the results.\n",
    "\n",
    "But first we need a new computational tool, the `Vector` object."
   ]
  },
  {
   "cell_type": "markdown",
   "id": "worthy-wheel",
   "metadata": {},
   "source": [
    "## Vectors\n",
    "\n",
    "Now that we are working in two dimensions, it will be useful to\n",
    "work with **vector quantities**, that is, quantities that represent both a magnitude and a direction. We will use vectors to represent positions, velocities, accelerations, and forces in two and three dimensions.\n",
    "\n",
    "ModSim provides a function called `Vector` the creates a Pandas `Series` that contains the **components** of the vector.\n",
    "In a `Vector` that represents a position in space, the components are the $x$ and $y$ coordinates in 2-D, plus a $z$ coordinate if the `Vector` is in 3-D.\n",
    "\n",
    "You can create a `Vector` by specifying its components. The following\n",
    "`Vector` represents a point 3 units to the right (or east) and 4 units up (or north) from an implicit origin:"
   ]
  },
  {
   "cell_type": "code",
   "execution_count": 4,
   "id": "handy-terrain",
   "metadata": {},
   "outputs": [
    {
     "data": {
      "text/plain": [
       "x    3\n",
       "y    4\n",
       "dtype: int64"
      ]
     },
     "execution_count": 4,
     "metadata": {},
     "output_type": "execute_result"
    }
   ],
   "source": [
    "A = Vector(3, 4)\n",
    "A"
   ]
  },
  {
   "cell_type": "markdown",
   "id": "settled-roommate",
   "metadata": {},
   "source": [
    "You can access the components of a `Vector` by name using the dot\n",
    "operator, like this:"
   ]
  },
  {
   "cell_type": "code",
   "execution_count": 5,
   "id": "controversial-shower",
   "metadata": {},
   "outputs": [
    {
     "data": {
      "text/plain": [
       "(3, 4)"
      ]
     },
     "execution_count": 5,
     "metadata": {},
     "output_type": "execute_result"
    }
   ],
   "source": [
    "A.x, A.y"
   ]
  },
  {
   "cell_type": "markdown",
   "id": "earlier-contemporary",
   "metadata": {},
   "source": [
    "You can also access them by index using brackets, like this:"
   ]
  },
  {
   "cell_type": "code",
   "execution_count": 6,
   "id": "automated-drove",
   "metadata": {},
   "outputs": [
    {
     "data": {
      "text/plain": [
       "(3, 4)"
      ]
     },
     "execution_count": 6,
     "metadata": {},
     "output_type": "execute_result"
    }
   ],
   "source": [
    "A[0], A[1]"
   ]
  },
  {
   "cell_type": "markdown",
   "id": "grave-burst",
   "metadata": {},
   "source": [
    "`Vector` objects support most mathematical operations, including\n",
    "addition and subtraction:"
   ]
  },
  {
   "cell_type": "code",
   "execution_count": 7,
   "id": "conditional-latitude",
   "metadata": {},
   "outputs": [
    {
     "data": {
      "text/plain": [
       "x    1\n",
       "y    2\n",
       "dtype: int64"
      ]
     },
     "execution_count": 7,
     "metadata": {},
     "output_type": "execute_result"
    }
   ],
   "source": [
    "B = Vector(1, 2)\n",
    "B"
   ]
  },
  {
   "cell_type": "code",
   "execution_count": 8,
   "id": "crucial-opening",
   "metadata": {},
   "outputs": [
    {
     "data": {
      "text/plain": [
       "x    4\n",
       "y    6\n",
       "dtype: int64"
      ]
     },
     "execution_count": 8,
     "metadata": {},
     "output_type": "execute_result"
    }
   ],
   "source": [
    "A + B"
   ]
  },
  {
   "cell_type": "code",
   "execution_count": 9,
   "id": "encouraging-cabinet",
   "metadata": {},
   "outputs": [
    {
     "data": {
      "text/plain": [
       "x    2\n",
       "y    2\n",
       "dtype: int64"
      ]
     },
     "execution_count": 9,
     "metadata": {},
     "output_type": "execute_result"
    }
   ],
   "source": [
    "A - B"
   ]
  },
  {
   "cell_type": "markdown",
   "id": "combined-command",
   "metadata": {},
   "source": [
    "For the definition and graphical interpretation of these operations, see <http://modsimpy.com/vecops>."
   ]
  },
  {
   "cell_type": "markdown",
   "id": "later-adelaide",
   "metadata": {},
   "source": [
    "We can specify a `Vector` with coordinates `x` and `y`, as in the previous examples.\n",
    "Equivalently, we can specify a `Vector` with a magnitude and angle.\n",
    "\n",
    "**Magnitude** is the length of the vector: if the `Vector` represents a position, magnitude is the distance from the origin; if it represents a velocity, magnitude is speed, that is, how fast the object is moving, regardless of direction.\n",
    "\n",
    "The **angle** of a `Vector` is its direction, expressed as an angle in radians from the positive $x$ axis. In the Cartesian plane, the angle 0 rad is due east, and the angle $\\pi$ rad is due west.\n",
    "\n",
    "ModSim provides functions to compute the magnitude and angle of a `Vector`.  For example, here are the magnitude and angle of `A`:"
   ]
  },
  {
   "cell_type": "code",
   "execution_count": 10,
   "id": "peripheral-tattoo",
   "metadata": {},
   "outputs": [
    {
     "data": {
      "text/plain": [
       "(5.0, 0.9272952180016122)"
      ]
     },
     "execution_count": 10,
     "metadata": {},
     "output_type": "execute_result"
    }
   ],
   "source": [
    "\n",
    "\n",
    "mag = vector_mag(A)\n",
    "theta = vector_angle(A)\n",
    "mag, theta"
   ]
  },
  {
   "cell_type": "markdown",
   "id": "great-advice",
   "metadata": {},
   "source": [
    "The magnitude is 5 because the length of `A` is the hypotenuse of a 3-4-5 triangle.\n",
    "\n",
    "The result from `vector_angle` is in radians, and most Python functions, like `sin` and `cos`, work with radians. \n",
    "But many people think more naturally in degrees. \n",
    "Fortunately, NumPy provides a function to convert radians to degrees:"
   ]
  },
  {
   "cell_type": "code",
   "execution_count": 11,
   "id": "strange-cleaning",
   "metadata": {},
   "outputs": [
    {
     "data": {
      "text/plain": [
       "53.13010235415598"
      ]
     },
     "execution_count": 11,
     "metadata": {},
     "output_type": "execute_result"
    }
   ],
   "source": [
    "from numpy import rad2deg\n",
    "\n",
    "angle = rad2deg(theta)\n",
    "angle"
   ]
  },
  {
   "cell_type": "markdown",
   "id": "assured-cutting",
   "metadata": {},
   "source": [
    "And a function to convert degrees to radians:"
   ]
  },
  {
   "cell_type": "code",
   "execution_count": 12,
   "id": "cellular-community",
   "metadata": {},
   "outputs": [
    {
     "data": {
      "text/plain": [
       "0.9272952180016122"
      ]
     },
     "execution_count": 12,
     "metadata": {},
     "output_type": "execute_result"
    }
   ],
   "source": [
    "from numpy import deg2rad\n",
    "\n",
    "theta = deg2rad(angle)\n",
    "theta"
   ]
  },
  {
   "cell_type": "markdown",
   "id": "responsible-gentleman",
   "metadata": {},
   "source": [
    "Following convention, I'll use `angle` for a value in degrees and `theta` for a value in radians.\n",
    "\n",
    "If you are given an angle and velocity, you can make a `Vector` using\n",
    "`pol2cart`, which converts from polar to Cartesian coordinates. For example, here's a new `Vector` with the same angle and magnitude of `A`:"
   ]
  },
  {
   "cell_type": "code",
   "execution_count": 13,
   "id": "monetary-firmware",
   "metadata": {},
   "outputs": [
    {
     "data": {
      "text/plain": [
       "x    3.0\n",
       "y    4.0\n",
       "dtype: float64"
      ]
     },
     "execution_count": 13,
     "metadata": {},
     "output_type": "execute_result"
    }
   ],
   "source": [
    "x, y = pol2cart(theta, mag)\n",
    "Vector(x, y)"
   ]
  },
  {
   "cell_type": "markdown",
   "id": "lucky-plastic",
   "metadata": {},
   "source": [
    "Another way to represent the direction of `A` is a **unit vector**,\n",
    "which is a vector with magnitude 1 that points in the same direction as\n",
    "`A`. You can compute a unit vector by dividing a vector by its\n",
    "magnitude:"
   ]
  },
  {
   "cell_type": "code",
   "execution_count": 14,
   "id": "explicit-piano",
   "metadata": {},
   "outputs": [
    {
     "data": {
      "text/plain": [
       "x    0.6\n",
       "y    0.8\n",
       "dtype: float64"
      ]
     },
     "execution_count": 14,
     "metadata": {},
     "output_type": "execute_result"
    }
   ],
   "source": [
    "A / vector_mag(A)"
   ]
  },
  {
   "cell_type": "markdown",
   "id": "respected-oliver",
   "metadata": {},
   "source": [
    "We can do the same thing using the `vector_hat` function, so named because unit vectors are conventionally decorated with a hat, like this: $\\hat{A}$."
   ]
  },
  {
   "cell_type": "code",
   "execution_count": 15,
   "id": "relative-republic",
   "metadata": {},
   "outputs": [
    {
     "data": {
      "text/plain": [
       "x    0.6\n",
       "y    0.8\n",
       "dtype: float64"
      ]
     },
     "execution_count": 15,
     "metadata": {},
     "output_type": "execute_result"
    }
   ],
   "source": [
    "vector_hat(A)"
   ]
  },
  {
   "cell_type": "markdown",
   "id": "reduced-celebration",
   "metadata": {},
   "source": [
    "Now let's get back to the game."
   ]
  },
  {
   "cell_type": "markdown",
   "id": "similar-local",
   "metadata": {},
   "source": [
    "## Simulating baseball flight\n",
    "\n",
    "Let's simulate the flight of a baseball that is batted from home plate\n",
    "at an angle of 45° and initial speed 40 m/s. We'll use the center of home plate as the origin, a horizontal x-axis (parallel to the ground), and vertical y-axis (perpendicular to the ground). The initial height is about 1 m."
   ]
  },
  {
   "cell_type": "code",
   "execution_count": 16,
   "id": "narrative-latest",
   "metadata": {
    "tags": [
     "export"
    ]
   },
   "outputs": [],
   "source": [
    "params = Params(\n",
    "    x = 0,          # m\n",
    "    y = 1,          # m\n",
    "    angle = 45,     # degree\n",
    "    velocity = 40,  # m / s\n",
    "\n",
    "    mass = 145e-3,    # kg \n",
    "    diameter = 73e-3, # m \n",
    "    C_d = 0.33,       # dimensionless\n",
    "\n",
    "    rho = 1.2,      # kg/m**3\n",
    "    g = 9.8,        # m/s**2\n",
    "    t_end = 10,     # s\n",
    ")"
   ]
  },
  {
   "cell_type": "markdown",
   "id": "metric-collins",
   "metadata": {},
   "source": [
    "I got the mass and diameter of the baseball from [Wikipedia](https://en.wikipedia.org/wiki/Baseball_(ball)) and the coefficient of drag is from *[The Physics of Baseball](https://books.google.com/books/about/The_Physics_of_Baseball.html?id=4xE4Ngpk_2EC)*:"
   ]
  },
  {
   "cell_type": "markdown",
   "id": "increasing-combination",
   "metadata": {},
   "source": [
    "The density of air, `rho`, is based on a temperature of 20 °C at sea level (see <http://modsimpy.com/tempress>). \n",
    "And we'll need the acceleration of gravity, `g`."
   ]
  },
  {
   "cell_type": "markdown",
   "id": "detected-return",
   "metadata": {},
   "source": [
    "The following function uses these quantities to make a `System` object."
   ]
  },
  {
   "cell_type": "code",
   "execution_count": 17,
   "id": "bored-billy",
   "metadata": {
    "tags": [
     "export"
    ]
   },
   "outputs": [],
   "source": [
    "from numpy import pi, deg2rad\n",
    "\n",
    "def make_system(params):\n",
    "    \n",
    "    # convert angle to degrees\n",
    "    theta = deg2rad(params.angle)\n",
    "    \n",
    "    # compute x and y components of velocity\n",
    "    vx, vy = pol2cart(theta, params.velocity)\n",
    "    \n",
    "    # make the initial state\n",
    "    init = State(x=params.x, y=params.y, vx=vx, vy=vy)\n",
    "    \n",
    "    # compute the frontal area\n",
    "    area = pi * (params.diameter/2)**2\n",
    "\n",
    "    return System(params,\n",
    "                  init = init,\n",
    "                  area = area,\n",
    "                 )"
   ]
  },
  {
   "cell_type": "markdown",
   "id": "conscious-template",
   "metadata": {},
   "source": [
    "`make_system` uses `deg2rad` to convert `angle` to radians and\n",
    "`pol2cart` to compute the $x$ and $y$ components of the initial\n",
    "velocity.\n",
    "\n",
    "`init` is a `State` object with four state variables:\n",
    "\n",
    "* `x` and `y` are the components of position.\n",
    "\n",
    "* `vx` and `vy` are the components of velocity.\n",
    "\n",
    "The `System` object also contains `t_end`, which is 10 seconds, long enough for the ball to land on the ground.\n",
    "Here's the `System` object."
   ]
  },
  {
   "cell_type": "code",
   "execution_count": 18,
   "id": "ethical-donna",
   "metadata": {},
   "outputs": [],
   "source": [
    "system = make_system(params)"
   ]
  },
  {
   "cell_type": "markdown",
   "id": "convinced-fellow",
   "metadata": {},
   "source": [
    "And here's the initial `State`:"
   ]
  },
  {
   "cell_type": "code",
   "execution_count": 19,
   "id": "legitimate-gossip",
   "metadata": {},
   "outputs": [
    {
     "data": {
      "text/plain": [
       "x      0.000000\n",
       "y      1.000000\n",
       "vx    28.284271\n",
       "vy    28.284271\n",
       "Name: state, dtype: float64"
      ]
     },
     "execution_count": 19,
     "metadata": {},
     "output_type": "execute_result"
    }
   ],
   "source": [
    "system.init"
   ]
  },
  {
   "cell_type": "markdown",
   "id": "occasional-given",
   "metadata": {},
   "source": [
    "Next we need a function to compute drag force:"
   ]
  },
  {
   "cell_type": "code",
   "execution_count": 20,
   "id": "legal-terminal",
   "metadata": {
    "tags": [
     "export"
    ]
   },
   "outputs": [],
   "source": [
    "def drag_force(V, system):\n",
    "    rho, C_d, area = system.rho, system.C_d, system.area\n",
    "    \n",
    "    mag = rho * vector_mag(V)**2 * C_d * area / 2\n",
    "    direction = -vector_hat(V)\n",
    "    f_drag = mag * direction\n",
    "    return f_drag"
   ]
  },
  {
   "cell_type": "markdown",
   "id": "false-confusion",
   "metadata": {},
   "source": [
    "This function takes `V` as a `Vector` and returns `f_drag` as a\n",
    "`Vector`. \n",
    "\n",
    "* It uses `vector_mag` to compute the magnitude of `V`, \n",
    "and the drag equation to compute the magnitude of the drag force, `mag`.\n",
    "\n",
    "* Then it uses `vector_hat` to compute `direction`, which is a unit vector in the opposite direction of `V`.\n",
    "\n",
    "* Finally, it computes the drag force vector by multiplying `mag` and `direction`.\n",
    "\n",
    "We can test it like this:"
   ]
  },
  {
   "cell_type": "code",
   "execution_count": 21,
   "id": "frank-chick",
   "metadata": {},
   "outputs": [
    {
     "data": {
      "text/plain": [
       "x   -0.937574\n",
       "y   -0.937574\n",
       "dtype: float64"
      ]
     },
     "execution_count": 21,
     "metadata": {},
     "output_type": "execute_result"
    }
   ],
   "source": [
    "vx, vy = system.init.vx, system.init.vy\n",
    "V_test = Vector(vx, vy)\n",
    "drag_force(V_test, system)"
   ]
  },
  {
   "cell_type": "markdown",
   "id": "absent-vector",
   "metadata": {},
   "source": [
    "The result is a `Vector` that represents the drag force on the baseball, in Newtons, under the initial conditions.\n",
    "\n",
    "Now we're ready for a slope function:"
   ]
  },
  {
   "cell_type": "code",
   "execution_count": 22,
   "id": "suitable-salem",
   "metadata": {
    "tags": [
     "export"
    ]
   },
   "outputs": [],
   "source": [
    "def slope_func(t, state, system):\n",
    "    x, y, vx, vy = state\n",
    "    mass, g = system.mass, system.g\n",
    "    \n",
    "    V = Vector(vx, vy)\n",
    "    a_drag = drag_force(V, system) / mass\n",
    "    a_grav = g * Vector(0, -1)\n",
    "    \n",
    "    A = a_grav + a_drag\n",
    "    \n",
    "    return V.x, V.y, A.x, A.y"
   ]
  },
  {
   "cell_type": "markdown",
   "id": "scheduled-courage",
   "metadata": {},
   "source": [
    "As usual, the parameters of the slope function are a time, a `State` object, and a `System` object. \n",
    "In this example, we don't use `t`, but we can't leave it out because when `run_solve_ivp` calls the slope function, it always provides the same arguments, whether they are needed or not.\n",
    "\n",
    "`slope_func` unpacks the `State` object into variables `x`, `y`, `vx`, and `vy`.\n",
    "Then it packs `vx` and `vy` into a `Vector`, which it uses to compute drag force and acceleration due to drag, `a_drag`.\n",
    "\n",
    "To represent acceleration due to gravity, it makes a `Vector` with magnitude `g` in the negative $y$ direction.\n",
    "\n",
    "The total acceleration of the baseball, `A`, is the sum of accelerations due to gravity and drag."
   ]
  },
  {
   "cell_type": "markdown",
   "id": "enclosed-favorite",
   "metadata": {},
   "source": [
    "The return value is a sequence that contains:\n",
    "\n",
    "* The components of velocity, `V.x` and `V.y`.\n",
    "\n",
    "* The components of acceleration, `A.x` and `A.y`.\n",
    "\n",
    "Together, these components represent the slope of the state variables, because `V` is the derivative of position and `A` is the derivative of velocity."
   ]
  },
  {
   "cell_type": "markdown",
   "id": "crude-parcel",
   "metadata": {},
   "source": [
    "As always, we can test the slope function by running it with the initial conditions:"
   ]
  },
  {
   "cell_type": "code",
   "execution_count": 23,
   "id": "closing-simon",
   "metadata": {},
   "outputs": [
    {
     "data": {
      "text/plain": [
       "(28.284271247461902, 28.2842712474619, -6.466030881564545, -16.266030881564546)"
      ]
     },
     "execution_count": 23,
     "metadata": {},
     "output_type": "execute_result"
    }
   ],
   "source": [
    "slope_func(0, system.init, system)"
   ]
  },
  {
   "cell_type": "markdown",
   "id": "regulated-railway",
   "metadata": {},
   "source": [
    "Using vectors to represent forces and accelerations makes the code\n",
    "concise, readable, and less error-prone. In particular, when we add\n",
    "`a_grav` and `a_drag`, the directions are likely to be correct, because they are encoded in the `Vector` objects.\n",
    "\n",
    "We're almost ready to run the simulation.  The last thing we need is an event function that stops when the ball hits the ground."
   ]
  },
  {
   "cell_type": "code",
   "execution_count": 24,
   "id": "brief-level",
   "metadata": {
    "tags": [
     "export"
    ]
   },
   "outputs": [],
   "source": [
    "def event_func(t, state, system):\n",
    "    x, y, vx, vy = state\n",
    "    return y"
   ]
  },
  {
   "cell_type": "markdown",
   "id": "novel-farmer",
   "metadata": {},
   "source": [
    "The event function takes the same parameters as the slope function, and returns the $y$ coordinate of position. When the $y$ coordinate passes through 0, the simulation stops.\n",
    "\n",
    "As we did with `slope_func`, we can test `event_func` with the initial conditions."
   ]
  },
  {
   "cell_type": "code",
   "execution_count": 25,
   "id": "threatened-alberta",
   "metadata": {},
   "outputs": [
    {
     "data": {
      "text/plain": [
       "1.0"
      ]
     },
     "execution_count": 25,
     "metadata": {},
     "output_type": "execute_result"
    }
   ],
   "source": [
    "event_func(0, system.init, system)"
   ]
  },
  {
   "cell_type": "markdown",
   "id": "unlikely-dressing",
   "metadata": {},
   "source": [
    "Now we're ready to run the simulation:"
   ]
  },
  {
   "cell_type": "code",
   "execution_count": 26,
   "id": "special-background",
   "metadata": {},
   "outputs": [
    {
     "data": {
      "text/plain": [
       "'A termination event occurred.'"
      ]
     },
     "execution_count": 26,
     "metadata": {},
     "output_type": "execute_result"
    }
   ],
   "source": [
    "\n",
    "\n",
    "results, details = run_solve_ivp(system, slope_func,\n",
    "                                 events=event_func)\n",
    "details.message"
   ]
  },
  {
   "cell_type": "markdown",
   "id": "iraqi-appeal",
   "metadata": {},
   "source": [
    "`details` contains information about the simulation, including a message that indicates that a \"termination event\" occurred; that is, the simulated ball reached the ground.\n",
    "\n",
    "`results` is a `TimeFrame` with one column for each of the state variables:"
   ]
  },
  {
   "cell_type": "code",
   "execution_count": 27,
   "id": "prospective-external",
   "metadata": {},
   "outputs": [
    {
     "data": {
      "text/html": [
       "<div>\n",
       "<style scoped>\n",
       "    .dataframe tbody tr th:only-of-type {\n",
       "        vertical-align: middle;\n",
       "    }\n",
       "\n",
       "    .dataframe tbody tr th {\n",
       "        vertical-align: top;\n",
       "    }\n",
       "\n",
       "    .dataframe thead th {\n",
       "        text-align: right;\n",
       "    }\n",
       "</style>\n",
       "<table border=\"1\" class=\"dataframe\">\n",
       "  <thead>\n",
       "    <tr style=\"text-align: right;\">\n",
       "      <th></th>\n",
       "      <th>x</th>\n",
       "      <th>y</th>\n",
       "      <th>vx</th>\n",
       "      <th>vy</th>\n",
       "    </tr>\n",
       "  </thead>\n",
       "  <tbody>\n",
       "    <tr>\n",
       "      <th>4.804692</th>\n",
       "      <td>96.438515</td>\n",
       "      <td>4.284486</td>\n",
       "      <td>14.590855</td>\n",
       "      <td>-20.726780</td>\n",
       "    </tr>\n",
       "    <tr>\n",
       "      <th>4.854740</th>\n",
       "      <td>97.166460</td>\n",
       "      <td>3.238415</td>\n",
       "      <td>14.484772</td>\n",
       "      <td>-21.065476</td>\n",
       "    </tr>\n",
       "    <tr>\n",
       "      <th>4.904789</th>\n",
       "      <td>97.889087</td>\n",
       "      <td>2.175515</td>\n",
       "      <td>14.378566</td>\n",
       "      <td>-21.400392</td>\n",
       "    </tr>\n",
       "    <tr>\n",
       "      <th>4.954838</th>\n",
       "      <td>98.606374</td>\n",
       "      <td>1.095978</td>\n",
       "      <td>14.272264</td>\n",
       "      <td>-21.731499</td>\n",
       "    </tr>\n",
       "    <tr>\n",
       "      <th>5.004887</th>\n",
       "      <td>99.318296</td>\n",
       "      <td>0.000000</td>\n",
       "      <td>14.165894</td>\n",
       "      <td>-22.058763</td>\n",
       "    </tr>\n",
       "  </tbody>\n",
       "</table>\n",
       "</div>"
      ],
      "text/plain": [
       "                  x         y         vx         vy\n",
       "4.804692  96.438515  4.284486  14.590855 -20.726780\n",
       "4.854740  97.166460  3.238415  14.484772 -21.065476\n",
       "4.904789  97.889087  2.175515  14.378566 -21.400392\n",
       "4.954838  98.606374  1.095978  14.272264 -21.731499\n",
       "5.004887  99.318296  0.000000  14.165894 -22.058763"
      ]
     },
     "execution_count": 27,
     "metadata": {},
     "output_type": "execute_result"
    }
   ],
   "source": [
    "results.tail()"
   ]
  },
  {
   "cell_type": "markdown",
   "id": "dominant-weekly",
   "metadata": {},
   "source": [
    "We can get the flight time like this:"
   ]
  },
  {
   "cell_type": "code",
   "execution_count": 28,
   "id": "medieval-calvin",
   "metadata": {},
   "outputs": [
    {
     "data": {
      "text/plain": [
       "5.004887034868346"
      ]
     },
     "execution_count": 28,
     "metadata": {},
     "output_type": "execute_result"
    }
   ],
   "source": [
    "flight_time = results.index[-1]\n",
    "flight_time"
   ]
  },
  {
   "cell_type": "markdown",
   "id": "convenient-heading",
   "metadata": {},
   "source": [
    "And the final state like this:"
   ]
  },
  {
   "cell_type": "code",
   "execution_count": 29,
   "id": "gorgeous-survey",
   "metadata": {},
   "outputs": [
    {
     "data": {
      "text/plain": [
       "x     99.318296\n",
       "y      0.000000\n",
       "vx    14.165894\n",
       "vy   -22.058763\n",
       "Name: 5.004887034868346, dtype: float64"
      ]
     },
     "execution_count": 29,
     "metadata": {},
     "output_type": "execute_result"
    }
   ],
   "source": [
    "final_state = results.iloc[-1]\n",
    "final_state"
   ]
  },
  {
   "cell_type": "markdown",
   "id": "needed-aruba",
   "metadata": {},
   "source": [
    "The final value of `y` is close to 0, as it should be.  The final value of `x` tells us how far the ball flew, in meters."
   ]
  },
  {
   "cell_type": "code",
   "execution_count": 30,
   "id": "failing-bangkok",
   "metadata": {},
   "outputs": [
    {
     "data": {
      "text/plain": [
       "99.31829628352207"
      ]
     },
     "execution_count": 30,
     "metadata": {},
     "output_type": "execute_result"
    }
   ],
   "source": [
    "x_dist = final_state.x\n",
    "x_dist"
   ]
  },
  {
   "cell_type": "markdown",
   "id": "growing-england",
   "metadata": {},
   "source": [
    "We can also get the final velocity, like this:"
   ]
  },
  {
   "cell_type": "code",
   "execution_count": 31,
   "id": "copyrighted-highway",
   "metadata": {},
   "outputs": [
    {
     "data": {
      "text/plain": [
       "x    14.165894\n",
       "y   -22.058763\n",
       "dtype: float64"
      ]
     },
     "execution_count": 31,
     "metadata": {},
     "output_type": "execute_result"
    }
   ],
   "source": [
    "final_V = Vector(final_state.vx, final_state.vy)\n",
    "final_V"
   ]
  },
  {
   "cell_type": "markdown",
   "id": "vietnamese-diagram",
   "metadata": {},
   "source": [
    "The speed of the ball on impact is about 26 m/s, which is substantially slower than the initial velocity, 40 m/s."
   ]
  },
  {
   "cell_type": "code",
   "execution_count": 32,
   "id": "structured-adams",
   "metadata": {},
   "outputs": [
    {
     "data": {
      "text/plain": [
       "26.215674453237572"
      ]
     },
     "execution_count": 32,
     "metadata": {},
     "output_type": "execute_result"
    }
   ],
   "source": [
    "vector_mag(final_V)"
   ]
  },
  {
   "cell_type": "markdown",
   "id": "continuous-quick",
   "metadata": {},
   "source": [
    "## Trajectories\n",
    "\n",
    "To visualize the results, we can plot the $x$ and $y$ components of position like this:"
   ]
  },
  {
   "cell_type": "code",
   "execution_count": 33,
   "id": "spare-burst",
   "metadata": {},
   "outputs": [
    {
     "data": {
      "image/png": "[encoded data removed]",
      "text/plain": [
       "<Figure size 432x288 with 1 Axes>"
      ]
     },
     "metadata": {
      "needs_background": "light"
     },
     "output_type": "display_data"
    }
   ],
   "source": [
    "results.x.plot(color='C4')\n",
    "results.y.plot(color='C2', style='--')\n",
    "\n",
    "decorate(xlabel='Time (s)',\n",
    "         ylabel='Position (m)')"
   ]
  },
  {
   "cell_type": "markdown",
   "id": "horizontal-bench",
   "metadata": {},
   "source": [
    "As expected, the $x$ component increases as the ball moves away from home plate. The $y$ position climbs initially and then descends, falling to 0 m near 5.0 s.\n",
    "\n",
    "Another way to view the results is to plot the $x$ component on the\n",
    "x-axis and the $y$ component on the y-axis, so the plotted line follows the trajectory of the ball through the plane:"
   ]
  },
  {
   "cell_type": "code",
   "execution_count": 34,
   "id": "dated-browse",
   "metadata": {},
   "outputs": [
    {
     "data": {
      "image/png": "[encoded data removed]",
      "text/plain": [
       "<Figure size 432x288 with 1 Axes>"
      ]
     },
     "metadata": {
      "needs_background": "light"
     },
     "output_type": "display_data"
    }
   ],
   "source": [
    "def plot_trajectory(results):\n",
    "    x = results.x\n",
    "    y = results.y\n",
    "    make_series(x, y).plot(label='trajectory')\n",
    "\n",
    "    decorate(xlabel='x position (m)',\n",
    "             ylabel='y position (m)')\n",
    "\n",
    "plot_trajectory(results)"
   ]
  },
  {
   "cell_type": "markdown",
   "id": "certified-synthetic",
   "metadata": {},
   "source": [
    "This way of visualizing the results is called a **trajectory plot** (see <http://modsimpy.com/trajec>).\n",
    "\n",
    "A trajectory plot can be easier to interpret than a time series plot,\n",
    "because it shows what the motion of the projectile would look like (at\n",
    "least from one point of view). Both plots can be useful, but don't get\n",
    "them mixed up! If you are looking at a time series plot and interpreting it as a trajectory, you will be very confused."
   ]
  },
  {
   "cell_type": "markdown",
   "id": "cosmetic-aircraft",
   "metadata": {},
   "source": [
    "## Animation\n",
    "\n",
    "One of the best ways to visualize the results of a physical model is animation.  If there are problems with the model, animation can make them apparent.\n",
    "\n",
    "The ModSimPy library provides `animate`, which takes as parameters a `TimeSeries` and a draw function."
   ]
  },
  {
   "cell_type": "markdown",
   "id": "neither-craps",
   "metadata": {},
   "source": [
    "The draw function should take as parameters a `State` object and the time.  It should draw a single frame of the animation.\n",
    "\n",
    "Inside the draw function, you almost always have to call `set_xlim` and `set_ylim`.  Otherwise `matplotlib` auto-scales the axes, which is usually not what you want."
   ]
  },
  {
   "cell_type": "code",
   "execution_count": 47,
   "id": "starting-fabric",
   "metadata": {},
   "outputs": [],
   "source": [
    "from matplotlib.pyplot import plot\n",
    "\n",
    "xlim = results.x.min(), results.x.max()\n",
    "ylim = results.y.min(), results.y.max()\n",
    "\n",
    "def draw_func(t, state):\n",
    "    plot(state.x, state.y, 'bo')\n",
    "    decorate(xlabel='x position (m)',\n",
    "             ylabel='y position (m)',\n",
    "             xlim=xlim,\n",
    "             ylim=ylim)"
   ]
  },
  {
   "cell_type": "code",
   "execution_count": 49,
   "id": "prescription-boutique",
   "metadata": {},
   "outputs": [
    {
     "data": {
      "image/png": "[encoded data removed]",
      "text/plain": [
       "<Figure size 432x288 with 1 Axes>"
      ]
     },
     "metadata": {
      "needs_background": "light"
     },
     "output_type": "display_data"
    }
   ],
   "source": [
    "# animate(results, draw_func)"
   ]
  },
  {
   "cell_type": "markdown",
   "id": "lyric-harassment",
   "metadata": {},
   "source": [
    "## Exercises"
   ]
  },
  {
   "cell_type": "markdown",
   "id": "pressing-retrieval",
   "metadata": {},
   "source": [
    "**Exercise:** Run the simulation with and without air resistance.  How wrong would we be if we ignored drag?"
   ]
  },
  {
   "cell_type": "code",
   "execution_count": 37,
   "id": "optical-weather",
   "metadata": {},
   "outputs": [],
   "source": [
    "# Hint\n",
    "\n",
    "system2 = make_system(params.set(C_d=0))"
   ]
  },
  {
   "cell_type": "code",
   "execution_count": 38,
   "id": "acknowledged-belgium",
   "metadata": {},
   "outputs": [
    {
     "data": {
      "text/plain": [
       "'A termination event occurred.'"
      ]
     },
     "execution_count": 38,
     "metadata": {},
     "output_type": "execute_result"
    }
   ],
   "source": [
    "# Solution\n",
    "\n",
    "results2, details2 = run_solve_ivp(system2, slope_func, \n",
    "                                   events=event_func)\n",
    "details.message"
   ]
  },
  {
   "cell_type": "code",
   "execution_count": 39,
   "id": "spatial-ensemble",
   "metadata": {},
   "outputs": [
    {
     "data": {
      "image/png": "[encoded data removed]",
      "text/plain": [
       "<Figure size 432x288 with 1 Axes>"
      ]
     },
     "metadata": {
      "needs_background": "light"
     },
     "output_type": "display_data"
    }
   ],
   "source": [
    "# Solution\n",
    "\n",
    "plot_trajectory(results)\n",
    "plot_trajectory(results2)"
   ]
  },
  {
   "cell_type": "code",
   "execution_count": 40,
   "id": "domestic-apparatus",
   "metadata": {},
   "outputs": [
    {
     "data": {
      "text/plain": [
       "164.2592550241319"
      ]
     },
     "execution_count": 40,
     "metadata": {},
     "output_type": "execute_result"
    }
   ],
   "source": [
    "# Solution\n",
    "\n",
    "x_dist2 = results2.iloc[-1].x\n",
    "x_dist2"
   ]
  },
  {
   "cell_type": "code",
   "execution_count": 41,
   "id": "correct-pittsburgh",
   "metadata": {},
   "outputs": [
    {
     "data": {
      "text/plain": [
       "64.94095874060983"
      ]
     },
     "execution_count": 41,
     "metadata": {},
     "output_type": "execute_result"
    }
   ],
   "source": [
    "# Solution\n",
    "\n",
    "x_dist2 - x_dist"
   ]
  },
  {
   "cell_type": "markdown",
   "id": "generic-shelter",
   "metadata": {},
   "source": [
    "**Exercise:** The baseball stadium in Denver, Colorado is 1,580 meters above sea level, where the density of air is about 1.0 kg / meter$^3$.  How much farther would a ball hit with the same velocity and launch angle travel?"
   ]
  },
  {
   "cell_type": "code",
   "execution_count": 42,
   "id": "global-referral",
   "metadata": {},
   "outputs": [],
   "source": [
    "# Hint\n",
    "\n",
    "system3 = make_system(params.set(rho=1.0))"
   ]
  },
  {
   "cell_type": "code",
   "execution_count": 43,
   "id": "appointed-sugar",
   "metadata": {},
   "outputs": [
    {
     "data": {
      "text/plain": [
       "105.78838005859785"
      ]
     },
     "execution_count": 43,
     "metadata": {},
     "output_type": "execute_result"
    }
   ],
   "source": [
    "# Solution\n",
    "\n",
    "results3, details3 = run_solve_ivp(system3, slope_func, \n",
    "                                   events=event_func)\n",
    "\n",
    "x_dist3 = results3.iloc[-1].x\n",
    "x_dist3"
   ]
  },
  {
   "cell_type": "code",
   "execution_count": 44,
   "id": "specialized-mediterranean",
   "metadata": {},
   "outputs": [
    {
     "data": {
      "text/plain": [
       "6.4700837750757785"
      ]
     },
     "execution_count": 44,
     "metadata": {},
     "output_type": "execute_result"
    }
   ],
   "source": [
    "# Solution\n",
    "\n",
    "x_dist3 - x_dist"
   ]
  },
  {
   "cell_type": "markdown",
   "id": "shaped-paragraph",
   "metadata": {},
   "source": [
    "**Exercise:** The model so far is based on the assumption that coefficient of drag does not depend on velocity, but in reality it does.  The following figure, from Adair, [*The Physics of Baseball*](https://books.google.com/books/about/The_Physics_of_Baseball.html?id=4xE4Ngpk_2EC), shows coefficient of drag as a function of velocity.\n",
    "\n",
    "<img src=\"https://github.com/AllenDowney/ModSimPy/raw/master/figs/baseball_drag.png\" width=\"400\">\n",
    "\n",
    "\n",
    "I used [an online graph digitizer](https://automeris.io/WebPlotDigitizer/) to extract the data and save it in a CSV file.  Here's how we can read it:"
   ]
  },
  {
   "cell_type": "code",
   "execution_count": 45,
   "id": "therapeutic-onion",
   "metadata": {},
   "outputs": [],
   "source": [
    "import os\n",
    "\n",
    "filename = 'baseball_drag.csv'\n",
    "\n",
    "if not os.path.exists(filename):\n",
    "    !wget https://raw.githubusercontent.com/AllenDowney/ModSimPy/master/data/baseball_drag.csv"
   ]
  },
  {
   "cell_type": "code",
   "execution_count": 46,
   "id": "returning-fellowship",
   "metadata": {},
   "outputs": [
    {
     "ename": "NameError",
     "evalue": "name 'Quantity' is not defined",
     "output_type": "error",
     "traceback": [
      "\u001b[0;31m---------------------------------------------------------------------------\u001b[0m",
      "\u001b[0;31mNameError\u001b[0m                                 Traceback (most recent call last)",
      "\u001b[0;32m<ipython-input-46-190b39a4677f>\u001b[0m in \u001b[0;36m<module>\u001b[0;34m\u001b[0m\n\u001b[1;32m      3\u001b[0m \u001b[0;34m\u001b[0m\u001b[0m\n\u001b[1;32m      4\u001b[0m \u001b[0mbaseball_drag\u001b[0m \u001b[0;34m=\u001b[0m \u001b[0mread_csv\u001b[0m\u001b[0;34m(\u001b[0m\u001b[0mfilename\u001b[0m\u001b[0;34m)\u001b[0m\u001b[0;34m\u001b[0m\u001b[0;34m\u001b[0m\u001b[0m\n\u001b[0;32m----> 5\u001b[0;31m \u001b[0mmph\u001b[0m \u001b[0;34m=\u001b[0m \u001b[0mQuantity\u001b[0m\u001b[0;34m(\u001b[0m\u001b[0mbaseball_drag\u001b[0m\u001b[0;34m[\u001b[0m\u001b[0;34m'Velocity in mph'\u001b[0m\u001b[0;34m]\u001b[0m\u001b[0;34m,\u001b[0m \u001b[0munits\u001b[0m\u001b[0;34m.\u001b[0m\u001b[0mmph\u001b[0m\u001b[0;34m)\u001b[0m\u001b[0;34m\u001b[0m\u001b[0;34m\u001b[0m\u001b[0m\n\u001b[0m\u001b[1;32m      6\u001b[0m \u001b[0mmps\u001b[0m \u001b[0;34m=\u001b[0m \u001b[0mmph\u001b[0m\u001b[0;34m.\u001b[0m\u001b[0mto\u001b[0m\u001b[0;34m(\u001b[0m\u001b[0munits\u001b[0m\u001b[0;34m.\u001b[0m\u001b[0mmeter\u001b[0m \u001b[0;34m/\u001b[0m \u001b[0munits\u001b[0m\u001b[0;34m.\u001b[0m\u001b[0msecond\u001b[0m\u001b[0;34m)\u001b[0m\u001b[0;34m\u001b[0m\u001b[0;34m\u001b[0m\u001b[0m\n\u001b[1;32m      7\u001b[0m \u001b[0mbaseball_drag\u001b[0m\u001b[0;34m.\u001b[0m\u001b[0mindex\u001b[0m \u001b[0;34m=\u001b[0m \u001b[0mmps\u001b[0m\u001b[0;34m.\u001b[0m\u001b[0mmagnitude\u001b[0m\u001b[0;34m\u001b[0m\u001b[0;34m\u001b[0m\u001b[0m\n",
      "\u001b[0;31mNameError\u001b[0m: name 'Quantity' is not defined"
     ]
    }
   ],
   "source": [
    "from pandas import read_csv\n",
    "\n",
    "\n",
    "baseball_drag = read_csv(filename)\n",
    "mph = Quantity(baseball_drag['Velocity in mph'], units.mph)\n",
    "mps = mph.to(units.meter / units.second)\n",
    "baseball_drag.index = mps.magnitude\n",
    "baseball_drag.index.name = 'Velocity in meters per second'\n",
    "baseball_drag.head()"
   ]
  },
  {
   "cell_type": "code",
   "execution_count": null,
   "id": "heated-belfast",
   "metadata": {},
   "outputs": [],
   "source": [
    "drag_interp = interpolate(baseball_drag['Drag coefficient'])\n",
    "vs = linspace(0, 60)\n",
    "cds = drag_interp(vs)\n",
    "make_series(vs, cds).plot()\n",
    "decorate(xlabel='Velocity (m/s)', ylabel='C_d')"
   ]
  },
  {
   "cell_type": "markdown",
   "id": "reverse-shock",
   "metadata": {},
   "source": [
    "Modify the model to include the dependence of `C_d` on velocity, and see how much it affects the results."
   ]
  },
  {
   "cell_type": "code",
   "execution_count": null,
   "id": "engaged-provision",
   "metadata": {},
   "outputs": [],
   "source": [
    "# Solution\n",
    "\n",
    "def drag_force2(V, system):\n",
    "    \"\"\"Computes drag force in the opposite direction of `v`.\n",
    "    \n",
    "    v: velocity\n",
    "    system: System object with rho, C_d, area\n",
    "    \n",
    "    returns: Vector drag force\n",
    "    \"\"\"\n",
    "    rho, area = system.rho, system.area\n",
    "    \n",
    "    C_d = drag_interp(vector_mag(V))\n",
    "    mag = -rho * vector_mag(V)**2 * C_d * area / 2\n",
    "    direction = vector_hat(V)\n",
    "    f_drag = direction * mag\n",
    "    return f_drag"
   ]
  },
  {
   "cell_type": "code",
   "execution_count": null,
   "id": "directed-fiber",
   "metadata": {},
   "outputs": [],
   "source": [
    "# Solution\n",
    "\n",
    "def slope_func2(t, state, system):\n",
    "    x, y, vx, vy = state\n",
    "    mass, g = system.mass, system.g\n",
    "    \n",
    "    V = Vector(vx, vy)\n",
    "    a_drag = drag_force2(V, system) / mass\n",
    "    a_grav = g * Vector(0, -1)\n",
    "    \n",
    "    A = a_grav + a_drag\n",
    "    \n",
    "    return V.x, V.y, A.x, A.y"
   ]
  },
  {
   "cell_type": "code",
   "execution_count": null,
   "id": "framed-dealer",
   "metadata": {},
   "outputs": [],
   "source": [
    "# Solution\n",
    "\n",
    "system4 = make_system(params)"
   ]
  },
  {
   "cell_type": "code",
   "execution_count": null,
   "id": "accomplished-elizabeth",
   "metadata": {},
   "outputs": [],
   "source": [
    "# Solution\n",
    "\n",
    "V = Vector(30, 30)\n",
    "f_drag = drag_force(V, system4)\n",
    "f_drag"
   ]
  },
  {
   "cell_type": "code",
   "execution_count": null,
   "id": "going-techno",
   "metadata": {},
   "outputs": [],
   "source": [
    "# Solution\n",
    "\n",
    "slope_func(0, system4.init, system4)"
   ]
  },
  {
   "cell_type": "code",
   "execution_count": null,
   "id": "brief-saying",
   "metadata": {},
   "outputs": [],
   "source": [
    "# Solution\n",
    "\n",
    "results4, details4 = run_solve_ivp(system4, slope_func2, \n",
    "                                   events=event_func)\n",
    "details4.message"
   ]
  },
  {
   "cell_type": "code",
   "execution_count": null,
   "id": "spare-pregnancy",
   "metadata": {},
   "outputs": [],
   "source": [
    "# Solution\n",
    "\n",
    "results4.tail()"
   ]
  },
  {
   "cell_type": "code",
   "execution_count": null,
   "id": "catholic-staff",
   "metadata": {},
   "outputs": [],
   "source": [
    "# Solution\n",
    "\n",
    "x_dist4 = results4.iloc[-1].x\n",
    "x_dist4"
   ]
  },
  {
   "cell_type": "code",
   "execution_count": null,
   "id": "broad-sequence",
   "metadata": {},
   "outputs": [],
   "source": [
    "# Solution\n",
    "\n",
    "x_dist4 - x_dist"
   ]
  },
  {
   "cell_type": "markdown",
   "id": "contained-diversity",
   "metadata": {},
   "source": [
    "### Under the hood\n",
    "\n",
    "`Vector` "
   ]
  }
 ],
 "metadata": {
  "celltoolbar": "Tags",
  "kernelspec": {
   "display_name": "Python 3",
   "language": "python",
   "name": "python3"
  },
  "language_info": {
   "codemirror_mode": {
    "name": "ipython",
    "version": 3
   },
   "file_extension": ".py",
   "mimetype": "text/x-python",
   "name": "python",
   "nbconvert_exporter": "python",
   "pygments_lexer": "ipython3",
   "version": "3.9.1"
  }
 },
 "nbformat": 4,
 "nbformat_minor": 5
}
