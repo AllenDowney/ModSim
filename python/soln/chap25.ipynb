{
 "cells": [
  {
   "cell_type": "markdown",
   "id": "unauthorized-winter",
   "metadata": {},
   "source": [
    "# Chapter 25"
   ]
  },
  {
   "cell_type": "markdown",
   "id": "complete-innocent",
   "metadata": {
    "tags": [
     "remove-cell"
    ]
   },
   "source": [
    "*Modeling and Simulation in Python*\n",
    "\n",
    "Copyright 2021 Allen Downey\n",
    "\n",
    "License: [Creative Commons Attribution-NonCommercial-ShareAlike 4.0 International](https://creativecommons.org/licenses/by-nc-sa/4.0/)"
   ]
  },
  {
   "cell_type": "code",
   "execution_count": 1,
   "id": "broken-procedure",
   "metadata": {
    "tags": [
     "remove-cell"
    ]
   },
   "outputs": [],
   "source": [
    "# install Pint if necessary\n",
    "\n",
    "try:\n",
    "    import pint\n",
    "except ImportError:\n",
    "    !pip install pint"
   ]
  },
  {
   "cell_type": "code",
   "execution_count": 2,
   "id": "massive-thong",
   "metadata": {
    "tags": [
     "remove-cell"
    ]
   },
   "outputs": [],
   "source": [
    "# download modsim.py if necessary\n",
    "\n",
    "from os.path import exists\n",
    "\n",
    "filename = 'modsim.py'\n",
    "if not exists(filename):\n",
    "    from urllib.request import urlretrieve\n",
    "    url = 'https://raw.githubusercontent.com/AllenDowney/ModSim/main/'\n",
    "    local, _ = urlretrieve(url+filename, filename)\n",
    "    print('Downloaded ' + local)"
   ]
  },
  {
   "cell_type": "code",
   "execution_count": 3,
   "id": "experienced-junction",
   "metadata": {
    "tags": [
     "remove-cell"
    ]
   },
   "outputs": [],
   "source": [
    "# import functions from modsim\n",
    "\n",
    "from modsim import *"
   ]
  },
  {
   "cell_type": "markdown",
   "id": "desirable-jason",
   "metadata": {},
   "source": [
    "Intro"
   ]
  },
  {
   "cell_type": "markdown",
   "id": "earned-motorcycle",
   "metadata": {},
   "source": [
    "In the previous chapter we modeled a scenario with constant angular\n",
    "velocity. In this chapter we make it more complex; we'll model a teapot, on a turntable, revolving with constant angular acceleration and deceleration."
   ]
  },
  {
   "cell_type": "markdown",
   "id": "together-tobacco",
   "metadata": {},
   "source": [
    "## Angular acceleration\n",
    "\n",
    "Just as linear acceleration is the derivative of velocity, **angular\n",
    "acceleration** is the derivative of angular velocity. And just as linear acceleration is caused by force, angular acceleration is caused by the rotational version of force, **torque**. If you are not familiar with torque, you can read about it at <http://modsimpy.com/torque>.\n",
    "\n",
    "In general, torque is a vector quantity, defined as the **cross\n",
    "product** of $\\vec{r}$ and $\\vec{F}$, where $\\vec{r}$ is the **lever\n",
    "arm**, a vector from the point of rotation to the point where the force is applied, and $\\vec{F}$ is the vector that represents the magnitude and direction of the force."
   ]
  },
  {
   "cell_type": "markdown",
   "id": "promotional-trigger",
   "metadata": {},
   "source": [
    "However, for the problems in this chapter, we only need the *magnitude* of torque; we don't care about the direction. In that case, we can compute \n",
    "\n",
    "$$\\tau = r F \\sin \\theta$$ \n",
    "\n",
    "where $\\tau$ is torque, $r$ is the length of the lever arm, $F$ is the magnitude of force, and $\\theta$ is the angle between $\\vec{r}$ and $\\vec{F}$.\n",
    "\n",
    "Since torque is the product of a length and a force, it is expressed in newton meters (Nm)."
   ]
  },
  {
   "cell_type": "markdown",
   "id": "infrared-summit",
   "metadata": {},
   "source": [
    "## Moment of inertia\n",
    "\n",
    "In the same way that linear acceleration is related to force by Newton's second law of motion, $F=ma$, angular acceleration is related to torque by another form of Newton's law: \n",
    "\n",
    "$$\\tau = I \\alpha$$ \n",
    "\n",
    "where $\\alpha$ is angular acceleration and $I$ is **moment of inertia**. Just as mass is what makes it hard to accelerate an object, moment of inertia is what makes it hard to spin an object.\n",
    "(That might sound like a dumb way to describe mass, but might actually be the most fundamental definition.)\n",
    "\n",
    "In the most general case, a 3-D object rotating around an arbitrary\n",
    "axis, moment of inertia is a tensor, which is a function that takes a\n",
    "vector as a parameter and returns a vector as a result.\n",
    "\n",
    "Fortunately, in a system where all rotation and torque happens around a single axis, we don't have to deal with the most general case. We can treat moment of inertia as a scalar quantity.\n",
    "\n",
    "For a small object with mass $m$, rotating around a point at distance\n",
    "$r$, the moment of inertia is $I = m r^2$. For more complex objects, we can compute $I$ by dividing the object into small masses, computing\n",
    "moments of inertia for each mass, and adding them up.\n",
    "\n",
    "However, for most simple shapes, people have already done the\n",
    "calculations; you can just look up the answers. For example, see\n",
    "<http://modsimpy.com/moment>."
   ]
  },
  {
   "cell_type": "markdown",
   "id": "julian-klein",
   "metadata": {},
   "source": [
    "## Teapots and turntables\n",
    "\n",
    "Tables in Chinese restaurants often have a rotating tray or turntable\n",
    "that makes it easy for customers to share dishes. These turntables are\n",
    "supported by low-friction bearings that allow them to turn easily and\n",
    "glide. However, they can be heavy, especially when they are loaded with food, so they have a high moment of inertia.\n",
    "\n",
    "Suppose I am sitting at a table with a pot of tea on the turntable\n",
    "directly in front of me, and the person sitting directly opposite asks\n",
    "me to pass the tea. I push on the edge of the turntable with 1 N of\n",
    "force until it has turned 0.5 rad, then let go. The turntable glides\n",
    "until it comes to a stop 1.5 rad from the starting position. How much\n",
    "force should I apply for a second push so the teapot glides to a stop\n",
    "directly opposite me?\n",
    "\n",
    "We'll answer this question in these steps:\n",
    "\n",
    "1.  I'll use the results from the first push to estimate the coefficient of friction for the turntable.\n",
    "\n",
    "2.  As an exercise, you'll use that coefficient of friction to estimate the force needed to rotate the turntable through the remaining angle.\n",
    "\n",
    "Our simulation will use the following parameters:\n",
    "\n",
    "1.  The radius of the turntable is 0.5 m, and its weight is 7 kg.\n",
    "\n",
    "2.  The teapot weights 0.3 kg, and it sits 0.4 m from the center of the turntable.\n",
    "\n",
    "![Diagram of a turntable with a\n",
    "teapot.](figs/teapot.pdf){height=\"2.5in\"}\n",
    "\n",
    "This figure shows the scenario, where $F$ is the force I apply to the turntable at the perimeter, perpendicular to the moment arm, $r$, and $\\tau$ is the resulting torque. The blue circle near the bottom is the teapot.\n",
    "\n",
    "Here's a `Params` object with the parameters of the scenario:"
   ]
  },
  {
   "cell_type": "code",
   "execution_count": 2,
   "id": "cathedral-lithuania",
   "metadata": {},
   "outputs": [],
   "source": [
    "import pint\n",
    "\n",
    "units = pint.UnitRegistry()\n",
    "rad = units.radian\n",
    "m = units.meter\n",
    "s = units.second\n",
    "kg = units.kilogram\n",
    "N = units.newton"
   ]
  },
  {
   "cell_type": "code",
   "execution_count": 3,
   "id": "enclosed-happiness",
   "metadata": {},
   "outputs": [],
   "source": [
    "from modsim import Params\n",
    "from numpy import pi\n",
    "\n",
    "params = Params(radius_disk=0.5,     # m\n",
    "                mass_disk=7,         # kg\n",
    "                radius_pot=0.4,      # m\n",
    "                mass_pot=0.3,        # kg\n",
    "                force=1,             # N\n",
    "                torque_friction=0.2, # N*m\n",
    "                theta_0=0,           # radian\n",
    "                theta_push=0.5,      # radian\n",
    "                theta_test=1.5,      # radian\n",
    "                theta_target=pi,     # radian\n",
    "                t_end=20             # s\n",
    "               )"
   ]
  },
  {
   "cell_type": "code",
   "execution_count": 4,
   "id": "robust-adrian",
   "metadata": {},
   "outputs": [],
   "source": [
    "from modsim import Params\n",
    "from numpy import pi\n",
    "\n",
    "params = Params(radius_disk = 0.5*m,\n",
    "                mass_disk = 7*kg,\n",
    "                radius_pot = 0.4*m,\n",
    "                mass_pot = 0.3*kg,\n",
    "                force = 1*N,\n",
    "                torque_friction = 0.2*N*m,\n",
    "                theta_0 = 0*rad,\n",
    "                omega_0 = 0*rad/s,\n",
    "                theta_push = 0.5*rad,\n",
    "                theta_test = 1.5*rad,\n",
    "                theta_target = pi*rad,\n",
    "                t_end = 20*s)"
   ]
  },
  {
   "cell_type": "markdown",
   "id": "second-leather",
   "metadata": {},
   "source": [
    "`make_system` creates the initial state, `init`, and computes the total\n",
    "moment of inertia for the turntable and the teapot."
   ]
  },
  {
   "cell_type": "code",
   "execution_count": 5,
   "id": "acoustic-furniture",
   "metadata": {},
   "outputs": [],
   "source": [
    "from modsim import State, System\n",
    "\n",
    "def make_system(params):\n",
    "    \"\"\"Make a system object.\n",
    "    \n",
    "    params: Params object\n",
    "    \n",
    "    returns: System object\n",
    "    \"\"\"\n",
    "    mass_disk, mass_pot = params.mass_disk, params.mass_pot\n",
    "    radius_disk, radius_pot = params.radius_disk, params.radius_pot\n",
    "    \n",
    "    init = State(theta=params.theta_0, omega=params.omega_0)\n",
    "    \n",
    "    I_disk = mass_disk * radius_disk**2 / 2\n",
    "    I_pot = mass_pot * radius_pot**2\n",
    "    \n",
    "    return System(params, \n",
    "                  init=init, \n",
    "                  I=I_disk+I_pot,\n",
    "                  )"
   ]
  },
  {
   "cell_type": "markdown",
   "id": "convenient-control",
   "metadata": {},
   "source": [
    "In the initial state, `theta` represents the angle of the table in rad;\n",
    "`omega` represents the angular velocity in rad/s.\n",
    "\n",
    "`I_disk` is the moment of inertia of the turntable, which is based on\n",
    "the moment of inertia for a horizontal disk revolving around a vertical axis through its center: \n",
    "\n",
    "$$I_{disk} = m r^2 / 2$$ \n",
    "\n",
    "`I_pot` is the moment\n",
    "of inertia of the teapot, which I treat as a point mass with:\n",
    "\n",
    "$$I_{point} = m r^2$$ \n",
    "\n",
    "In SI units, moment of inertia is expressed in kg m$^2$.\n",
    "\n",
    "Now we can make a `System` object:"
   ]
  },
  {
   "cell_type": "code",
   "execution_count": 6,
   "id": "objective-station",
   "metadata": {},
   "outputs": [],
   "source": [
    "system1 = make_system(params)"
   ]
  },
  {
   "cell_type": "markdown",
   "id": "crucial-recognition",
   "metadata": {},
   "source": [
    "Here's a slope that takes the current state, which contains angle and\n",
    "angular velocity, and returns the derivatives, angular velocity and\n",
    "angular acceleration:"
   ]
  },
  {
   "cell_type": "code",
   "execution_count": 7,
   "id": "ranking-local",
   "metadata": {},
   "outputs": [],
   "source": [
    "def slope_func(t, state, system):\n",
    "    \"\"\"Computes the derivatives of the state variables.\n",
    "    \n",
    "    state: State object\n",
    "    t: time\n",
    "    system: System object \n",
    "    \n",
    "    returns: sequence of derivatives\n",
    "    \"\"\"\n",
    "    theta, omega = state\n",
    "    radius_disk, force = system.radius_disk, system.force\n",
    "    torque_friction, I = system.torque_friction, system.I\n",
    "    \n",
    "    torque = radius_disk * force - torque_friction\n",
    "    alpha = torque / I\n",
    "    \n",
    "    return omega, alpha "
   ]
  },
  {
   "cell_type": "markdown",
   "id": "exposed-court",
   "metadata": {},
   "source": [
    "In this scenario, the force I apply to the turntable is always\n",
    "perpendicular to the lever arm, so $\\sin \\theta = 1$ and the torque due\n",
    "to force is $\\tau = r F$.\n",
    "\n",
    "`torque_friction` represents the torque due to friction. Because the\n",
    "turntable is rotating in the direction of positive `theta`, friction\n",
    "acts in the direction of negative `theta`."
   ]
  },
  {
   "cell_type": "code",
   "execution_count": 8,
   "id": "saved-purple",
   "metadata": {},
   "outputs": [
    {
     "data": {
      "text/plain": [
       "(0.0 <Unit('radian / second')>,\n",
       " 0.32502708559046584 <Unit('newton / kilogram / meter')>)"
      ]
     },
     "execution_count": 8,
     "metadata": {},
     "output_type": "execute_result"
    }
   ],
   "source": [
    "slope_func(0, system1.init, system1)"
   ]
  },
  {
   "cell_type": "markdown",
   "id": "decent-microwave",
   "metadata": {},
   "source": [
    "We are almost ready to run the simulation, but first there's a problem we have to address.\n",
    "\n",
    "When I stop pushing on the turntable, the angular acceleration changes\n",
    "abruptly. We could implement the slope function with an `if` statement\n",
    "that checks the value of `theta` and sets `force` accordingly. And for a coarse model like this one, that might be fine. But we will get more\n",
    "accurate results if we simulate the system in two phases:\n",
    "\n",
    "1.  During the first phase, force is constant, and we run until `theta` is 0.5 radians.\n",
    "\n",
    "2.  During the second phase, force is 0, and we run until `omega` is 0.\n",
    "\n",
    "Then we can combine the results of the two phases into a single\n",
    "`TimeFrame`.\n",
    "\n",
    "Here's the event function I'll use for Phase 1; it stops the simulation when `theta` reaches `theta_end`, which is when I stop pushing:"
   ]
  },
  {
   "cell_type": "code",
   "execution_count": 9,
   "id": "black-wichita",
   "metadata": {},
   "outputs": [],
   "source": [
    "def event_func1(t, state, system):\n",
    "    \"\"\"Stops when theta reaches theta_push.\n",
    "    \n",
    "    state: State object\n",
    "    t: time\n",
    "    system: System object \n",
    "    \n",
    "    returns: difference from target\n",
    "    \"\"\"\n",
    "    theta, omega = state\n",
    "    return theta - system.theta_push"
   ]
  },
  {
   "cell_type": "markdown",
   "id": "separate-college",
   "metadata": {},
   "source": [
    "As usual, we'll test the event function with the initial conditions."
   ]
  },
  {
   "cell_type": "code",
   "execution_count": 10,
   "id": "ranking-google",
   "metadata": {},
   "outputs": [
    {
     "data": {
      "text/html": [
       "-0.5 radian"
      ],
      "text/latex": [
       "$-0.5\\ \\mathrm{radian}$"
      ],
      "text/plain": [
       "-0.5 <Unit('radian')>"
      ]
     },
     "execution_count": 10,
     "metadata": {},
     "output_type": "execute_result"
    }
   ],
   "source": [
    "event_func1(0, system1.init, system1)"
   ]
  },
  {
   "cell_type": "markdown",
   "id": "reduced-sharp",
   "metadata": {},
   "source": [
    "Now we can run the first phase of the simulation."
   ]
  },
  {
   "cell_type": "code",
   "execution_count": 11,
   "id": "meaning-philosophy",
   "metadata": {},
   "outputs": [
    {
     "data": {
      "text/plain": [
       "'A termination event occurred.'"
      ]
     },
     "execution_count": 11,
     "metadata": {},
     "output_type": "execute_result"
    }
   ],
   "source": [
    "from modsim import run_solve_ivp\n",
    "\n",
    "results1, details1 = run_solve_ivp(system1, slope_func,\n",
    "                                   events=event_func1)\n",
    "details1.message"
   ]
  },
  {
   "cell_type": "code",
   "execution_count": 12,
   "id": "focused-invention",
   "metadata": {},
   "outputs": [
    {
     "data": {
      "text/html": [
       "<div>\n",
       "<style scoped>\n",
       "    .dataframe tbody tr th:only-of-type {\n",
       "        vertical-align: middle;\n",
       "    }\n",
       "\n",
       "    .dataframe tbody tr th {\n",
       "        vertical-align: top;\n",
       "    }\n",
       "\n",
       "    .dataframe thead th {\n",
       "        text-align: right;\n",
       "    }\n",
       "</style>\n",
       "<table border=\"1\" class=\"dataframe\">\n",
       "  <thead>\n",
       "    <tr style=\"text-align: right;\">\n",
       "      <th></th>\n",
       "      <th>theta</th>\n",
       "      <th>omega</th>\n",
       "    </tr>\n",
       "  </thead>\n",
       "  <tbody>\n",
       "    <tr>\n",
       "      <th>1.613720</th>\n",
       "      <td>0.4232</td>\n",
       "      <td>0.524503</td>\n",
       "    </tr>\n",
       "    <tr>\n",
       "      <th>1.648800</th>\n",
       "      <td>0.4418</td>\n",
       "      <td>0.535905</td>\n",
       "    </tr>\n",
       "    <tr>\n",
       "      <th>1.683881</th>\n",
       "      <td>0.4608</td>\n",
       "      <td>0.547307</td>\n",
       "    </tr>\n",
       "    <tr>\n",
       "      <th>1.718962</th>\n",
       "      <td>0.4802</td>\n",
       "      <td>0.558709</td>\n",
       "    </tr>\n",
       "    <tr>\n",
       "      <th>1.754043</th>\n",
       "      <td>0.5000</td>\n",
       "      <td>0.570111</td>\n",
       "    </tr>\n",
       "  </tbody>\n",
       "</table>\n",
       "</div>"
      ],
      "text/plain": [
       "           theta     omega\n",
       "1.613720  0.4232  0.524503\n",
       "1.648800  0.4418  0.535905\n",
       "1.683881  0.4608  0.547307\n",
       "1.718962  0.4802  0.558709\n",
       "1.754043  0.5000  0.570111"
      ]
     },
     "execution_count": 12,
     "metadata": {},
     "output_type": "execute_result"
    }
   ],
   "source": [
    "results1.tail()"
   ]
  },
  {
   "cell_type": "markdown",
   "id": "willing-receipt",
   "metadata": {},
   "source": [
    "\n",
    "\n",
    "Before we run the second phase, we have to extract the final time and\n",
    "state of the first phase."
   ]
  },
  {
   "cell_type": "code",
   "execution_count": 13,
   "id": "russian-experience",
   "metadata": {},
   "outputs": [],
   "source": [
    "t_0 = results1.index[-1]\n",
    "init2 = results1.iloc[-1]"
   ]
  },
  {
   "cell_type": "markdown",
   "id": "aware-generator",
   "metadata": {},
   "source": [
    "Now we can make a `System` object for Phase 2, with the initial state\n",
    "from Phase 1, and with `force=0`."
   ]
  },
  {
   "cell_type": "code",
   "execution_count": 14,
   "id": "chinese-cover",
   "metadata": {},
   "outputs": [],
   "source": [
    "system2 = System(system1, t_0=t_0, init=init2, force=0)"
   ]
  },
  {
   "cell_type": "markdown",
   "id": "actual-monaco",
   "metadata": {},
   "source": [
    "For the second phase, we need an event function that stops when the\n",
    "turntable stops; that is, when angular velocity is 0."
   ]
  },
  {
   "cell_type": "code",
   "execution_count": 15,
   "id": "recovered-section",
   "metadata": {},
   "outputs": [],
   "source": [
    "def event_func2(t, state, system):\n",
    "    \"\"\"Stops when omega is 0.\n",
    "    \n",
    "    state: State object\n",
    "    t: time\n",
    "    system: System object \n",
    "    \n",
    "    returns: omega\n",
    "    \"\"\"\n",
    "    theta, omega = state\n",
    "    return omega"
   ]
  },
  {
   "cell_type": "code",
   "execution_count": 16,
   "id": "corporate-taste",
   "metadata": {},
   "outputs": [
    {
     "data": {
      "text/plain": [
       "0.5701114676889649"
      ]
     },
     "execution_count": 16,
     "metadata": {},
     "output_type": "execute_result"
    }
   ],
   "source": [
    "event_func2(system2.t_0, system2.init, system2)"
   ]
  },
  {
   "cell_type": "markdown",
   "id": "administrative-major",
   "metadata": {},
   "source": [
    "Now we can run the second phase."
   ]
  },
  {
   "cell_type": "code",
   "execution_count": 17,
   "id": "destroyed-adrian",
   "metadata": {},
   "outputs": [
    {
     "data": {
      "text/plain": [
       "'A termination event occurred.'"
      ]
     },
     "execution_count": 17,
     "metadata": {},
     "output_type": "execute_result"
    }
   ],
   "source": [
    "results2, details2 = run_solve_ivp(system2, slope_func,\n",
    "                                   events=event_func2)\n",
    "details2.message"
   ]
  },
  {
   "cell_type": "markdown",
   "id": "hindu-requirement",
   "metadata": {},
   "source": [
    "Pandas provides `combine_first`, which combines `results1` and\n",
    "`results2`."
   ]
  },
  {
   "cell_type": "code",
   "execution_count": 18,
   "id": "frank-scene",
   "metadata": {},
   "outputs": [],
   "source": [
    "results = results1.combine_first(results2)"
   ]
  },
  {
   "cell_type": "markdown",
   "id": "metropolitan-roommate",
   "metadata": {},
   "source": [
    "Now we can plot `theta` for both phases."
   ]
  },
  {
   "cell_type": "code",
   "execution_count": 19,
   "id": "distributed-humanitarian",
   "metadata": {},
   "outputs": [
    {
     "data": {
      "image/png": "[encoded data removed]",
      "text/plain": [
       "<Figure size 432x288 with 1 Axes>"
      ]
     },
     "metadata": {
      "needs_background": "light"
     },
     "output_type": "display_data"
    }
   ],
   "source": [
    "from modsim import decorate\n",
    "\n",
    "def plot_theta(results):\n",
    "    results.theta.plot(label='theta')\n",
    "    decorate(xlabel='Time (s)',\n",
    "             ylabel='Angle (rad)')\n",
    "    \n",
    "plot_theta(results)"
   ]
  },
  {
   "cell_type": "markdown",
   "id": "excess-confidence",
   "metadata": {},
   "source": [
    "And `omega`."
   ]
  },
  {
   "cell_type": "code",
   "execution_count": 20,
   "id": "proved-surfing",
   "metadata": {
    "scrolled": true
   },
   "outputs": [
    {
     "data": {
      "image/png": "[encoded data removed]",
      "text/plain": [
       "<Figure size 432x288 with 1 Axes>"
      ]
     },
     "metadata": {
      "needs_background": "light"
     },
     "output_type": "display_data"
    }
   ],
   "source": [
    "def plot_omega(results):\n",
    "    results.omega.plot(label='omega', color='C1')\n",
    "    decorate(xlabel='Time (s)',\n",
    "             ylabel='Angular velocity (rad/s)')\n",
    "    \n",
    "plot_omega(results)"
   ]
  },
  {
   "cell_type": "markdown",
   "id": "handy-frontier",
   "metadata": {},
   "source": [
    "Angular velocity, `omega`, increases linearly while I am pushing, and decreases linearly after I let go. The angle, `theta`, is the integral of angular velocity, so it forms a parabola during each phase.\n",
    "\n",
    "In the next section, we'll use this simulation to estimate the torque\n",
    "due to friction."
   ]
  },
  {
   "cell_type": "markdown",
   "id": "careful-minneapolis",
   "metadata": {},
   "source": [
    "## Estimating friction\n",
    "\n",
    "Let's take the code from the previous section and wrap it in a function."
   ]
  },
  {
   "cell_type": "code",
   "execution_count": 21,
   "id": "constant-wallace",
   "metadata": {},
   "outputs": [],
   "source": [
    "def run_two_phases(force, torque_friction, params):\n",
    "    \"\"\"Run both phases.\n",
    "    \n",
    "    force: force applied to the turntable\n",
    "    torque_friction: friction due to torque\n",
    "    params: Params object\n",
    "    \n",
    "    returns: TimeFrame of simulation results\n",
    "    \"\"\"\n",
    "    # put the specified parameters into the Params object\n",
    "    params = Params(params, \n",
    "                    force=force, \n",
    "                    torque_friction=torque_friction)\n",
    "\n",
    "    # run phase 1\n",
    "    system1 = make_system(params)\n",
    "    results1, details1 = run_solve_ivp(system1, slope_func, \n",
    "                                       events=event_func1)\n",
    "\n",
    "    # get the final state from phase 1\n",
    "    t_0 = results1.index[-1]\n",
    "    init2 = results1.iloc[-1]\n",
    "    \n",
    "    # run phase 2\n",
    "    system2 = System(system1, t_0=t_0, init=init2, force=0)\n",
    "    results2, details2 = run_solve_ivp(system2, slope_func, \n",
    "                                       events=event_func2)\n",
    "    \n",
    "    # combine and return the results\n",
    "    results = results1.combine_first(results2)\n",
    "    return results"
   ]
  },
  {
   "cell_type": "markdown",
   "id": "positive-possible",
   "metadata": {},
   "source": [
    "Let's test it with the same parameters."
   ]
  },
  {
   "cell_type": "code",
   "execution_count": 22,
   "id": "played-ranking",
   "metadata": {},
   "outputs": [
    {
     "data": {
      "text/html": [
       "<div>\n",
       "<style scoped>\n",
       "    .dataframe tbody tr th:only-of-type {\n",
       "        vertical-align: middle;\n",
       "    }\n",
       "\n",
       "    .dataframe tbody tr th {\n",
       "        vertical-align: top;\n",
       "    }\n",
       "\n",
       "    .dataframe thead th {\n",
       "        text-align: right;\n",
       "    }\n",
       "</style>\n",
       "<table border=\"1\" class=\"dataframe\">\n",
       "  <thead>\n",
       "    <tr style=\"text-align: right;\">\n",
       "      <th></th>\n",
       "      <th>theta</th>\n",
       "      <th>omega</th>\n",
       "    </tr>\n",
       "  </thead>\n",
       "  <tbody>\n",
       "    <tr>\n",
       "      <th>4.174622</th>\n",
       "      <td>1.2452</td>\n",
       "      <td>4.560892e-02</td>\n",
       "    </tr>\n",
       "    <tr>\n",
       "      <th>4.227244</th>\n",
       "      <td>1.2473</td>\n",
       "      <td>3.420669e-02</td>\n",
       "    </tr>\n",
       "    <tr>\n",
       "      <th>4.279865</th>\n",
       "      <td>1.2488</td>\n",
       "      <td>2.280446e-02</td>\n",
       "    </tr>\n",
       "    <tr>\n",
       "      <th>4.332486</th>\n",
       "      <td>1.2497</td>\n",
       "      <td>1.140223e-02</td>\n",
       "    </tr>\n",
       "    <tr>\n",
       "      <th>4.385107</th>\n",
       "      <td>1.2500</td>\n",
       "      <td>2.775558e-16</td>\n",
       "    </tr>\n",
       "  </tbody>\n",
       "</table>\n",
       "</div>"
      ],
      "text/plain": [
       "           theta         omega\n",
       "4.174622  1.2452  4.560892e-02\n",
       "4.227244  1.2473  3.420669e-02\n",
       "4.279865  1.2488  2.280446e-02\n",
       "4.332486  1.2497  1.140223e-02\n",
       "4.385107  1.2500  2.775558e-16"
      ]
     },
     "execution_count": 22,
     "metadata": {},
     "output_type": "execute_result"
    }
   ],
   "source": [
    "force = 1\n",
    "torque_friction = 0.2\n",
    "results = run_two_phases(params.force, params.torque_friction, params)\n",
    "results.tail()"
   ]
  },
  {
   "cell_type": "markdown",
   "id": "damaged-concert",
   "metadata": {},
   "source": [
    "And check the results."
   ]
  },
  {
   "cell_type": "code",
   "execution_count": 23,
   "id": "bulgarian-halloween",
   "metadata": {},
   "outputs": [
    {
     "data": {
      "text/plain": [
       "1.2499999999999993"
      ]
     },
     "execution_count": 23,
     "metadata": {},
     "output_type": "execute_result"
    }
   ],
   "source": [
    "theta_final = results.iloc[-1].theta\n",
    "theta_final"
   ]
  },
  {
   "cell_type": "markdown",
   "id": "electronic-latin",
   "metadata": {},
   "source": [
    "We can use `run_two_phases` to write an error function we can use, with\n",
    "`root_bisect`, to find the torque due to friction that yields the\n",
    "observed results from the first push, a total rotation of 1.5 rad."
   ]
  },
  {
   "cell_type": "code",
   "execution_count": 24,
   "id": "skilled-diving",
   "metadata": {},
   "outputs": [],
   "source": [
    "def error_func1(torque_friction, params):\n",
    "    \"\"\"Error function for root_scalar.\n",
    "    \n",
    "    torque_friction: hypothetical value\n",
    "    params: Params object\n",
    "    \n",
    "    returns: offset from target value\n",
    "    \"\"\"\n",
    "    force = 1\n",
    "    results = run_two_phases(force, torque_friction, params)\n",
    "    theta_final = results.iloc[-1].theta\n",
    "    print(torque_friction, theta_final)\n",
    "    return theta_final - params.theta_test"
   ]
  },
  {
   "cell_type": "markdown",
   "id": "generous-parcel",
   "metadata": {},
   "source": [
    "Testing the error function."
   ]
  },
  {
   "cell_type": "code",
   "execution_count": 25,
   "id": "united-ranch",
   "metadata": {},
   "outputs": [
    {
     "name": "stdout",
     "output_type": "stream",
     "text": [
      "0.1 2.5000000000000018\n"
     ]
    },
    {
     "data": {
      "text/html": [
       "1.0000000000000018 radian"
      ],
      "text/latex": [
       "$1.0000000000000018\\ \\mathrm{radian}$"
      ],
      "text/plain": [
       "1.0000000000000018 <Unit('radian')>"
      ]
     },
     "execution_count": 25,
     "metadata": {},
     "output_type": "execute_result"
    }
   ],
   "source": [
    "guess1 = 0.1\n",
    "error_func1(guess1, params)"
   ]
  },
  {
   "cell_type": "code",
   "execution_count": 26,
   "id": "rotary-brazilian",
   "metadata": {},
   "outputs": [
    {
     "name": "stdout",
     "output_type": "stream",
     "text": [
      "0.2 1.2499999999999993\n"
     ]
    },
    {
     "data": {
      "text/html": [
       "-0.25000000000000067 radian"
      ],
      "text/latex": [
       "$-0.25000000000000067\\ \\mathrm{radian}$"
      ],
      "text/plain": [
       "-0.25000000000000067 <Unit('radian')>"
      ]
     },
     "execution_count": 26,
     "metadata": {},
     "output_type": "execute_result"
    }
   ],
   "source": [
    "guess2 = 0.2\n",
    "error_func1(guess2, params)"
   ]
  },
  {
   "cell_type": "markdown",
   "id": "comparable-physiology",
   "metadata": {},
   "source": [
    "And running `root_scalar`."
   ]
  },
  {
   "cell_type": "code",
   "execution_count": 27,
   "id": "hungarian-cattle",
   "metadata": {},
   "outputs": [
    {
     "name": "stdout",
     "output_type": "stream",
     "text": [
      "0.1 2.5000000000000018\n",
      "0.2 1.2499999999999993\n",
      "0.18 1.388888888888888\n",
      "0.16559999999999983 1.5096618357487925\n",
      "0.16675199999999987 1.4992323930147764\n",
      "0.16666721279999988 1.4999950848161059\n",
      "0.16666666666487695 1.5000000000161076\n",
      "0.16666666666666669 1.5000000000000002\n",
      "0.16666666666766675 1.4999999999909974\n"
     ]
    }
   ],
   "source": [
    "from scipy.optimize import root_scalar\n",
    "\n",
    "res = root_scalar(error_func1, params, bracket=[guess1, guess2])"
   ]
  },
  {
   "cell_type": "markdown",
   "id": "abandoned-remedy",
   "metadata": {},
   "source": [
    "The result is 0.166 Nm, a little less than the initial guess."
   ]
  },
  {
   "cell_type": "markdown",
   "id": "knowing-sleeve",
   "metadata": {},
   "source": [
    "## Animation\n",
    "\n",
    "\n",
    "Here's a draw function we can use to animate the results."
   ]
  },
  {
   "cell_type": "code",
   "execution_count": 28,
   "id": "funky-affect",
   "metadata": {},
   "outputs": [],
   "source": [
    "from matplotlib.patches import Circle, Arrow\n",
    "from matplotlib.pyplot import gca, axis\n",
    "from modsim import pol2cart\n",
    "\n",
    "def draw_func(t, state, params):\n",
    "    theta, omega = state\n",
    "    \n",
    "    # draw a circle for the table\n",
    "    circle1 = Circle([0, 0], params.radius_disk)\n",
    "    gca().add_patch(circle1)\n",
    "    \n",
    "    # draw a circle for the teapot\n",
    "    center = pol2cart(theta, params.radius_pot)\n",
    "    circle2 = Circle(center, 0.05, color='C1')\n",
    "    gca().add_patch(circle2)\n",
    "\n",
    "    axis('equal')"
   ]
  },
  {
   "cell_type": "code",
   "execution_count": 29,
   "id": "gentle-transmission",
   "metadata": {},
   "outputs": [],
   "source": [
    "from modsim import remove_units\n",
    "\n",
    "params_no_unit = remove_units(params)"
   ]
  },
  {
   "cell_type": "code",
   "execution_count": 30,
   "id": "illegal-remainder",
   "metadata": {},
   "outputs": [
    {
     "data": {
      "image/png": "[encoded data removed]",
      "text/plain": [
       "<Figure size 432x288 with 1 Axes>"
      ]
     },
     "metadata": {
      "needs_background": "light"
     },
     "output_type": "display_data"
    }
   ],
   "source": [
    "state = results.iloc[0]\n",
    "draw_func(0, state, params_no_unit)"
   ]
  },
  {
   "cell_type": "code",
   "execution_count": 31,
   "id": "toxic-shark",
   "metadata": {},
   "outputs": [
    {
     "data": {
      "image/png": "[encoded data removed]",
      "text/plain": [
       "<Figure size 432x288 with 1 Axes>"
      ]
     },
     "metadata": {
      "needs_background": "light"
     },
     "output_type": "display_data"
    }
   ],
   "source": [
    "from modsim import animate\n",
    "\n",
    "animate(results, draw_func, params_no_unit)"
   ]
  },
  {
   "cell_type": "markdown",
   "id": "horizontal-shade",
   "metadata": {},
   "source": [
    "## Summary"
   ]
  },
  {
   "cell_type": "markdown",
   "id": "professional-modem",
   "metadata": {},
   "source": [
    "Now that we know the torque due to friction, we can compute the force\n",
    "needed to rotate the turntable through the remaining angle, that is,\n",
    "from 1.5 rad to 3.14 rad.\n",
    "\n",
    "\n",
    "\n"
   ]
  },
  {
   "cell_type": "markdown",
   "id": "practical-cabinet",
   "metadata": {},
   "source": [
    "\n",
    "### Exercises\n",
    "\n",
    "Now finish off the example by estimating the force that delivers the teapot to the desired position.\n",
    "\n",
    "Write an error function that takes `force` and `params` and returns the offset from the desired angle."
   ]
  },
  {
   "cell_type": "code",
   "execution_count": 32,
   "id": "apparent-lancaster",
   "metadata": {},
   "outputs": [],
   "source": [
    "# Solution\n",
    "\n",
    "def error_func2(force, params):\n",
    "    \"\"\"Error function for root_scalar.\n",
    "    \n",
    "    force: hypothetical value\n",
    "    params: Params object\n",
    "    \n",
    "    returns: offset from target value\n",
    "    \"\"\"\n",
    "    results = run_two_phases(force, params.torque_friction, params)\n",
    "    theta_final = results.iloc[-1].theta\n",
    "    print(force, theta_final)\n",
    "    remaining_angle = params.theta_target - params.theta_test\n",
    "    return theta_final - remaining_angle"
   ]
  },
  {
   "cell_type": "code",
   "execution_count": 33,
   "id": "persistent-rings",
   "metadata": {},
   "outputs": [
    {
     "name": "stdout",
     "output_type": "stream",
     "text": [
      "1.0 1.2499999999999993\n"
     ]
    },
    {
     "data": {
      "text/html": [
       "-0.3915926535897938 radian"
      ],
      "text/latex": [
       "$-0.3915926535897938\\ \\mathrm{radian}$"
      ],
      "text/plain": [
       "-0.3915926535897938 <Unit('radian')>"
      ]
     },
     "execution_count": 33,
     "metadata": {},
     "output_type": "execute_result"
    }
   ],
   "source": [
    "# Solution\n",
    "\n",
    "guess1 = 1.0\n",
    "params2 = params.set(torque_friction=torque_friction)\n",
    "error_func2(guess1, params)"
   ]
  },
  {
   "cell_type": "code",
   "execution_count": 34,
   "id": "previous-pittsburgh",
   "metadata": {},
   "outputs": [
    {
     "name": "stdout",
     "output_type": "stream",
     "text": [
      "2.0 2.50000000000001\n"
     ]
    },
    {
     "data": {
      "text/html": [
       "0.8584073464102171 radian"
      ],
      "text/latex": [
       "$0.8584073464102171\\ \\mathrm{radian}$"
      ],
      "text/plain": [
       "0.8584073464102171 <Unit('radian')>"
      ]
     },
     "execution_count": 34,
     "metadata": {},
     "output_type": "execute_result"
    }
   ],
   "source": [
    "# Solution\n",
    "\n",
    "guess2 = 2.0\n",
    "error_func2(guess2, params)"
   ]
  },
  {
   "cell_type": "code",
   "execution_count": 35,
   "id": "governing-component",
   "metadata": {},
   "outputs": [
    {
     "name": "stdout",
     "output_type": "stream",
     "text": [
      "1.0 1.2499999999999993\n",
      "2.0 2.50000000000001\n",
      "1.3132741228718323 1.64159265358979\n",
      "1.3132741228728328 1.6415926535910412\n"
     ]
    }
   ],
   "source": [
    "# Solution\n",
    "\n",
    "res = root_scalar(error_func2, params, bracket=[guess1, guess2])"
   ]
  },
  {
   "cell_type": "code",
   "execution_count": 36,
   "id": "statistical-behalf",
   "metadata": {},
   "outputs": [
    {
     "data": {
      "text/plain": [
       "3.14159265358979"
      ]
     },
     "execution_count": 36,
     "metadata": {},
     "output_type": "execute_result"
    }
   ],
   "source": [
    "# Solution\n",
    "\n",
    "force = res.root\n",
    "results = run_two_phases(force, params.torque_friction, params)\n",
    "theta_final = results.iloc[-1].theta\n",
    "theta_final + 1.5"
   ]
  },
  {
   "cell_type": "code",
   "execution_count": null,
   "id": "unauthorized-equity",
   "metadata": {},
   "outputs": [],
   "source": []
  }
 ],
 "metadata": {
  "kernelspec": {
   "display_name": "Python 3",
   "language": "python",
   "name": "python3"
  },
  "language_info": {
   "codemirror_mode": {
    "name": "ipython",
    "version": 3
   },
   "file_extension": ".py",
   "mimetype": "text/x-python",
   "name": "python",
   "nbconvert_exporter": "python",
   "pygments_lexer": "ipython3",
   "version": "3.9.1"
  }
 },
 "nbformat": 4,
 "nbformat_minor": 5
}
