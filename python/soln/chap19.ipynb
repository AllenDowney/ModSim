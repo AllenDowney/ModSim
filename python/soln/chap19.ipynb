{
 "cells": [
  {
   "cell_type": "markdown",
   "id": "mighty-israeli",
   "metadata": {},
   "source": [
    "# Chapter 19"
   ]
  },
  {
   "cell_type": "markdown",
   "id": "passing-solid",
   "metadata": {},
   "source": [
    "*Modeling and Simulation in Python*\n",
    "\n",
    "Copyright 2021 Allen Downey\n",
    "\n",
    "License: [Creative Commons Attribution-NonCommercial-ShareAlike 4.0 International](https://creativecommons.org/licenses/by-nc-sa/4.0/)"
   ]
  },
  {
   "cell_type": "code",
   "execution_count": 1,
   "id": "broken-procedure",
   "metadata": {
    "tags": [
     "remove-cell"
    ]
   },
   "outputs": [],
   "source": [
    "# install Pint if necessary\n",
    "\n",
    "try:\n",
    "    import pint\n",
    "except ImportError:\n",
    "    !pip install pint"
   ]
  },
  {
   "cell_type": "code",
   "execution_count": 2,
   "id": "massive-thong",
   "metadata": {
    "tags": [
     "remove-cell"
    ]
   },
   "outputs": [],
   "source": [
    "# download modsim.py if necessary\n",
    "\n",
    "from os.path import exists\n",
    "\n",
    "filename = 'modsim.py'\n",
    "if not exists(filename):\n",
    "    from urllib.request import urlretrieve\n",
    "    url = 'https://raw.githubusercontent.com/AllenDowney/ModSim/main/'\n",
    "    local, _ = urlretrieve(url+filename, filename)\n",
    "    print('Downloaded ' + local)"
   ]
  },
  {
   "cell_type": "code",
   "execution_count": 3,
   "id": "experienced-junction",
   "metadata": {
    "tags": [
     "remove-cell"
    ]
   },
   "outputs": [],
   "source": [
    "# import functions from modsim\n",
    "\n",
    "from modsim import *"
   ]
  },
  {
   "cell_type": "markdown",
   "id": "processed-philosophy",
   "metadata": {},
   "source": [
    "## The glucose minimal model\n",
    "\n",
    "In the previous chapter we implemented the glucose minimal model using given parameters, but I didn't say where those parameters came from.\n",
    "\n",
    "In the repository for this book, you will find a notebook,\n",
    "`glucose.ipynb`, that shows how we can find the parameters that best fit the data.\n",
    "\n",
    "It uses a SciPy function called `leastsq`, which stands for \"least squares\"; that is, it finds the parameters that minimize the sum of squared differences between the results of the model and the data.\n",
    "\n",
    "You can think of `leastsq` as an optional tool for this book.  We won't use it in the text itself, but it appears in a few of the case studies.\n"
   ]
  },
  {
   "cell_type": "markdown",
   "id": "laughing-involvement",
   "metadata": {},
   "source": [
    "## The insulin minimal model\n",
    "\n",
    "Along with the glucose minimal model, Berman et al. developed an insulin minimal model, in which the concentration of insulin, $I$, is governed by this differential equation:\n",
    "\n",
    "$$\\frac{dI}{dt} = -k I(t) + \\gamma \\left[ G(t) - G_T \\right] t$$ \n",
    "\n",
    "where\n",
    "\n",
    "-   $k$ is a parameter that controls the rate of insulin disappearance\n",
    "    independent of blood glucose.\n",
    "\n",
    "-   $G(t)$ is the measured concentration of blood glucose at time $t$.\n",
    "\n",
    "-   $G_T$ is the glucose threshold; when blood glucose is above this\n",
    "    level, it triggers an increase in blood insulin.\n",
    "\n",
    "-   $\\gamma$ is a parameter that controls the rate of increase (or\n",
    "    decrease) in blood insulin when glucose is above (or below) $G_T$.\n",
    "\n",
    "The initial condition is $I(0) = I_0$. As in the glucose minimal model, we treat the initial condition as a parameter which we'll choose to fit the data."
   ]
  },
  {
   "cell_type": "markdown",
   "id": "interstate-gibson",
   "metadata": {},
   "source": [
    "The parameters of this model can be used to estimate $\\phi_1$ and\n",
    "$\\phi_2$, which are quantities that \"describe the sensitivity to glucose of the first and second phase pancreatic responsivity\". These quantities are related to the parameters as follows:\n",
    "\n",
    "$$\\phi_1 = \\frac{I_{max} - I_b}{k (G_0 - G_b)}$$\n",
    "\n",
    "$$\\phi_2 = \\gamma \\times 10^4$$ \n",
    "\n",
    "where $I_{max}$ is the maximum measured insulin level, and $I_b$ and $G_b$ are the basal levels of insulin and glucose.\n",
    "\n",
    "In the repository for this book, you will find a notebook,\n",
    "`insulin.ipynb`, that contains starter code for this case study. Use it to implement the insulin model, find the parameters that best fit the data, and estimate $\\phi_1$ and $\\phi_2$."
   ]
  },
  {
   "cell_type": "markdown",
   "id": "parallel-radical",
   "metadata": {},
   "source": [
    "## Low-Pass Filter\n",
    "\n",
    "The following circuit diagram (from <http://modsimpy.com/divider>) shows a low-pass filter built with one resistor and one capacitor.\n",
    "\n",
    "![Circuit diagram of a low-pass filter](https://github.com/AllenDowney/ModSim/raw/main/figs/RC_Divider.svg)\n",
    "\n",
    "A \"filter\" is a circuit takes a signal, $V_{in}$, as input and produces a signal, $V_{out}$, as output. In this context, a \"signal\" is a voltage that changes over time.\n",
    "\n",
    "A filter is \"low-pass\" if it allows low-frequency signals to pass from\n",
    "$V_{in}$ to $V_{out}$ unchanged, but it reduces the amplitude of\n",
    "high-frequency signals.\n",
    "\n",
    "By applying the laws of circuit analysis, we can derive a differential\n",
    "equation that describes the behavior of this system. By solving the\n",
    "differential equation, we can predict the effect of this circuit on any input signal.\n",
    "\n",
    "Suppose we are given $V_{in}$ and $V_{out}$ at a particular instant in\n",
    "time. By Ohm's law, which is a simple model of the behavior of\n",
    "resistors, the instantaneous current through the resistor is:\n",
    "\n",
    "$$I_R = (V_{in} - V_{out}) / R$$ \n",
    "\n",
    "where $R$ is resistance in ohms (Ω).\n",
    "\n",
    "Assuming that no current flows through the output of the circuit,\n",
    "Kirchhoff's current law implies that the current through the capacitor\n",
    "is: \n",
    "\n",
    "$$I_C = I_R$$ \n",
    "\n",
    "According to a simple model of the behavior of\n",
    "capacitors, current through the capacitor causes a change in the voltage across the capacitor: \n",
    "\n",
    "$$I_C = C \\frac{d V_{out}}{dt}$$ \n",
    "\n",
    "where $C$ is capacitance in farads (F). Combining these equations yields a differential equation for $V_{out}$:\n",
    "\n",
    "$$\\frac{d V_{out}}{dt} = \\frac{V_{in} - V_{out}}{R C}$$ \n",
    "\n",
    "In the repository for this book, you will find a notebook, `filter.ipynb`, which contains starter code for this case study. Follow the instructions to simulate the low-pass filter for input signals like this:\n",
    "\n",
    "$$V_{in}(t) = A \\cos (2 \\pi f t)$$ \n",
    "\n",
    "where $A$ is the amplitude of the input signal, say 5 V, and $f$ is the frequency of the signal in Hz.\n",
    "\n",
    "In the repository for this book, you will find a notebook,\n",
    "`filter.ipynb`, which contains starter code for this case study. Read\n",
    "the notebook, run the code, and work on the exercises."
   ]
  },
  {
   "cell_type": "markdown",
   "id": "entire-stations",
   "metadata": {},
   "source": [
    "## Thermal behavior of a wall\n",
    "\n",
    "This case study is based on a paper by Gori, et al[^2] that models the\n",
    "thermal behavior of a brick wall, with the goal of understanding the\n",
    "\"performance gap between the expected energy use of buildings and their measured energy use\".\n",
    "\n",
    "The following figure shows the scenario and their model of the wall:\n",
    "\n",
    "![Model of a wall as a series of thermal insulators](https://github.com/AllenDowney/ModSim/raw/main/figs/wall_model.png)\n",
    "\n",
    "On the interior and exterior surfaces of the wall, they measure\n",
    "temperature and heat flux over a period of three days. They model the\n",
    "wall using two thermal masses connected to the surfaces, and to each\n",
    "other, by thermal resistors.\n",
    "\n",
    "The primary methodology of the paper is a Bayesian method for inferring the parameters of the system (two thermal masses and three thermal resistances).\n",
    "\n",
    "The primary result is a comparison of two models: the one shown here\n",
    "with two thermal masses, and a simpler model with only one thermal mass. They find that the two-mass model is able to reproduce the measured fluxes substantially better.\n",
    "\n",
    "For this case study we will implement their model and run it with the\n",
    "estimated parameters from the paper, and then use `fit_leastsq` to see\n",
    "if we can find parameters that yield lower errors.\n",
    "\n",
    "In the repository for this book, you will find a notebook, `wall.ipynb` with the code and results for this case study.\n",
    "\n",
    "Gori, Marincioni, Biddulph, Elwell, \"Inferring the thermal resistance and effective thermal mass distribution of a wall from in situ measurements to characterise heat transfer at both the interior and exterior surfaces\", *Energy and Buildings*, Volume 135, pages 398-409, <http://modsimpy.com/wall2>."
   ]
  },
  {
   "cell_type": "markdown",
   "id": "described-trailer",
   "metadata": {},
   "source": [
    "The authors put their paper under a Creative Commons license, and\n",
    "make their data available at <http://modsimpy.com/wall>. I thank them\n",
    "for their commitment to open, reproducible science, which made this\n",
    "case study possible."
   ]
  },
  {
   "cell_type": "markdown",
   "id": "narrow-voice",
   "metadata": {},
   "source": [
    "## HIV\n",
    "\n",
    "TODO: Add the HIV model"
   ]
  },
  {
   "cell_type": "code",
   "execution_count": null,
   "id": "international-button",
   "metadata": {},
   "outputs": [],
   "source": []
  }
 ],
 "metadata": {
  "kernelspec": {
   "display_name": "Python 3",
   "language": "python",
   "name": "python3"
  },
  "language_info": {
   "codemirror_mode": {
    "name": "ipython",
    "version": 3
   },
   "file_extension": ".py",
   "mimetype": "text/x-python",
   "name": "python",
   "nbconvert_exporter": "python",
   "pygments_lexer": "ipython3",
   "version": "3.9.1"
  }
 },
 "nbformat": 4,
 "nbformat_minor": 5
}
