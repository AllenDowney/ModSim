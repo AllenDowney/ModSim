{
 "cells": [
  {
   "cell_type": "markdown",
   "id": "electric-netherlands",
   "metadata": {},
   "source": [
    "# Chapter 18"
   ]
  },
  {
   "cell_type": "markdown",
   "id": "tribal-blame",
   "metadata": {
    "tags": [
     "remove-cell"
    ]
   },
   "source": [
    "*Modeling and Simulation in Python*\n",
    "\n",
    "Copyright 2021 Allen Downey\n",
    "\n",
    "License: [Creative Commons Attribution-NonCommercial-ShareAlike 4.0 International](https://creativecommons.org/licenses/by-nc-sa/4.0/)"
   ]
  },
  {
   "cell_type": "code",
   "execution_count": 1,
   "id": "broken-procedure",
   "metadata": {
    "tags": [
     "remove-cell"
    ]
   },
   "outputs": [],
   "source": [
    "# install Pint if necessary\n",
    "\n",
    "try:\n",
    "    import pint\n",
    "except ImportError:\n",
    "    !pip install pint"
   ]
  },
  {
   "cell_type": "code",
   "execution_count": 2,
   "id": "massive-thong",
   "metadata": {
    "tags": [
     "remove-cell"
    ]
   },
   "outputs": [],
   "source": [
    "# download modsim.py if necessary\n",
    "\n",
    "from os.path import exists\n",
    "\n",
    "filename = 'modsim.py'\n",
    "if not exists(filename):\n",
    "    from urllib.request import urlretrieve\n",
    "    url = 'https://raw.githubusercontent.com/AllenDowney/ModSim/main/'\n",
    "    local, _ = urlretrieve(url+filename, filename)\n",
    "    print('Downloaded ' + local)"
   ]
  },
  {
   "cell_type": "code",
   "execution_count": 3,
   "id": "experienced-junction",
   "metadata": {
    "tags": [
     "remove-cell"
    ]
   },
   "outputs": [],
   "source": [
    "# import functions from modsim\n",
    "\n",
    "from modsim import *"
   ]
  },
  {
   "cell_type": "markdown",
   "id": "original-photographer",
   "metadata": {},
   "source": [
    "### Code from the previous chapter\n",
    "\n",
    "Read the data."
   ]
  },
  {
   "cell_type": "code",
   "execution_count": 2,
   "id": "fewer-weather",
   "metadata": {},
   "outputs": [],
   "source": [
    "import os\n",
    "\n",
    "filename = 'glucose_insulin.csv'\n",
    "\n",
    "if not os.path.exists(filename):\n",
    "    !wget https://raw.githubusercontent.com/AllenDowney/ModSimPy/master/data/glucose_insulin.csv"
   ]
  },
  {
   "cell_type": "code",
   "execution_count": 3,
   "id": "computational-border",
   "metadata": {},
   "outputs": [],
   "source": [
    "from pandas import read_csv\n",
    "\n",
    "data = read_csv(filename, index_col='time');"
   ]
  },
  {
   "cell_type": "markdown",
   "id": "unique-domestic",
   "metadata": {},
   "source": [
    "Interpolate the insulin data."
   ]
  },
  {
   "cell_type": "code",
   "execution_count": 4,
   "id": "oriented-translation",
   "metadata": {},
   "outputs": [],
   "source": [
    "from modsim import interpolate\n",
    "\n",
    "I = interpolate(data.insulin)"
   ]
  },
  {
   "cell_type": "markdown",
   "id": "detected-welsh",
   "metadata": {},
   "source": [
    "In this chapter, we implement the glucose minimal model described in the previous chapter. We'll start with `run_simulation`, which solves\n",
    "differential equations using discrete time steps. This method works well enough for many applications, but it is not very accurate. In this chapter we explore a better option: using an **ODE solver**."
   ]
  },
  {
   "cell_type": "markdown",
   "id": "collective-orleans",
   "metadata": {},
   "source": [
    "## Implementation\n",
    "\n",
    "To get started, let's assume that the parameters of the model are known.\n",
    "We'll implement the model and use it to generate time series for `G` and `X`. Then we'll see how to find the parameters that generate the series that best fits the data."
   ]
  },
  {
   "cell_type": "markdown",
   "id": "polished-burner",
   "metadata": {},
   "source": [
    "We can pass `params` and `data` to `make_system`:"
   ]
  },
  {
   "cell_type": "code",
   "execution_count": 5,
   "id": "substantial-literacy",
   "metadata": {},
   "outputs": [],
   "source": [
    "from modsim import State, System\n",
    "\n",
    "def make_system(params, data):\n",
    "    G0, k1, k2, k3 = params\n",
    "    \n",
    "    Gb = data.glucose[0]\n",
    "    Ib = data.insulin[0]\n",
    "    I = interpolate(data.insulin)\n",
    "    \n",
    "    t_0 = data.index[0]\n",
    "    t_end = data.index[-1]\n",
    "    \n",
    "    init = State(G=G0, X=0)\n",
    "    \n",
    "    return System(params=params, init=init, \n",
    "                  Gb=Gb, Ib=Ib, I=I,\n",
    "                  t_0=t_0, t_end=t_end, dt=2)"
   ]
  },
  {
   "cell_type": "markdown",
   "id": "afraid-friendly",
   "metadata": {},
   "source": [
    "`make_system` uses the measurements at `t=0` as the basal levels, `Gb`\n",
    "and `Ib`. It gets `t_0` and `t_end` from the data. And it uses the\n",
    "parameter `G0` as the initial value for `G`. Then it packs everything\n",
    "into a `System` object."
   ]
  },
  {
   "cell_type": "markdown",
   "id": "employed-japan",
   "metadata": {},
   "source": [
    "Taking advantage of estimates from prior work, we'll start with these\n",
    "values:"
   ]
  },
  {
   "cell_type": "code",
   "execution_count": 6,
   "id": "legislative-richards",
   "metadata": {},
   "outputs": [],
   "source": [
    "#        G0,  k1,   k2,   k3\n",
    "params = 290, 0.03, 0.02, 1e-05\n",
    "system = make_system(params, data)"
   ]
  },
  {
   "cell_type": "markdown",
   "id": "stupid-retro",
   "metadata": {},
   "source": [
    "Here's the update function:"
   ]
  },
  {
   "cell_type": "code",
   "execution_count": 7,
   "id": "roman-archive",
   "metadata": {},
   "outputs": [],
   "source": [
    "def update_func(state, t, system):\n",
    "    G, X = state\n",
    "    G0, k1, k2, k3 = system.params \n",
    "    I, Ib, Gb = system.I, system.Ib, system.Gb\n",
    "    dt = system.dt\n",
    "        \n",
    "    dGdt = -k1 * (G - Gb) - X*G\n",
    "    dXdt = k3 * (I(t) - Ib) - k2 * X\n",
    "    \n",
    "    G += dGdt * dt\n",
    "    X += dXdt * dt\n",
    "\n",
    "    return State(G=G, X=X)"
   ]
  },
  {
   "cell_type": "markdown",
   "id": "basic-subdivision",
   "metadata": {},
   "source": [
    "As usual, the update function takes a `State` object, a time, and a\n",
    "`System` object as parameters. The first line uses multiple assignment\n",
    "to extract the current values of `G` and `X`.\n",
    "\n",
    "The following lines unpack the parameters we need from the `System`\n",
    "object.\n",
    "\n",
    "Computing the derivatives `dGdt` and `dXdt` is straightforward; we just\n",
    "translate the equations from math notation to Python.\n",
    "\n",
    "Then, to perform the update, we multiply each derivative by the discrete\n",
    "time step `dt`, which is 2 min in this example. The return value is a\n",
    "`State` object with the new values of `G` and `X`.\n",
    "\n",
    "Before running the simulation, it is a good idea to run the update\n",
    "function with the initial conditions:"
   ]
  },
  {
   "cell_type": "code",
   "execution_count": 8,
   "id": "sapphire-shannon",
   "metadata": {},
   "outputs": [
    {
     "data": {
      "text/plain": [
       "G    278.12\n",
       "X      0.00\n",
       "dtype: float64"
      ]
     },
     "execution_count": 8,
     "metadata": {},
     "output_type": "execute_result"
    }
   ],
   "source": [
    "update_func(system.init, system.t_0, system)"
   ]
  },
  {
   "cell_type": "markdown",
   "id": "strange-citation",
   "metadata": {},
   "source": [
    "If it runs without errors and there is nothing obviously wrong with the\n",
    "results, we are ready to run the simulation. We'll use this version of\n",
    "`run_simulation`, which is very similar to previous versions:"
   ]
  },
  {
   "cell_type": "code",
   "execution_count": 9,
   "id": "willing-masters",
   "metadata": {},
   "outputs": [],
   "source": [
    "from modsim import linrange, TimeFrame\n",
    "\n",
    "def run_simulation(system, update_func):\n",
    "    init = system.init\n",
    "    t_0, t_end, dt = system.t_0, system.t_end, system.dt\n",
    "    \n",
    "    t_array = linrange(system.t_0, system.t_end, system.dt)\n",
    "    n = len(t_array)\n",
    "    \n",
    "    frame = TimeFrame(index=t_array, columns=init.index)\n",
    "    frame.iloc[0] = system.init\n",
    "    \n",
    "    for i in range(n-1):\n",
    "        t = t_array[i]\n",
    "        state = frame.iloc[i]\n",
    "        frame.iloc[i+1] = update_func(state, t, system)\n",
    "    \n",
    "    return frame"
   ]
  },
  {
   "cell_type": "markdown",
   "id": "musical-loading",
   "metadata": {},
   "source": [
    "We can run it like this:"
   ]
  },
  {
   "cell_type": "code",
   "execution_count": 10,
   "id": "international-germany",
   "metadata": {},
   "outputs": [
    {
     "data": {
      "text/html": [
       "<div>\n",
       "<style scoped>\n",
       "    .dataframe tbody tr th:only-of-type {\n",
       "        vertical-align: middle;\n",
       "    }\n",
       "\n",
       "    .dataframe tbody tr th {\n",
       "        vertical-align: top;\n",
       "    }\n",
       "\n",
       "    .dataframe thead th {\n",
       "        text-align: right;\n",
       "    }\n",
       "</style>\n",
       "<table border=\"1\" class=\"dataframe\">\n",
       "  <thead>\n",
       "    <tr style=\"text-align: right;\">\n",
       "      <th></th>\n",
       "      <th>G</th>\n",
       "      <th>X</th>\n",
       "    </tr>\n",
       "  </thead>\n",
       "  <tbody>\n",
       "    <tr>\n",
       "      <th>0.0</th>\n",
       "      <td>290</td>\n",
       "      <td>0</td>\n",
       "    </tr>\n",
       "    <tr>\n",
       "      <th>2.0</th>\n",
       "      <td>278.12</td>\n",
       "      <td>0.0</td>\n",
       "    </tr>\n",
       "    <tr>\n",
       "      <th>4.0</th>\n",
       "      <td>266.9528</td>\n",
       "      <td>0.0003</td>\n",
       "    </tr>\n",
       "    <tr>\n",
       "      <th>6.0</th>\n",
       "      <td>256.29546</td>\n",
       "      <td>0.002668</td>\n",
       "    </tr>\n",
       "    <tr>\n",
       "      <th>8.0</th>\n",
       "      <td>245.07014</td>\n",
       "      <td>0.004041</td>\n",
       "    </tr>\n",
       "  </tbody>\n",
       "</table>\n",
       "</div>"
      ],
      "text/plain": [
       "             G         X\n",
       "0.0        290         0\n",
       "2.0     278.12       0.0\n",
       "4.0   266.9528    0.0003\n",
       "6.0  256.29546  0.002668\n",
       "8.0  245.07014  0.004041"
      ]
     },
     "execution_count": 10,
     "metadata": {},
     "output_type": "execute_result"
    }
   ],
   "source": [
    "results = run_simulation(system, update_func)\n",
    "results.head()"
   ]
  },
  {
   "cell_type": "code",
   "execution_count": 11,
   "id": "liked-asset",
   "metadata": {},
   "outputs": [
    {
     "data": {
      "image/png": "[encoded data removed]",
      "text/plain": [
       "<Figure size 432x288 with 1 Axes>"
      ]
     },
     "metadata": {
      "needs_background": "light"
     },
     "output_type": "display_data"
    }
   ],
   "source": [
    "from modsim import decorate\n",
    "\n",
    "results.G.plot(style='-', label='simulation')\n",
    "data.glucose.plot(style='o', color='C0', label='glucose data')\n",
    "decorate(ylabel='Concentration (mg/dL)')"
   ]
  },
  {
   "cell_type": "code",
   "execution_count": 12,
   "id": "damaged-protection",
   "metadata": {},
   "outputs": [
    {
     "data": {
      "image/png": "[encoded data removed]",
      "text/plain": [
       "<Figure size 432x288 with 1 Axes>"
      ]
     },
     "metadata": {
      "needs_background": "light"
     },
     "output_type": "display_data"
    }
   ],
   "source": [
    "results.X.plot(color='C1', label='remote insulin')\n",
    "\n",
    "decorate(xlabel='Time (min)', \n",
    "         ylabel='Concentration (arbitrary units)')"
   ]
  },
  {
   "cell_type": "markdown",
   "id": "stopped-excuse",
   "metadata": {},
   "source": [
    " shows the results. The top plot shows\n",
    "simulated glucose levels from the model along with the measured data.\n",
    "The bottom plot shows simulated insulin levels in tissue fluid, which is in unspecified units, and not to be confused with measured insulin\n",
    "levels in the blood.\n",
    "\n",
    "With the parameters I chose, the model fits the data well, except for\n",
    "the first few data points, where we don't expect the model to be\n",
    "accurate."
   ]
  },
  {
   "cell_type": "markdown",
   "id": "spatial-scholar",
   "metadata": {},
   "source": [
    "## Solving differential equations\n",
    "\n",
    "So far we have solved differential equations by rewriting them as\n",
    "difference equations. In the current example, the differential equations are: \n",
    "\n",
    "$$\\frac{dG}{dt} = -k_1 \\left[ G(t) - G_b \\right] - X(t) G(t)$$\n",
    "\n",
    "$$\\frac{dX}{dt} = k_3 \\left[I(t) - I_b \\right] - k_2 X(t)$$ \n",
    "\n",
    "If we multiply both sides by $dt$, we have:\n",
    "\n",
    "$$dG = \\left[ -k_1 \\left[ G(t) - G_b \\right] - X(t) G(t) \\right] dt$$\n",
    "\n",
    "$$dX = \\left[ k_3 \\left[I(t) - I_b \\right] - k_2 X(t) \\right] dt$$ \n",
    "\n",
    "When $dt$ is very small, or more precisely **infinitesimal**, this equation is exact. But in our simulations, $dt$ is 2 min, which is not very small. In effect, the simulations assume that the derivatives $dG/dt$ and $dX/dt$ are constant during each 2 min time step."
   ]
  },
  {
   "cell_type": "markdown",
   "id": "underlying-grave",
   "metadata": {},
   "source": [
    "This method, evaluating derivatives at discrete time steps and assuming that they are constant in between, is called **Euler's method** (see <http://modsimpy.com/euler>).\n",
    "\n",
    "Euler's method is good enough for some simple problems, but it is not\n",
    "very accurate. Other methods are more accurate, but many of them are\n",
    "substantially more complicated.\n",
    "\n",
    "One of the best simple methods is called **Ralston's method**. The\n",
    "ModSim library provides a function called `run_ode_solver` that\n",
    "implements it.\n",
    "\n",
    "The \"ODE\" in `run_ode_solver` stands for \"ordinary differential\n",
    "equation\". The equations we are solving are \"ordinary\" because all the\n",
    "derivatives are with respect to the same variable; in other words, there are no partial derivatives.\n",
    "\n",
    "To use `run_ode_solver`, we have to provide a \"slope function\", like\n",
    "this:"
   ]
  },
  {
   "cell_type": "code",
   "execution_count": 13,
   "id": "expected-collapse",
   "metadata": {},
   "outputs": [],
   "source": [
    "def slope_func(t, state, system):\n",
    "    G, X = state\n",
    "    G0, k1, k2, k3 = system.params \n",
    "    I, Ib, Gb = system.I, system.Ib, system.Gb\n",
    "        \n",
    "    dGdt = -k1 * (G - Gb) - X*G\n",
    "    dXdt = k3 * (I(t) - Ib) - k2 * X\n",
    "    \n",
    "    return dGdt, dXdt"
   ]
  },
  {
   "cell_type": "markdown",
   "id": "modified-surname",
   "metadata": {},
   "source": [
    "`slope_func` is similar to `update_func`; in fact, it takes the same\n",
    "parameters in the same order. But `slope_func` is simpler, because all\n",
    "we have to do is compute the derivatives, that is, the slopes. We don't\n",
    "have to do the updates; `run_ode_solver` does them for us.\n",
    "\n",
    "Now we can call `run_ode_solver` like this:"
   ]
  },
  {
   "cell_type": "code",
   "execution_count": 14,
   "id": "industrial-focus",
   "metadata": {},
   "outputs": [],
   "source": [
    "from modsim import run_solve_ivp\n",
    "\n",
    "results2, details = run_solve_ivp(system, slope_func)\n",
    "details"
   ]
  },
  {
   "cell_type": "markdown",
   "id": "noticed-material",
   "metadata": {},
   "source": [
    "`run_ode_solver` is similar to `run_simulation`: it takes a `System`\n",
    "object and a slope function as parameters. It returns two values: a\n",
    "`TimeFrame` with the solution and a `ModSimSeries` with additional\n",
    "information.\n",
    "\n",
    "A `ModSimSeries` is like a `System` or `State` object; it contains a set\n",
    "of variables and their values. The `ModSimSeries` from `run_ode_solver`,\n",
    "which we assign to `details`, contains information about how the solver\n",
    "ran, including a success code and diagnostic message.\n",
    "\n",
    "The `TimeFrame`, which we assign to `results`, has one row for each time\n",
    "step and one column for each state variable. In this example, the rows\n",
    "are time from 0 to 182 minutes; the columns are the state variables, `G`\n",
    "and `X`."
   ]
  },
  {
   "cell_type": "code",
   "execution_count": 16,
   "id": "peripheral-commission",
   "metadata": {},
   "outputs": [
    {
     "data": {
      "image/png": "[encoded data removed]",
      "text/plain": [
       "<Figure size 432x288 with 1 Axes>"
      ]
     },
     "metadata": {
      "needs_background": "light"
     },
     "output_type": "display_data"
    }
   ],
   "source": [
    "from modsim import decorate\n",
    "\n",
    "results2.G.plot(style='-', label='simulation')\n",
    "data.glucose.plot(style='o', color='C0', label='glucose data')\n",
    "decorate(ylabel='Concentration (mg/dL)')"
   ]
  },
  {
   "cell_type": "code",
   "execution_count": 17,
   "id": "happy-guess",
   "metadata": {},
   "outputs": [
    {
     "data": {
      "image/png": "[encoded data removed]",
      "text/plain": [
       "<Figure size 432x288 with 1 Axes>"
      ]
     },
     "metadata": {
      "needs_background": "light"
     },
     "output_type": "display_data"
    }
   ],
   "source": [
    "results2.X.plot(color='C1', label='remote insulin')\n",
    "\n",
    "decorate(xlabel='Time (min)', \n",
    "         ylabel='Concentration (arbitrary units)')"
   ]
  },
  {
   "cell_type": "markdown",
   "id": "corrected-indonesia",
   "metadata": {},
   "source": [
    "shows the results from `run_simulation` and\n",
    "`run_ode_solver`. The difference between them is barely visible.\n",
    "\n",
    "We can compute the percentage differences like this:"
   ]
  },
  {
   "cell_type": "code",
   "execution_count": 18,
   "id": "disciplinary-washington",
   "metadata": {},
   "outputs": [
    {
     "data": {
      "text/plain": [
       "0.004442701427073649"
      ]
     },
     "execution_count": 18,
     "metadata": {},
     "output_type": "execute_result"
    }
   ],
   "source": [
    "diff = results.G - results2.G\n",
    "percent_diff = diff / results2.G * 100\n",
    "percent_diff.abs().max()"
   ]
  },
  {
   "cell_type": "markdown",
   "id": "electronic-navigation",
   "metadata": {},
   "source": [
    "The largest percentage difference is less than 2%, which is small enough that it probably doesn't matter in practice. "
   ]
  },
  {
   "cell_type": "markdown",
   "id": "prostate-psychology",
   "metadata": {},
   "source": [
    "## Summary\n",
    "\n",
    "You might be interested in this article about [people making a DIY artificial pancreas](https://www.bloomberg.com/news/features/2018-08-08/the-250-biohack-that-s-revolutionizing-life-with-diabetes)."
   ]
  },
  {
   "cell_type": "markdown",
   "id": "unusual-springer",
   "metadata": {},
   "source": [
    "## Exercises"
   ]
  },
  {
   "cell_type": "markdown",
   "id": "substantial-grain",
   "metadata": {},
   "source": [
    "**Exercise:**  Our solution to the differential equations is only approximate because we used a finite step size, `dt=2` minutes.\n",
    "\n",
    "If we make the step size smaller, we expect the solution to be more accurate.  Run the simulation with `dt=1` and compare the results.  What is the largest relative error between the two solutions?"
   ]
  },
  {
   "cell_type": "code",
   "execution_count": 25,
   "id": "documented-float",
   "metadata": {},
   "outputs": [],
   "source": [
    "# Solution\n",
    "\n",
    "system.dt = 1\n",
    "results3 = run_simulation(system, update_func)"
   ]
  },
  {
   "cell_type": "code",
   "execution_count": 26,
   "id": "prompt-activity",
   "metadata": {},
   "outputs": [
    {
     "data": {
      "image/png": "[encoded data removed]",
      "text/plain": [
       "<Figure size 432x288 with 1 Axes>"
      ]
     },
     "metadata": {
      "needs_background": "light"
     },
     "output_type": "display_data"
    }
   ],
   "source": [
    "# Solution\n",
    "\n",
    "results2.G.plot(style='C2--', label='run_ode_solver (dt=2)')\n",
    "results3.G.plot(style='C3:', label='run_ode_solver (dt=1)')\n",
    "\n",
    "decorate(xlabel='Time (m)', ylabel='mg/dL')"
   ]
  },
  {
   "cell_type": "code",
   "execution_count": 27,
   "id": "developed-collaboration",
   "metadata": {},
   "outputs": [],
   "source": [
    "# Solution\n",
    "\n",
    "diff = (results2.G - results3.G).dropna()\n",
    "percent_diff = diff / results2.G * 100"
   ]
  },
  {
   "cell_type": "code",
   "execution_count": 28,
   "id": "thermal-morris",
   "metadata": {},
   "outputs": [
    {
     "data": {
      "text/plain": [
       "0.0429379844941765"
      ]
     },
     "execution_count": 28,
     "metadata": {},
     "output_type": "execute_result"
    }
   ],
   "source": [
    "# Solution\n",
    "\n",
    "max(abs(percent_diff))"
   ]
  },
  {
   "cell_type": "markdown",
   "id": "alpha-configuration",
   "metadata": {},
   "source": [
    "## Under the hood\n",
    "\n",
    "Here's the source code for `run_solve_ivp` if you'd like to know how it works.\n",
    "\n",
    "[RK45](https://en.wikipedia.org/wiki/List_of_Runge–Kutta_methods)."
   ]
  },
  {
   "cell_type": "markdown",
   "id": "democratic-allocation",
   "metadata": {},
   "source": []
  },
  {
   "cell_type": "code",
   "execution_count": null,
   "id": "russian-qualification",
   "metadata": {},
   "outputs": [],
   "source": []
  }
 ],
 "metadata": {
  "kernelspec": {
   "display_name": "Python 3",
   "language": "python",
   "name": "python3"
  },
  "language_info": {
   "codemirror_mode": {
    "name": "ipython",
    "version": 3
   },
   "file_extension": ".py",
   "mimetype": "text/x-python",
   "name": "python",
   "nbconvert_exporter": "python",
   "pygments_lexer": "ipython3",
   "version": "3.7.9"
  }
 },
 "nbformat": 4,
 "nbformat_minor": 5
}
